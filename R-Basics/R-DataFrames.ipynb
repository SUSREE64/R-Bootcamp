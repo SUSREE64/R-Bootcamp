{
 "cells": [
  {
   "cell_type": "markdown",
   "metadata": {},
   "source": [
    "#### R-Data Frames- Basics"
   ]
  },
  {
   "cell_type": "markdown",
   "metadata": {},
   "source": [
    "#### There are many data sets built in that ship with R environment. data() shows them the list of all the datasets available in R"
   ]
  },
  {
   "cell_type": "code",
   "execution_count": 1,
   "metadata": {},
   "outputs": [],
   "source": [
    "data()"
   ]
  },
  {
   "cell_type": "code",
   "execution_count": 2,
   "metadata": {
    "scrolled": false
   },
   "outputs": [
    {
     "data": {
      "text/html": [
       "<table>\n",
       "<thead><tr><th></th><th scope=col>Population</th><th scope=col>Income</th><th scope=col>Illiteracy</th><th scope=col>Life Exp</th><th scope=col>Murder</th><th scope=col>HS Grad</th><th scope=col>Frost</th><th scope=col>Area</th></tr></thead>\n",
       "<tbody>\n",
       "\t<tr><th scope=row>Alabama</th><td> 3615 </td><td>3624  </td><td>2.1   </td><td>69.05 </td><td>15.1  </td><td>41.3  </td><td> 20   </td><td> 50708</td></tr>\n",
       "\t<tr><th scope=row>Alaska</th><td>  365 </td><td>6315  </td><td>1.5   </td><td>69.31 </td><td>11.3  </td><td>66.7  </td><td>152   </td><td>566432</td></tr>\n",
       "\t<tr><th scope=row>Arizona</th><td> 2212 </td><td>4530  </td><td>1.8   </td><td>70.55 </td><td> 7.8  </td><td>58.1  </td><td> 15   </td><td>113417</td></tr>\n",
       "\t<tr><th scope=row>Arkansas</th><td> 2110 </td><td>3378  </td><td>1.9   </td><td>70.66 </td><td>10.1  </td><td>39.9  </td><td> 65   </td><td> 51945</td></tr>\n",
       "\t<tr><th scope=row>California</th><td>21198 </td><td>5114  </td><td>1.1   </td><td>71.71 </td><td>10.3  </td><td>62.6  </td><td> 20   </td><td>156361</td></tr>\n",
       "\t<tr><th scope=row>Colorado</th><td> 2541 </td><td>4884  </td><td>0.7   </td><td>72.06 </td><td> 6.8  </td><td>63.9  </td><td>166   </td><td>103766</td></tr>\n",
       "</tbody>\n",
       "</table>\n"
      ],
      "text/latex": [
       "\\begin{tabular}{r|llllllll}\n",
       "  & Population & Income & Illiteracy & Life Exp & Murder & HS Grad & Frost & Area\\\\\n",
       "\\hline\n",
       "\tAlabama &  3615  & 3624   & 2.1    & 69.05  & 15.1   & 41.3   &  20    &  50708\\\\\n",
       "\tAlaska &   365  & 6315   & 1.5    & 69.31  & 11.3   & 66.7   & 152    & 566432\\\\\n",
       "\tArizona &  2212  & 4530   & 1.8    & 70.55  &  7.8   & 58.1   &  15    & 113417\\\\\n",
       "\tArkansas &  2110  & 3378   & 1.9    & 70.66  & 10.1   & 39.9   &  65    &  51945\\\\\n",
       "\tCalifornia & 21198  & 5114   & 1.1    & 71.71  & 10.3   & 62.6   &  20    & 156361\\\\\n",
       "\tColorado &  2541  & 4884   & 0.7    & 72.06  &  6.8   & 63.9   & 166    & 103766\\\\\n",
       "\\end{tabular}\n"
      ],
      "text/markdown": [
       "\n",
       "| <!--/--> | Population | Income | Illiteracy | Life Exp | Murder | HS Grad | Frost | Area |\n",
       "|---|---|---|---|---|---|---|---|---|\n",
       "| Alabama |  3615  | 3624   | 2.1    | 69.05  | 15.1   | 41.3   |  20    |  50708 |\n",
       "| Alaska |   365  | 6315   | 1.5    | 69.31  | 11.3   | 66.7   | 152    | 566432 |\n",
       "| Arizona |  2212  | 4530   | 1.8    | 70.55  |  7.8   | 58.1   |  15    | 113417 |\n",
       "| Arkansas |  2110  | 3378   | 1.9    | 70.66  | 10.1   | 39.9   |  65    |  51945 |\n",
       "| California | 21198  | 5114   | 1.1    | 71.71  | 10.3   | 62.6   |  20    | 156361 |\n",
       "| Colorado |  2541  | 4884   | 0.7    | 72.06  |  6.8   | 63.9   | 166    | 103766 |\n",
       "\n"
      ],
      "text/plain": [
       "           Population Income Illiteracy Life Exp Murder HS Grad Frost Area  \n",
       "Alabama     3615      3624   2.1        69.05    15.1   41.3     20    50708\n",
       "Alaska       365      6315   1.5        69.31    11.3   66.7    152   566432\n",
       "Arizona     2212      4530   1.8        70.55     7.8   58.1     15   113417\n",
       "Arkansas    2110      3378   1.9        70.66    10.1   39.9     65    51945\n",
       "California 21198      5114   1.1        71.71    10.3   62.6     20   156361\n",
       "Colorado    2541      4884   0.7        72.06     6.8   63.9    166   103766"
      ]
     },
     "metadata": {},
     "output_type": "display_data"
    }
   ],
   "source": [
    "head(state.x77) # head function shows the data set top 6 rows "
   ]
  },
  {
   "cell_type": "code",
   "execution_count": 3,
   "metadata": {},
   "outputs": [
    {
     "data": {
      "text/html": [
       "<table>\n",
       "<thead><tr><th></th><th scope=col>Population</th><th scope=col>Income</th><th scope=col>Illiteracy</th><th scope=col>Life Exp</th><th scope=col>Murder</th><th scope=col>HS Grad</th><th scope=col>Frost</th><th scope=col>Area</th></tr></thead>\n",
       "<tbody>\n",
       "\t<tr><th scope=row>Vermont</th><td> 472 </td><td>3907 </td><td>0.6  </td><td>71.64</td><td>5.5  </td><td>57.1 </td><td>168  </td><td> 9267</td></tr>\n",
       "\t<tr><th scope=row>Virginia</th><td>4981 </td><td>4701 </td><td>1.4  </td><td>70.08</td><td>9.5  </td><td>47.8 </td><td> 85  </td><td>39780</td></tr>\n",
       "\t<tr><th scope=row>Washington</th><td>3559 </td><td>4864 </td><td>0.6  </td><td>71.72</td><td>4.3  </td><td>63.5 </td><td> 32  </td><td>66570</td></tr>\n",
       "\t<tr><th scope=row>West Virginia</th><td>1799 </td><td>3617 </td><td>1.4  </td><td>69.48</td><td>6.7  </td><td>41.6 </td><td>100  </td><td>24070</td></tr>\n",
       "\t<tr><th scope=row>Wisconsin</th><td>4589 </td><td>4468 </td><td>0.7  </td><td>72.48</td><td>3.0  </td><td>54.5 </td><td>149  </td><td>54464</td></tr>\n",
       "\t<tr><th scope=row>Wyoming</th><td> 376 </td><td>4566 </td><td>0.6  </td><td>70.29</td><td>6.9  </td><td>62.9 </td><td>173  </td><td>97203</td></tr>\n",
       "</tbody>\n",
       "</table>\n"
      ],
      "text/latex": [
       "\\begin{tabular}{r|llllllll}\n",
       "  & Population & Income & Illiteracy & Life Exp & Murder & HS Grad & Frost & Area\\\\\n",
       "\\hline\n",
       "\tVermont &  472  & 3907  & 0.6   & 71.64 & 5.5   & 57.1  & 168   &  9267\\\\\n",
       "\tVirginia & 4981  & 4701  & 1.4   & 70.08 & 9.5   & 47.8  &  85   & 39780\\\\\n",
       "\tWashington & 3559  & 4864  & 0.6   & 71.72 & 4.3   & 63.5  &  32   & 66570\\\\\n",
       "\tWest Virginia & 1799  & 3617  & 1.4   & 69.48 & 6.7   & 41.6  & 100   & 24070\\\\\n",
       "\tWisconsin & 4589  & 4468  & 0.7   & 72.48 & 3.0   & 54.5  & 149   & 54464\\\\\n",
       "\tWyoming &  376  & 4566  & 0.6   & 70.29 & 6.9   & 62.9  & 173   & 97203\\\\\n",
       "\\end{tabular}\n"
      ],
      "text/markdown": [
       "\n",
       "| <!--/--> | Population | Income | Illiteracy | Life Exp | Murder | HS Grad | Frost | Area |\n",
       "|---|---|---|---|---|---|---|---|---|\n",
       "| Vermont |  472  | 3907  | 0.6   | 71.64 | 5.5   | 57.1  | 168   |  9267 |\n",
       "| Virginia | 4981  | 4701  | 1.4   | 70.08 | 9.5   | 47.8  |  85   | 39780 |\n",
       "| Washington | 3559  | 4864  | 0.6   | 71.72 | 4.3   | 63.5  |  32   | 66570 |\n",
       "| West Virginia | 1799  | 3617  | 1.4   | 69.48 | 6.7   | 41.6  | 100   | 24070 |\n",
       "| Wisconsin | 4589  | 4468  | 0.7   | 72.48 | 3.0   | 54.5  | 149   | 54464 |\n",
       "| Wyoming |  376  | 4566  | 0.6   | 70.29 | 6.9   | 62.9  | 173   | 97203 |\n",
       "\n"
      ],
      "text/plain": [
       "              Population Income Illiteracy Life Exp Murder HS Grad Frost Area \n",
       "Vermont        472       3907   0.6        71.64    5.5    57.1    168    9267\n",
       "Virginia      4981       4701   1.4        70.08    9.5    47.8     85   39780\n",
       "Washington    3559       4864   0.6        71.72    4.3    63.5     32   66570\n",
       "West Virginia 1799       3617   1.4        69.48    6.7    41.6    100   24070\n",
       "Wisconsin     4589       4468   0.7        72.48    3.0    54.5    149   54464\n",
       "Wyoming        376       4566   0.6        70.29    6.9    62.9    173   97203"
      ]
     },
     "metadata": {},
     "output_type": "display_data"
    }
   ],
   "source": [
    "tail(state.x77) # tail function shows the last 6 rows"
   ]
  },
  {
   "cell_type": "code",
   "execution_count": 4,
   "metadata": {},
   "outputs": [
    {
     "data": {
      "text/html": [
       "'matrix'"
      ],
      "text/latex": [
       "'matrix'"
      ],
      "text/markdown": [
       "'matrix'"
      ],
      "text/plain": [
       "[1] \"matrix\""
      ]
     },
     "metadata": {},
     "output_type": "display_data"
    }
   ],
   "source": [
    "# check the type of the dataset\n",
    "class(state.x77)"
   ]
  },
  {
   "cell_type": "code",
   "execution_count": 5,
   "metadata": {},
   "outputs": [],
   "source": [
    "df <- state.x77"
   ]
  },
  {
   "cell_type": "code",
   "execution_count": 6,
   "metadata": {},
   "outputs": [],
   "source": [
    "# changing the matrix type to dataframe type\n",
    "df <- data.frame(df)"
   ]
  },
  {
   "cell_type": "code",
   "execution_count": 7,
   "metadata": {},
   "outputs": [
    {
     "data": {
      "text/html": [
       "'data.frame'"
      ],
      "text/latex": [
       "'data.frame'"
      ],
      "text/markdown": [
       "'data.frame'"
      ],
      "text/plain": [
       "[1] \"data.frame\""
      ]
     },
     "metadata": {},
     "output_type": "display_data"
    }
   ],
   "source": [
    "class(df)"
   ]
  },
  {
   "cell_type": "markdown",
   "metadata": {},
   "source": [
    "#### To explore the data frame"
   ]
  },
  {
   "cell_type": "code",
   "execution_count": 8,
   "metadata": {},
   "outputs": [
    {
     "data": {
      "text/html": [
       "<table>\n",
       "<thead><tr><th></th><th scope=col>Population</th><th scope=col>Income</th><th scope=col>Illiteracy</th><th scope=col>Life.Exp</th><th scope=col>Murder</th><th scope=col>HS.Grad</th><th scope=col>Frost</th><th scope=col>Area</th></tr></thead>\n",
       "<tbody>\n",
       "\t<tr><th scope=row>Alabama</th><td>3615  </td><td>3624  </td><td>2.1   </td><td>69.05 </td><td>15.1  </td><td>41.3  </td><td> 20   </td><td> 50708</td></tr>\n",
       "\t<tr><th scope=row>Alaska</th><td> 365  </td><td>6315  </td><td>1.5   </td><td>69.31 </td><td>11.3  </td><td>66.7  </td><td>152   </td><td>566432</td></tr>\n",
       "\t<tr><th scope=row>Arizona</th><td>2212  </td><td>4530  </td><td>1.8   </td><td>70.55 </td><td> 7.8  </td><td>58.1  </td><td> 15   </td><td>113417</td></tr>\n",
       "</tbody>\n",
       "</table>\n"
      ],
      "text/latex": [
       "\\begin{tabular}{r|llllllll}\n",
       "  & Population & Income & Illiteracy & Life.Exp & Murder & HS.Grad & Frost & Area\\\\\n",
       "\\hline\n",
       "\tAlabama & 3615   & 3624   & 2.1    & 69.05  & 15.1   & 41.3   &  20    &  50708\\\\\n",
       "\tAlaska &  365   & 6315   & 1.5    & 69.31  & 11.3   & 66.7   & 152    & 566432\\\\\n",
       "\tArizona & 2212   & 4530   & 1.8    & 70.55  &  7.8   & 58.1   &  15    & 113417\\\\\n",
       "\\end{tabular}\n"
      ],
      "text/markdown": [
       "\n",
       "| <!--/--> | Population | Income | Illiteracy | Life.Exp | Murder | HS.Grad | Frost | Area |\n",
       "|---|---|---|---|---|---|---|---|---|\n",
       "| Alabama | 3615   | 3624   | 2.1    | 69.05  | 15.1   | 41.3   |  20    |  50708 |\n",
       "| Alaska |  365   | 6315   | 1.5    | 69.31  | 11.3   | 66.7   | 152    | 566432 |\n",
       "| Arizona | 2212   | 4530   | 1.8    | 70.55  |  7.8   | 58.1   |  15    | 113417 |\n",
       "\n"
      ],
      "text/plain": [
       "        Population Income Illiteracy Life.Exp Murder HS.Grad Frost Area  \n",
       "Alabama 3615       3624   2.1        69.05    15.1   41.3     20    50708\n",
       "Alaska   365       6315   1.5        69.31    11.3   66.7    152   566432\n",
       "Arizona 2212       4530   1.8        70.55     7.8   58.1     15   113417"
      ]
     },
     "metadata": {},
     "output_type": "display_data"
    }
   ],
   "source": [
    "head(df,3)"
   ]
  },
  {
   "cell_type": "code",
   "execution_count": 9,
   "metadata": {},
   "outputs": [
    {
     "data": {
      "text/html": [
       "<table>\n",
       "<thead><tr><th></th><th scope=col>Population</th><th scope=col>Income</th><th scope=col>Illiteracy</th><th scope=col>Life.Exp</th><th scope=col>Murder</th><th scope=col>HS.Grad</th><th scope=col>Frost</th><th scope=col>Area</th></tr></thead>\n",
       "<tbody>\n",
       "\t<tr><th scope=row>Vermont</th><td> 472 </td><td>3907 </td><td>0.6  </td><td>71.64</td><td>5.5  </td><td>57.1 </td><td>168  </td><td> 9267</td></tr>\n",
       "\t<tr><th scope=row>Virginia</th><td>4981 </td><td>4701 </td><td>1.4  </td><td>70.08</td><td>9.5  </td><td>47.8 </td><td> 85  </td><td>39780</td></tr>\n",
       "\t<tr><th scope=row>Washington</th><td>3559 </td><td>4864 </td><td>0.6  </td><td>71.72</td><td>4.3  </td><td>63.5 </td><td> 32  </td><td>66570</td></tr>\n",
       "\t<tr><th scope=row>West Virginia</th><td>1799 </td><td>3617 </td><td>1.4  </td><td>69.48</td><td>6.7  </td><td>41.6 </td><td>100  </td><td>24070</td></tr>\n",
       "\t<tr><th scope=row>Wisconsin</th><td>4589 </td><td>4468 </td><td>0.7  </td><td>72.48</td><td>3.0  </td><td>54.5 </td><td>149  </td><td>54464</td></tr>\n",
       "\t<tr><th scope=row>Wyoming</th><td> 376 </td><td>4566 </td><td>0.6  </td><td>70.29</td><td>6.9  </td><td>62.9 </td><td>173  </td><td>97203</td></tr>\n",
       "</tbody>\n",
       "</table>\n"
      ],
      "text/latex": [
       "\\begin{tabular}{r|llllllll}\n",
       "  & Population & Income & Illiteracy & Life.Exp & Murder & HS.Grad & Frost & Area\\\\\n",
       "\\hline\n",
       "\tVermont &  472  & 3907  & 0.6   & 71.64 & 5.5   & 57.1  & 168   &  9267\\\\\n",
       "\tVirginia & 4981  & 4701  & 1.4   & 70.08 & 9.5   & 47.8  &  85   & 39780\\\\\n",
       "\tWashington & 3559  & 4864  & 0.6   & 71.72 & 4.3   & 63.5  &  32   & 66570\\\\\n",
       "\tWest Virginia & 1799  & 3617  & 1.4   & 69.48 & 6.7   & 41.6  & 100   & 24070\\\\\n",
       "\tWisconsin & 4589  & 4468  & 0.7   & 72.48 & 3.0   & 54.5  & 149   & 54464\\\\\n",
       "\tWyoming &  376  & 4566  & 0.6   & 70.29 & 6.9   & 62.9  & 173   & 97203\\\\\n",
       "\\end{tabular}\n"
      ],
      "text/markdown": [
       "\n",
       "| <!--/--> | Population | Income | Illiteracy | Life.Exp | Murder | HS.Grad | Frost | Area |\n",
       "|---|---|---|---|---|---|---|---|---|\n",
       "| Vermont |  472  | 3907  | 0.6   | 71.64 | 5.5   | 57.1  | 168   |  9267 |\n",
       "| Virginia | 4981  | 4701  | 1.4   | 70.08 | 9.5   | 47.8  |  85   | 39780 |\n",
       "| Washington | 3559  | 4864  | 0.6   | 71.72 | 4.3   | 63.5  |  32   | 66570 |\n",
       "| West Virginia | 1799  | 3617  | 1.4   | 69.48 | 6.7   | 41.6  | 100   | 24070 |\n",
       "| Wisconsin | 4589  | 4468  | 0.7   | 72.48 | 3.0   | 54.5  | 149   | 54464 |\n",
       "| Wyoming |  376  | 4566  | 0.6   | 70.29 | 6.9   | 62.9  | 173   | 97203 |\n",
       "\n"
      ],
      "text/plain": [
       "              Population Income Illiteracy Life.Exp Murder HS.Grad Frost Area \n",
       "Vermont        472       3907   0.6        71.64    5.5    57.1    168    9267\n",
       "Virginia      4981       4701   1.4        70.08    9.5    47.8     85   39780\n",
       "Washington    3559       4864   0.6        71.72    4.3    63.5     32   66570\n",
       "West Virginia 1799       3617   1.4        69.48    6.7    41.6    100   24070\n",
       "Wisconsin     4589       4468   0.7        72.48    3.0    54.5    149   54464\n",
       "Wyoming        376       4566   0.6        70.29    6.9    62.9    173   97203"
      ]
     },
     "metadata": {},
     "output_type": "display_data"
    }
   ],
   "source": [
    "tail(df)"
   ]
  },
  {
   "cell_type": "code",
   "execution_count": 10,
   "metadata": {},
   "outputs": [
    {
     "data": {
      "text/plain": [
       "   Population        Income       Illiteracy       Life.Exp    \n",
       " Min.   :  365   Min.   :3098   Min.   :0.500   Min.   :67.96  \n",
       " 1st Qu.: 1080   1st Qu.:3993   1st Qu.:0.625   1st Qu.:70.12  \n",
       " Median : 2838   Median :4519   Median :0.950   Median :70.67  \n",
       " Mean   : 4246   Mean   :4436   Mean   :1.170   Mean   :70.88  \n",
       " 3rd Qu.: 4968   3rd Qu.:4814   3rd Qu.:1.575   3rd Qu.:71.89  \n",
       " Max.   :21198   Max.   :6315   Max.   :2.800   Max.   :73.60  \n",
       "     Murder          HS.Grad          Frost             Area       \n",
       " Min.   : 1.400   Min.   :37.80   Min.   :  0.00   Min.   :  1049  \n",
       " 1st Qu.: 4.350   1st Qu.:48.05   1st Qu.: 66.25   1st Qu.: 36985  \n",
       " Median : 6.850   Median :53.25   Median :114.50   Median : 54277  \n",
       " Mean   : 7.378   Mean   :53.11   Mean   :104.46   Mean   : 70736  \n",
       " 3rd Qu.:10.675   3rd Qu.:59.15   3rd Qu.:139.75   3rd Qu.: 81163  \n",
       " Max.   :15.100   Max.   :67.30   Max.   :188.00   Max.   :566432  "
      ]
     },
     "metadata": {},
     "output_type": "display_data"
    }
   ],
   "source": [
    "# Summary of the data frame\n",
    "summary(df)"
   ]
  },
  {
   "cell_type": "code",
   "execution_count": 11,
   "metadata": {},
   "outputs": [
    {
     "name": "stdout",
     "output_type": "stream",
     "text": [
      "'data.frame':\t50 obs. of  8 variables:\n",
      " $ Population: num  3615 365 2212 2110 21198 ...\n",
      " $ Income    : num  3624 6315 4530 3378 5114 ...\n",
      " $ Illiteracy: num  2.1 1.5 1.8 1.9 1.1 0.7 1.1 0.9 1.3 2 ...\n",
      " $ Life.Exp  : num  69 69.3 70.5 70.7 71.7 ...\n",
      " $ Murder    : num  15.1 11.3 7.8 10.1 10.3 6.8 3.1 6.2 10.7 13.9 ...\n",
      " $ HS.Grad   : num  41.3 66.7 58.1 39.9 62.6 63.9 56 54.6 52.6 40.6 ...\n",
      " $ Frost     : num  20 152 15 65 20 166 139 103 11 60 ...\n",
      " $ Area      : num  50708 566432 113417 51945 156361 ...\n"
     ]
    }
   ],
   "source": [
    "str(df)"
   ]
  },
  {
   "cell_type": "markdown",
   "metadata": {},
   "source": [
    "#### dim() -- Size rows, cols"
   ]
  },
  {
   "cell_type": "code",
   "execution_count": 12,
   "metadata": {},
   "outputs": [
    {
     "name": "stdout",
     "output_type": "stream",
     "text": [
      "[1] 50  8\n"
     ]
    }
   ],
   "source": [
    "# Size of the dataframe rows, columns\n",
    "print(dim(df))"
   ]
  },
  {
   "cell_type": "markdown",
   "metadata": {},
   "source": [
    "#### column Names "
   ]
  },
  {
   "cell_type": "code",
   "execution_count": 13,
   "metadata": {},
   "outputs": [
    {
     "data": {
      "text/html": [
       "<ol class=list-inline>\n",
       "\t<li>'Population'</li>\n",
       "\t<li>'Income'</li>\n",
       "\t<li>'Illiteracy'</li>\n",
       "\t<li>'Life.Exp'</li>\n",
       "\t<li>'Murder'</li>\n",
       "\t<li>'HS.Grad'</li>\n",
       "\t<li>'Frost'</li>\n",
       "\t<li>'Area'</li>\n",
       "</ol>\n"
      ],
      "text/latex": [
       "\\begin{enumerate*}\n",
       "\\item 'Population'\n",
       "\\item 'Income'\n",
       "\\item 'Illiteracy'\n",
       "\\item 'Life.Exp'\n",
       "\\item 'Murder'\n",
       "\\item 'HS.Grad'\n",
       "\\item 'Frost'\n",
       "\\item 'Area'\n",
       "\\end{enumerate*}\n"
      ],
      "text/markdown": [
       "1. 'Population'\n",
       "2. 'Income'\n",
       "3. 'Illiteracy'\n",
       "4. 'Life.Exp'\n",
       "5. 'Murder'\n",
       "6. 'HS.Grad'\n",
       "7. 'Frost'\n",
       "8. 'Area'\n",
       "\n",
       "\n"
      ],
      "text/plain": [
       "[1] \"Population\" \"Income\"     \"Illiteracy\" \"Life.Exp\"   \"Murder\"    \n",
       "[6] \"HS.Grad\"    \"Frost\"      \"Area\"      "
      ]
     },
     "metadata": {},
     "output_type": "display_data"
    }
   ],
   "source": [
    "names(df)"
   ]
  },
  {
   "cell_type": "code",
   "execution_count": 14,
   "metadata": {},
   "outputs": [
    {
     "data": {
      "text/html": [
       "<ol class=list-inline>\n",
       "\t<li>'Population'</li>\n",
       "\t<li>'Income'</li>\n",
       "\t<li>'Illiteracy'</li>\n",
       "\t<li>'Life.Exp'</li>\n",
       "\t<li>'Murder'</li>\n",
       "\t<li>'HS.Grad'</li>\n",
       "\t<li>'Frost'</li>\n",
       "\t<li>'Area'</li>\n",
       "</ol>\n"
      ],
      "text/latex": [
       "\\begin{enumerate*}\n",
       "\\item 'Population'\n",
       "\\item 'Income'\n",
       "\\item 'Illiteracy'\n",
       "\\item 'Life.Exp'\n",
       "\\item 'Murder'\n",
       "\\item 'HS.Grad'\n",
       "\\item 'Frost'\n",
       "\\item 'Area'\n",
       "\\end{enumerate*}\n"
      ],
      "text/markdown": [
       "1. 'Population'\n",
       "2. 'Income'\n",
       "3. 'Illiteracy'\n",
       "4. 'Life.Exp'\n",
       "5. 'Murder'\n",
       "6. 'HS.Grad'\n",
       "7. 'Frost'\n",
       "8. 'Area'\n",
       "\n",
       "\n"
      ],
      "text/plain": [
       "[1] \"Population\" \"Income\"     \"Illiteracy\" \"Life.Exp\"   \"Murder\"    \n",
       "[6] \"HS.Grad\"    \"Frost\"      \"Area\"      "
      ]
     },
     "metadata": {},
     "output_type": "display_data"
    }
   ],
   "source": [
    "colnames(df)"
   ]
  },
  {
   "cell_type": "markdown",
   "metadata": {},
   "source": [
    "#### Row names "
   ]
  },
  {
   "cell_type": "code",
   "execution_count": 16,
   "metadata": {},
   "outputs": [
    {
     "data": {
      "text/html": [
       "<ol class=list-inline>\n",
       "\t<li>'Alabama'</li>\n",
       "\t<li>'Alaska'</li>\n",
       "\t<li>'Arizona'</li>\n",
       "\t<li>'Arkansas'</li>\n",
       "\t<li>'California'</li>\n",
       "\t<li>'Colorado'</li>\n",
       "\t<li>'Connecticut'</li>\n",
       "\t<li>'Delaware'</li>\n",
       "\t<li>'Florida'</li>\n",
       "\t<li>'Georgia'</li>\n",
       "\t<li>'Hawaii'</li>\n",
       "\t<li>'Idaho'</li>\n",
       "\t<li>'Illinois'</li>\n",
       "\t<li>'Indiana'</li>\n",
       "\t<li>'Iowa'</li>\n",
       "\t<li>'Kansas'</li>\n",
       "\t<li>'Kentucky'</li>\n",
       "\t<li>'Louisiana'</li>\n",
       "\t<li>'Maine'</li>\n",
       "\t<li>'Maryland'</li>\n",
       "\t<li>'Massachusetts'</li>\n",
       "\t<li>'Michigan'</li>\n",
       "\t<li>'Minnesota'</li>\n",
       "\t<li>'Mississippi'</li>\n",
       "\t<li>'Missouri'</li>\n",
       "\t<li>'Montana'</li>\n",
       "\t<li>'Nebraska'</li>\n",
       "\t<li>'Nevada'</li>\n",
       "\t<li>'New Hampshire'</li>\n",
       "\t<li>'New Jersey'</li>\n",
       "\t<li>'New Mexico'</li>\n",
       "\t<li>'New York'</li>\n",
       "\t<li>'North Carolina'</li>\n",
       "\t<li>'North Dakota'</li>\n",
       "\t<li>'Ohio'</li>\n",
       "\t<li>'Oklahoma'</li>\n",
       "\t<li>'Oregon'</li>\n",
       "\t<li>'Pennsylvania'</li>\n",
       "\t<li>'Rhode Island'</li>\n",
       "\t<li>'South Carolina'</li>\n",
       "\t<li>'South Dakota'</li>\n",
       "\t<li>'Tennessee'</li>\n",
       "\t<li>'Texas'</li>\n",
       "\t<li>'Utah'</li>\n",
       "\t<li>'Vermont'</li>\n",
       "\t<li>'Virginia'</li>\n",
       "\t<li>'Washington'</li>\n",
       "\t<li>'West Virginia'</li>\n",
       "\t<li>'Wisconsin'</li>\n",
       "\t<li>'Wyoming'</li>\n",
       "</ol>\n"
      ],
      "text/latex": [
       "\\begin{enumerate*}\n",
       "\\item 'Alabama'\n",
       "\\item 'Alaska'\n",
       "\\item 'Arizona'\n",
       "\\item 'Arkansas'\n",
       "\\item 'California'\n",
       "\\item 'Colorado'\n",
       "\\item 'Connecticut'\n",
       "\\item 'Delaware'\n",
       "\\item 'Florida'\n",
       "\\item 'Georgia'\n",
       "\\item 'Hawaii'\n",
       "\\item 'Idaho'\n",
       "\\item 'Illinois'\n",
       "\\item 'Indiana'\n",
       "\\item 'Iowa'\n",
       "\\item 'Kansas'\n",
       "\\item 'Kentucky'\n",
       "\\item 'Louisiana'\n",
       "\\item 'Maine'\n",
       "\\item 'Maryland'\n",
       "\\item 'Massachusetts'\n",
       "\\item 'Michigan'\n",
       "\\item 'Minnesota'\n",
       "\\item 'Mississippi'\n",
       "\\item 'Missouri'\n",
       "\\item 'Montana'\n",
       "\\item 'Nebraska'\n",
       "\\item 'Nevada'\n",
       "\\item 'New Hampshire'\n",
       "\\item 'New Jersey'\n",
       "\\item 'New Mexico'\n",
       "\\item 'New York'\n",
       "\\item 'North Carolina'\n",
       "\\item 'North Dakota'\n",
       "\\item 'Ohio'\n",
       "\\item 'Oklahoma'\n",
       "\\item 'Oregon'\n",
       "\\item 'Pennsylvania'\n",
       "\\item 'Rhode Island'\n",
       "\\item 'South Carolina'\n",
       "\\item 'South Dakota'\n",
       "\\item 'Tennessee'\n",
       "\\item 'Texas'\n",
       "\\item 'Utah'\n",
       "\\item 'Vermont'\n",
       "\\item 'Virginia'\n",
       "\\item 'Washington'\n",
       "\\item 'West Virginia'\n",
       "\\item 'Wisconsin'\n",
       "\\item 'Wyoming'\n",
       "\\end{enumerate*}\n"
      ],
      "text/markdown": [
       "1. 'Alabama'\n",
       "2. 'Alaska'\n",
       "3. 'Arizona'\n",
       "4. 'Arkansas'\n",
       "5. 'California'\n",
       "6. 'Colorado'\n",
       "7. 'Connecticut'\n",
       "8. 'Delaware'\n",
       "9. 'Florida'\n",
       "10. 'Georgia'\n",
       "11. 'Hawaii'\n",
       "12. 'Idaho'\n",
       "13. 'Illinois'\n",
       "14. 'Indiana'\n",
       "15. 'Iowa'\n",
       "16. 'Kansas'\n",
       "17. 'Kentucky'\n",
       "18. 'Louisiana'\n",
       "19. 'Maine'\n",
       "20. 'Maryland'\n",
       "21. 'Massachusetts'\n",
       "22. 'Michigan'\n",
       "23. 'Minnesota'\n",
       "24. 'Mississippi'\n",
       "25. 'Missouri'\n",
       "26. 'Montana'\n",
       "27. 'Nebraska'\n",
       "28. 'Nevada'\n",
       "29. 'New Hampshire'\n",
       "30. 'New Jersey'\n",
       "31. 'New Mexico'\n",
       "32. 'New York'\n",
       "33. 'North Carolina'\n",
       "34. 'North Dakota'\n",
       "35. 'Ohio'\n",
       "36. 'Oklahoma'\n",
       "37. 'Oregon'\n",
       "38. 'Pennsylvania'\n",
       "39. 'Rhode Island'\n",
       "40. 'South Carolina'\n",
       "41. 'South Dakota'\n",
       "42. 'Tennessee'\n",
       "43. 'Texas'\n",
       "44. 'Utah'\n",
       "45. 'Vermont'\n",
       "46. 'Virginia'\n",
       "47. 'Washington'\n",
       "48. 'West Virginia'\n",
       "49. 'Wisconsin'\n",
       "50. 'Wyoming'\n",
       "\n",
       "\n"
      ],
      "text/plain": [
       " [1] \"Alabama\"        \"Alaska\"         \"Arizona\"        \"Arkansas\"      \n",
       " [5] \"California\"     \"Colorado\"       \"Connecticut\"    \"Delaware\"      \n",
       " [9] \"Florida\"        \"Georgia\"        \"Hawaii\"         \"Idaho\"         \n",
       "[13] \"Illinois\"       \"Indiana\"        \"Iowa\"           \"Kansas\"        \n",
       "[17] \"Kentucky\"       \"Louisiana\"      \"Maine\"          \"Maryland\"      \n",
       "[21] \"Massachusetts\"  \"Michigan\"       \"Minnesota\"      \"Mississippi\"   \n",
       "[25] \"Missouri\"       \"Montana\"        \"Nebraska\"       \"Nevada\"        \n",
       "[29] \"New Hampshire\"  \"New Jersey\"     \"New Mexico\"     \"New York\"      \n",
       "[33] \"North Carolina\" \"North Dakota\"   \"Ohio\"           \"Oklahoma\"      \n",
       "[37] \"Oregon\"         \"Pennsylvania\"   \"Rhode Island\"   \"South Carolina\"\n",
       "[41] \"South Dakota\"   \"Tennessee\"      \"Texas\"          \"Utah\"          \n",
       "[45] \"Vermont\"        \"Virginia\"       \"Washington\"     \"West Virginia\" \n",
       "[49] \"Wisconsin\"      \"Wyoming\"       "
      ]
     },
     "metadata": {},
     "output_type": "display_data"
    }
   ],
   "source": [
    "rownames(df)"
   ]
  },
  {
   "cell_type": "markdown",
   "metadata": {},
   "source": [
    "#### Number of rows"
   ]
  },
  {
   "cell_type": "code",
   "execution_count": 17,
   "metadata": {},
   "outputs": [
    {
     "data": {
      "text/html": [
       "50"
      ],
      "text/latex": [
       "50"
      ],
      "text/markdown": [
       "50"
      ],
      "text/plain": [
       "[1] 50"
      ]
     },
     "metadata": {},
     "output_type": "display_data"
    }
   ],
   "source": [
    "nrow(df)"
   ]
  },
  {
   "cell_type": "markdown",
   "metadata": {},
   "source": [
    "#### Number of cols"
   ]
  },
  {
   "cell_type": "code",
   "execution_count": 18,
   "metadata": {},
   "outputs": [
    {
     "data": {
      "text/html": [
       "8"
      ],
      "text/latex": [
       "8"
      ],
      "text/markdown": [
       "8"
      ],
      "text/plain": [
       "[1] 8"
      ]
     },
     "metadata": {},
     "output_type": "display_data"
    }
   ],
   "source": [
    "ncol(df)"
   ]
  },
  {
   "cell_type": "markdown",
   "metadata": {},
   "source": [
    "#### Data-Frames Indexing and selecting the contents"
   ]
  },
  {
   "cell_type": "code",
   "execution_count": 19,
   "metadata": {},
   "outputs": [],
   "source": [
    "# Let us make a dataframe from vectors\n",
    "Names <- c('Raju', 'Latha', 'Madhavi', 'Sita', 'Kapoor', 'John', 'Mary', 'Abdul', 'Razak', 'Sree')\n",
    "Ages <- c(24,32,26, 28, 29,18,30,28,19,35)\n",
    "Gender <- c('M','F','F','F','M','M','F','M','M','M')"
   ]
  },
  {
   "cell_type": "code",
   "execution_count": 20,
   "metadata": {},
   "outputs": [],
   "source": [
    "# Make One column Dataframe \n",
    "Friends <- data.frame(Names)"
   ]
  },
  {
   "cell_type": "code",
   "execution_count": 21,
   "metadata": {},
   "outputs": [],
   "source": [
    "# Bind columns to this \n",
    "Friends <- cbind(Friends,Ages)\n",
    "Friends <- cbind(Friends, Gender)"
   ]
  },
  {
   "cell_type": "code",
   "execution_count": 22,
   "metadata": {
    "scrolled": true
   },
   "outputs": [
    {
     "data": {
      "text/html": [
       "<table>\n",
       "<thead><tr><th scope=col>Names</th><th scope=col>Ages</th><th scope=col>Gender</th></tr></thead>\n",
       "<tbody>\n",
       "\t<tr><td>Raju   </td><td>24     </td><td>M      </td></tr>\n",
       "\t<tr><td>Latha  </td><td>32     </td><td>F      </td></tr>\n",
       "\t<tr><td>Madhavi</td><td>26     </td><td>F      </td></tr>\n",
       "\t<tr><td>Sita   </td><td>28     </td><td>F      </td></tr>\n",
       "\t<tr><td>Kapoor </td><td>29     </td><td>M      </td></tr>\n",
       "\t<tr><td>John   </td><td>18     </td><td>M      </td></tr>\n",
       "\t<tr><td>Mary   </td><td>30     </td><td>F      </td></tr>\n",
       "\t<tr><td>Abdul  </td><td>28     </td><td>M      </td></tr>\n",
       "\t<tr><td>Razak  </td><td>19     </td><td>M      </td></tr>\n",
       "\t<tr><td>Sree   </td><td>35     </td><td>M      </td></tr>\n",
       "</tbody>\n",
       "</table>\n"
      ],
      "text/latex": [
       "\\begin{tabular}{r|lll}\n",
       " Names & Ages & Gender\\\\\n",
       "\\hline\n",
       "\t Raju    & 24      & M      \\\\\n",
       "\t Latha   & 32      & F      \\\\\n",
       "\t Madhavi & 26      & F      \\\\\n",
       "\t Sita    & 28      & F      \\\\\n",
       "\t Kapoor  & 29      & M      \\\\\n",
       "\t John    & 18      & M      \\\\\n",
       "\t Mary    & 30      & F      \\\\\n",
       "\t Abdul   & 28      & M      \\\\\n",
       "\t Razak   & 19      & M      \\\\\n",
       "\t Sree    & 35      & M      \\\\\n",
       "\\end{tabular}\n"
      ],
      "text/markdown": [
       "\n",
       "| Names | Ages | Gender |\n",
       "|---|---|---|\n",
       "| Raju    | 24      | M       |\n",
       "| Latha   | 32      | F       |\n",
       "| Madhavi | 26      | F       |\n",
       "| Sita    | 28      | F       |\n",
       "| Kapoor  | 29      | M       |\n",
       "| John    | 18      | M       |\n",
       "| Mary    | 30      | F       |\n",
       "| Abdul   | 28      | M       |\n",
       "| Razak   | 19      | M       |\n",
       "| Sree    | 35      | M       |\n",
       "\n"
      ],
      "text/plain": [
       "   Names   Ages Gender\n",
       "1  Raju    24   M     \n",
       "2  Latha   32   F     \n",
       "3  Madhavi 26   F     \n",
       "4  Sita    28   F     \n",
       "5  Kapoor  29   M     \n",
       "6  John    18   M     \n",
       "7  Mary    30   F     \n",
       "8  Abdul   28   M     \n",
       "9  Razak   19   M     \n",
       "10 Sree    35   M     "
      ]
     },
     "metadata": {},
     "output_type": "display_data"
    }
   ],
   "source": [
    "Friends"
   ]
  },
  {
   "cell_type": "markdown",
   "metadata": {},
   "source": [
    "#### Rows selection"
   ]
  },
  {
   "cell_type": "code",
   "execution_count": 23,
   "metadata": {},
   "outputs": [
    {
     "data": {
      "text/html": [
       "<table>\n",
       "<thead><tr><th></th><th scope=col>Names</th><th scope=col>Ages</th><th scope=col>Gender</th></tr></thead>\n",
       "<tbody>\n",
       "\t<tr><th scope=row>2</th><td>Latha  </td><td>32     </td><td>F      </td></tr>\n",
       "\t<tr><th scope=row>3</th><td>Madhavi</td><td>26     </td><td>F      </td></tr>\n",
       "\t<tr><th scope=row>4</th><td>Sita   </td><td>28     </td><td>F      </td></tr>\n",
       "\t<tr><th scope=row>5</th><td>Kapoor </td><td>29     </td><td>M      </td></tr>\n",
       "</tbody>\n",
       "</table>\n"
      ],
      "text/latex": [
       "\\begin{tabular}{r|lll}\n",
       "  & Names & Ages & Gender\\\\\n",
       "\\hline\n",
       "\t2 & Latha   & 32      & F      \\\\\n",
       "\t3 & Madhavi & 26      & F      \\\\\n",
       "\t4 & Sita    & 28      & F      \\\\\n",
       "\t5 & Kapoor  & 29      & M      \\\\\n",
       "\\end{tabular}\n"
      ],
      "text/markdown": [
       "\n",
       "| <!--/--> | Names | Ages | Gender |\n",
       "|---|---|---|---|\n",
       "| 2 | Latha   | 32      | F       |\n",
       "| 3 | Madhavi | 26      | F       |\n",
       "| 4 | Sita    | 28      | F       |\n",
       "| 5 | Kapoor  | 29      | M       |\n",
       "\n"
      ],
      "text/plain": [
       "  Names   Ages Gender\n",
       "2 Latha   32   F     \n",
       "3 Madhavi 26   F     \n",
       "4 Sita    28   F     \n",
       "5 Kapoor  29   M     "
      ]
     },
     "metadata": {},
     "output_type": "display_data"
    }
   ],
   "source": [
    "#select rows starting from 2nd row to 5th row\n",
    "Friends[2:5,]"
   ]
  },
  {
   "cell_type": "code",
   "execution_count": 24,
   "metadata": {},
   "outputs": [
    {
     "data": {
      "text/html": [
       "<table>\n",
       "<thead><tr><th></th><th scope=col>Names</th><th scope=col>Ages</th><th scope=col>Gender</th></tr></thead>\n",
       "<tbody>\n",
       "\t<tr><th scope=row>5</th><td>Kapoor</td><td>29    </td><td>M     </td></tr>\n",
       "</tbody>\n",
       "</table>\n"
      ],
      "text/latex": [
       "\\begin{tabular}{r|lll}\n",
       "  & Names & Ages & Gender\\\\\n",
       "\\hline\n",
       "\t5 & Kapoor & 29     & M     \\\\\n",
       "\\end{tabular}\n"
      ],
      "text/markdown": [
       "\n",
       "| <!--/--> | Names | Ages | Gender |\n",
       "|---|---|---|---|\n",
       "| 5 | Kapoor | 29     | M      |\n",
       "\n"
      ],
      "text/plain": [
       "  Names  Ages Gender\n",
       "5 Kapoor 29   M     "
      ]
     },
     "metadata": {},
     "output_type": "display_data"
    }
   ],
   "source": [
    "# Select a single row 5th one\n",
    "Friends[5:5,]\n"
   ]
  },
  {
   "cell_type": "markdown",
   "metadata": {},
   "source": [
    "#### Columns selection"
   ]
  },
  {
   "cell_type": "code",
   "execution_count": 25,
   "metadata": {},
   "outputs": [
    {
     "data": {
      "text/html": [
       "<table>\n",
       "<thead><tr><th scope=col>Ages</th><th scope=col>Gender</th></tr></thead>\n",
       "<tbody>\n",
       "\t<tr><td>24</td><td>M </td></tr>\n",
       "\t<tr><td>32</td><td>F </td></tr>\n",
       "\t<tr><td>26</td><td>F </td></tr>\n",
       "\t<tr><td>28</td><td>F </td></tr>\n",
       "\t<tr><td>29</td><td>M </td></tr>\n",
       "\t<tr><td>18</td><td>M </td></tr>\n",
       "\t<tr><td>30</td><td>F </td></tr>\n",
       "\t<tr><td>28</td><td>M </td></tr>\n",
       "\t<tr><td>19</td><td>M </td></tr>\n",
       "\t<tr><td>35</td><td>M </td></tr>\n",
       "</tbody>\n",
       "</table>\n"
      ],
      "text/latex": [
       "\\begin{tabular}{r|ll}\n",
       " Ages & Gender\\\\\n",
       "\\hline\n",
       "\t 24 & M \\\\\n",
       "\t 32 & F \\\\\n",
       "\t 26 & F \\\\\n",
       "\t 28 & F \\\\\n",
       "\t 29 & M \\\\\n",
       "\t 18 & M \\\\\n",
       "\t 30 & F \\\\\n",
       "\t 28 & M \\\\\n",
       "\t 19 & M \\\\\n",
       "\t 35 & M \\\\\n",
       "\\end{tabular}\n"
      ],
      "text/markdown": [
       "\n",
       "| Ages | Gender |\n",
       "|---|---|\n",
       "| 24 | M  |\n",
       "| 32 | F  |\n",
       "| 26 | F  |\n",
       "| 28 | F  |\n",
       "| 29 | M  |\n",
       "| 18 | M  |\n",
       "| 30 | F  |\n",
       "| 28 | M  |\n",
       "| 19 | M  |\n",
       "| 35 | M  |\n",
       "\n"
      ],
      "text/plain": [
       "   Ages Gender\n",
       "1  24   M     \n",
       "2  32   F     \n",
       "3  26   F     \n",
       "4  28   F     \n",
       "5  29   M     \n",
       "6  18   M     \n",
       "7  30   F     \n",
       "8  28   M     \n",
       "9  19   M     \n",
       "10 35   M     "
      ]
     },
     "metadata": {},
     "output_type": "display_data"
    }
   ],
   "source": [
    "# Selecting Columns 2 and 3\n",
    "Friends[,2:3]"
   ]
  },
  {
   "cell_type": "code",
   "execution_count": 26,
   "metadata": {},
   "outputs": [
    {
     "data": {
      "text/html": [
       "<ol class=list-inline>\n",
       "\t<li>24</li>\n",
       "\t<li>32</li>\n",
       "\t<li>26</li>\n",
       "\t<li>28</li>\n",
       "\t<li>29</li>\n",
       "\t<li>18</li>\n",
       "\t<li>30</li>\n",
       "\t<li>28</li>\n",
       "\t<li>19</li>\n",
       "\t<li>35</li>\n",
       "</ol>\n"
      ],
      "text/latex": [
       "\\begin{enumerate*}\n",
       "\\item 24\n",
       "\\item 32\n",
       "\\item 26\n",
       "\\item 28\n",
       "\\item 29\n",
       "\\item 18\n",
       "\\item 30\n",
       "\\item 28\n",
       "\\item 19\n",
       "\\item 35\n",
       "\\end{enumerate*}\n"
      ],
      "text/markdown": [
       "1. 24\n",
       "2. 32\n",
       "3. 26\n",
       "4. 28\n",
       "5. 29\n",
       "6. 18\n",
       "7. 30\n",
       "8. 28\n",
       "9. 19\n",
       "10. 35\n",
       "\n",
       "\n"
      ],
      "text/plain": [
       " [1] 24 32 26 28 29 18 30 28 19 35"
      ]
     },
     "metadata": {},
     "output_type": "display_data"
    }
   ],
   "source": [
    "#selecting column 2 only\n",
    "Friends[,2:2]"
   ]
  },
  {
   "cell_type": "markdown",
   "metadata": {},
   "source": [
    "#### Selecting block of data"
   ]
  },
  {
   "cell_type": "code",
   "execution_count": 27,
   "metadata": {},
   "outputs": [
    {
     "data": {
      "text/html": [
       "<table>\n",
       "<thead><tr><th></th><th scope=col>Names</th><th scope=col>Ages</th></tr></thead>\n",
       "<tbody>\n",
       "\t<tr><th scope=row>4</th><td>Sita  </td><td>28    </td></tr>\n",
       "\t<tr><th scope=row>5</th><td>Kapoor</td><td>29    </td></tr>\n",
       "</tbody>\n",
       "</table>\n"
      ],
      "text/latex": [
       "\\begin{tabular}{r|ll}\n",
       "  & Names & Ages\\\\\n",
       "\\hline\n",
       "\t4 & Sita   & 28    \\\\\n",
       "\t5 & Kapoor & 29    \\\\\n",
       "\\end{tabular}\n"
      ],
      "text/markdown": [
       "\n",
       "| <!--/--> | Names | Ages |\n",
       "|---|---|---|\n",
       "| 4 | Sita   | 28     |\n",
       "| 5 | Kapoor | 29     |\n",
       "\n"
      ],
      "text/plain": [
       "  Names  Ages\n",
       "4 Sita   28  \n",
       "5 Kapoor 29  "
      ]
     },
     "metadata": {},
     "output_type": "display_data"
    }
   ],
   "source": [
    "# Select block sita, age, kapoor , age\n",
    "Friends[4:5, 1:2]"
   ]
  },
  {
   "cell_type": "markdown",
   "metadata": {},
   "source": [
    "#### Logical selection with subset"
   ]
  },
  {
   "cell_type": "code",
   "execution_count": 28,
   "metadata": {},
   "outputs": [
    {
     "data": {
      "text/html": [
       "<table>\n",
       "<thead><tr><th></th><th scope=col>Names</th><th scope=col>Ages</th><th scope=col>Gender</th></tr></thead>\n",
       "<tbody>\n",
       "\t<tr><th scope=row>2</th><td>Latha  </td><td>32     </td><td>F      </td></tr>\n",
       "\t<tr><th scope=row>3</th><td>Madhavi</td><td>26     </td><td>F      </td></tr>\n",
       "\t<tr><th scope=row>4</th><td>Sita   </td><td>28     </td><td>F      </td></tr>\n",
       "\t<tr><th scope=row>7</th><td>Mary   </td><td>30     </td><td>F      </td></tr>\n",
       "</tbody>\n",
       "</table>\n"
      ],
      "text/latex": [
       "\\begin{tabular}{r|lll}\n",
       "  & Names & Ages & Gender\\\\\n",
       "\\hline\n",
       "\t2 & Latha   & 32      & F      \\\\\n",
       "\t3 & Madhavi & 26      & F      \\\\\n",
       "\t4 & Sita    & 28      & F      \\\\\n",
       "\t7 & Mary    & 30      & F      \\\\\n",
       "\\end{tabular}\n"
      ],
      "text/markdown": [
       "\n",
       "| <!--/--> | Names | Ages | Gender |\n",
       "|---|---|---|---|\n",
       "| 2 | Latha   | 32      | F       |\n",
       "| 3 | Madhavi | 26      | F       |\n",
       "| 4 | Sita    | 28      | F       |\n",
       "| 7 | Mary    | 30      | F       |\n",
       "\n"
      ],
      "text/plain": [
       "  Names   Ages Gender\n",
       "2 Latha   32   F     \n",
       "3 Madhavi 26   F     \n",
       "4 Sita    28   F     \n",
       "7 Mary    30   F     "
      ]
     },
     "metadata": {},
     "output_type": "display_data"
    }
   ],
   "source": [
    "# get all females candidates\n",
    "subset(Friends, Gender == 'F')"
   ]
  },
  {
   "cell_type": "code",
   "execution_count": 29,
   "metadata": {},
   "outputs": [
    {
     "data": {
      "text/html": [
       "<table>\n",
       "<thead><tr><th></th><th scope=col>Names</th><th scope=col>Ages</th><th scope=col>Gender</th></tr></thead>\n",
       "<tbody>\n",
       "\t<tr><th scope=row>1</th><td>Raju   </td><td>24     </td><td>M      </td></tr>\n",
       "\t<tr><th scope=row>3</th><td>Madhavi</td><td>26     </td><td>F      </td></tr>\n",
       "\t<tr><th scope=row>4</th><td>Sita   </td><td>28     </td><td>F      </td></tr>\n",
       "\t<tr><th scope=row>5</th><td>Kapoor </td><td>29     </td><td>M      </td></tr>\n",
       "\t<tr><th scope=row>8</th><td>Abdul  </td><td>28     </td><td>M      </td></tr>\n",
       "</tbody>\n",
       "</table>\n"
      ],
      "text/latex": [
       "\\begin{tabular}{r|lll}\n",
       "  & Names & Ages & Gender\\\\\n",
       "\\hline\n",
       "\t1 & Raju    & 24      & M      \\\\\n",
       "\t3 & Madhavi & 26      & F      \\\\\n",
       "\t4 & Sita    & 28      & F      \\\\\n",
       "\t5 & Kapoor  & 29      & M      \\\\\n",
       "\t8 & Abdul   & 28      & M      \\\\\n",
       "\\end{tabular}\n"
      ],
      "text/markdown": [
       "\n",
       "| <!--/--> | Names | Ages | Gender |\n",
       "|---|---|---|---|\n",
       "| 1 | Raju    | 24      | M       |\n",
       "| 3 | Madhavi | 26      | F       |\n",
       "| 4 | Sita    | 28      | F       |\n",
       "| 5 | Kapoor  | 29      | M       |\n",
       "| 8 | Abdul   | 28      | M       |\n",
       "\n"
      ],
      "text/plain": [
       "  Names   Ages Gender\n",
       "1 Raju    24   M     \n",
       "3 Madhavi 26   F     \n",
       "4 Sita    28   F     \n",
       "5 Kapoor  29   M     \n",
       "8 Abdul   28   M     "
      ]
     },
     "metadata": {},
     "output_type": "display_data"
    }
   ],
   "source": [
    "# get all candidates where the age is more than 20 and less than 30\n",
    "subset(Friends, (Ages > 20 & Ages <30 ))"
   ]
  },
  {
   "cell_type": "code",
   "execution_count": 30,
   "metadata": {},
   "outputs": [
    {
     "data": {
      "text/html": [
       "<table>\n",
       "<thead><tr><th></th><th scope=col>Names</th><th scope=col>Ages</th></tr></thead>\n",
       "<tbody>\n",
       "\t<tr><th scope=row>1</th><td>Raju   </td><td>24     </td></tr>\n",
       "\t<tr><th scope=row>3</th><td>Madhavi</td><td>26     </td></tr>\n",
       "\t<tr><th scope=row>4</th><td>Sita   </td><td>28     </td></tr>\n",
       "\t<tr><th scope=row>5</th><td>Kapoor </td><td>29     </td></tr>\n",
       "\t<tr><th scope=row>8</th><td>Abdul  </td><td>28     </td></tr>\n",
       "</tbody>\n",
       "</table>\n"
      ],
      "text/latex": [
       "\\begin{tabular}{r|ll}\n",
       "  & Names & Ages\\\\\n",
       "\\hline\n",
       "\t1 & Raju    & 24     \\\\\n",
       "\t3 & Madhavi & 26     \\\\\n",
       "\t4 & Sita    & 28     \\\\\n",
       "\t5 & Kapoor  & 29     \\\\\n",
       "\t8 & Abdul   & 28     \\\\\n",
       "\\end{tabular}\n"
      ],
      "text/markdown": [
       "\n",
       "| <!--/--> | Names | Ages |\n",
       "|---|---|---|\n",
       "| 1 | Raju    | 24      |\n",
       "| 3 | Madhavi | 26      |\n",
       "| 4 | Sita    | 28      |\n",
       "| 5 | Kapoor  | 29      |\n",
       "| 8 | Abdul   | 28      |\n",
       "\n"
      ],
      "text/plain": [
       "  Names   Ages\n",
       "1 Raju    24  \n",
       "3 Madhavi 26  \n",
       "4 Sita    28  \n",
       "5 Kapoor  29  \n",
       "8 Abdul   28  "
      ]
     },
     "metadata": {},
     "output_type": "display_data"
    }
   ],
   "source": [
    "# select all the candidates in their twenties only names and Ages\n",
    "subset(x = Friends, subset = Ages > 20 & Ages < 30, select = c(Names, Ages))"
   ]
  },
  {
   "cell_type": "markdown",
   "metadata": {},
   "source": [
    "#### Sorting the dataframe with Order()"
   ]
  },
  {
   "cell_type": "code",
   "execution_count": 31,
   "metadata": {},
   "outputs": [
    {
     "data": {
      "text/html": [
       "<table>\n",
       "<thead><tr><th></th><th scope=col>Names</th><th scope=col>Ages</th><th scope=col>Gender</th></tr></thead>\n",
       "<tbody>\n",
       "\t<tr><th scope=row>6</th><td>John   </td><td>18     </td><td>M      </td></tr>\n",
       "\t<tr><th scope=row>9</th><td>Razak  </td><td>19     </td><td>M      </td></tr>\n",
       "\t<tr><th scope=row>1</th><td>Raju   </td><td>24     </td><td>M      </td></tr>\n",
       "\t<tr><th scope=row>3</th><td>Madhavi</td><td>26     </td><td>F      </td></tr>\n",
       "\t<tr><th scope=row>4</th><td>Sita   </td><td>28     </td><td>F      </td></tr>\n",
       "\t<tr><th scope=row>8</th><td>Abdul  </td><td>28     </td><td>M      </td></tr>\n",
       "\t<tr><th scope=row>5</th><td>Kapoor </td><td>29     </td><td>M      </td></tr>\n",
       "\t<tr><th scope=row>7</th><td>Mary   </td><td>30     </td><td>F      </td></tr>\n",
       "\t<tr><th scope=row>2</th><td>Latha  </td><td>32     </td><td>F      </td></tr>\n",
       "\t<tr><th scope=row>10</th><td>Sree   </td><td>35     </td><td>M      </td></tr>\n",
       "</tbody>\n",
       "</table>\n"
      ],
      "text/latex": [
       "\\begin{tabular}{r|lll}\n",
       "  & Names & Ages & Gender\\\\\n",
       "\\hline\n",
       "\t6 & John    & 18      & M      \\\\\n",
       "\t9 & Razak   & 19      & M      \\\\\n",
       "\t1 & Raju    & 24      & M      \\\\\n",
       "\t3 & Madhavi & 26      & F      \\\\\n",
       "\t4 & Sita    & 28      & F      \\\\\n",
       "\t8 & Abdul   & 28      & M      \\\\\n",
       "\t5 & Kapoor  & 29      & M      \\\\\n",
       "\t7 & Mary    & 30      & F      \\\\\n",
       "\t2 & Latha   & 32      & F      \\\\\n",
       "\t10 & Sree    & 35      & M      \\\\\n",
       "\\end{tabular}\n"
      ],
      "text/markdown": [
       "\n",
       "| <!--/--> | Names | Ages | Gender |\n",
       "|---|---|---|---|\n",
       "| 6 | John    | 18      | M       |\n",
       "| 9 | Razak   | 19      | M       |\n",
       "| 1 | Raju    | 24      | M       |\n",
       "| 3 | Madhavi | 26      | F       |\n",
       "| 4 | Sita    | 28      | F       |\n",
       "| 8 | Abdul   | 28      | M       |\n",
       "| 5 | Kapoor  | 29      | M       |\n",
       "| 7 | Mary    | 30      | F       |\n",
       "| 2 | Latha   | 32      | F       |\n",
       "| 10 | Sree    | 35      | M       |\n",
       "\n"
      ],
      "text/plain": [
       "   Names   Ages Gender\n",
       "6  John    18   M     \n",
       "9  Razak   19   M     \n",
       "1  Raju    24   M     \n",
       "3  Madhavi 26   F     \n",
       "4  Sita    28   F     \n",
       "8  Abdul   28   M     \n",
       "5  Kapoor  29   M     \n",
       "7  Mary    30   F     \n",
       "2  Latha   32   F     \n",
       "10 Sree    35   M     "
      ]
     },
     "metadata": {},
     "output_type": "display_data"
    }
   ],
   "source": [
    "# The below line gets a sorted vector of indexes for Ages\n",
    "sorted.friends <- order(Friends['Ages'])\n",
    "# Using bracket notation we can get the sorted Dataframe\n",
    "# sorted vector is used in the rows place \n",
    "Friends[sorted.friends,]"
   ]
  },
  {
   "cell_type": "markdown",
   "metadata": {},
   "source": [
    "#### Selecting a single columns "
   ]
  },
  {
   "cell_type": "code",
   "execution_count": 36,
   "metadata": {},
   "outputs": [
    {
     "data": {
      "text/html": [
       "<table>\n",
       "<thead><tr><th scope=col>Ages</th></tr></thead>\n",
       "<tbody>\n",
       "\t<tr><td>24</td></tr>\n",
       "\t<tr><td>32</td></tr>\n",
       "\t<tr><td>26</td></tr>\n",
       "\t<tr><td>28</td></tr>\n",
       "\t<tr><td>29</td></tr>\n",
       "\t<tr><td>18</td></tr>\n",
       "\t<tr><td>30</td></tr>\n",
       "\t<tr><td>28</td></tr>\n",
       "\t<tr><td>19</td></tr>\n",
       "\t<tr><td>35</td></tr>\n",
       "</tbody>\n",
       "</table>\n"
      ],
      "text/latex": [
       "\\begin{tabular}{r|l}\n",
       " Ages\\\\\n",
       "\\hline\n",
       "\t 24\\\\\n",
       "\t 32\\\\\n",
       "\t 26\\\\\n",
       "\t 28\\\\\n",
       "\t 29\\\\\n",
       "\t 18\\\\\n",
       "\t 30\\\\\n",
       "\t 28\\\\\n",
       "\t 19\\\\\n",
       "\t 35\\\\\n",
       "\\end{tabular}\n"
      ],
      "text/markdown": [
       "\n",
       "| Ages |\n",
       "|---|\n",
       "| 24 |\n",
       "| 32 |\n",
       "| 26 |\n",
       "| 28 |\n",
       "| 29 |\n",
       "| 18 |\n",
       "| 30 |\n",
       "| 28 |\n",
       "| 19 |\n",
       "| 35 |\n",
       "\n"
      ],
      "text/plain": [
       "   Ages\n",
       "1  24  \n",
       "2  32  \n",
       "3  26  \n",
       "4  28  \n",
       "5  29  \n",
       "6  18  \n",
       "7  30  \n",
       "8  28  \n",
       "9  19  \n",
       "10 35  "
      ]
     },
     "metadata": {},
     "output_type": "display_data"
    }
   ],
   "source": [
    "# Selecting the column as a dataframe\n",
    "Friends['Ages']"
   ]
  },
  {
   "cell_type": "code",
   "execution_count": 35,
   "metadata": {},
   "outputs": [
    {
     "data": {
      "text/html": [
       "<ol class=list-inline>\n",
       "\t<li>24</li>\n",
       "\t<li>32</li>\n",
       "\t<li>26</li>\n",
       "\t<li>28</li>\n",
       "\t<li>29</li>\n",
       "\t<li>18</li>\n",
       "\t<li>30</li>\n",
       "\t<li>28</li>\n",
       "\t<li>19</li>\n",
       "\t<li>35</li>\n",
       "</ol>\n"
      ],
      "text/latex": [
       "\\begin{enumerate*}\n",
       "\\item 24\n",
       "\\item 32\n",
       "\\item 26\n",
       "\\item 28\n",
       "\\item 29\n",
       "\\item 18\n",
       "\\item 30\n",
       "\\item 28\n",
       "\\item 19\n",
       "\\item 35\n",
       "\\end{enumerate*}\n"
      ],
      "text/markdown": [
       "1. 24\n",
       "2. 32\n",
       "3. 26\n",
       "4. 28\n",
       "5. 29\n",
       "6. 18\n",
       "7. 30\n",
       "8. 28\n",
       "9. 19\n",
       "10. 35\n",
       "\n",
       "\n"
      ],
      "text/plain": [
       " [1] 24 32 26 28 29 18 30 28 19 35"
      ]
     },
     "metadata": {},
     "output_type": "display_data"
    }
   ],
   "source": [
    "# Selecting the column as a vector - Flat row like with double bracket notation\n",
    "Friends[['Ages']] # Notice two brackets"
   ]
  },
  {
   "cell_type": "code",
   "execution_count": 37,
   "metadata": {},
   "outputs": [
    {
     "data": {
      "text/html": [
       "<ol class=list-inline>\n",
       "\t<li>24</li>\n",
       "\t<li>32</li>\n",
       "\t<li>26</li>\n",
       "\t<li>28</li>\n",
       "\t<li>29</li>\n",
       "\t<li>18</li>\n",
       "\t<li>30</li>\n",
       "\t<li>28</li>\n",
       "\t<li>19</li>\n",
       "\t<li>35</li>\n",
       "</ol>\n"
      ],
      "text/latex": [
       "\\begin{enumerate*}\n",
       "\\item 24\n",
       "\\item 32\n",
       "\\item 26\n",
       "\\item 28\n",
       "\\item 29\n",
       "\\item 18\n",
       "\\item 30\n",
       "\\item 28\n",
       "\\item 19\n",
       "\\item 35\n",
       "\\end{enumerate*}\n"
      ],
      "text/markdown": [
       "1. 24\n",
       "2. 32\n",
       "3. 26\n",
       "4. 28\n",
       "5. 29\n",
       "6. 18\n",
       "7. 30\n",
       "8. 28\n",
       "9. 19\n",
       "10. 35\n",
       "\n",
       "\n"
      ],
      "text/plain": [
       " [1] 24 32 26 28 29 18 30 28 19 35"
      ]
     },
     "metadata": {},
     "output_type": "display_data"
    }
   ],
   "source": [
    "# Another way with $ notation\n",
    "Friends$Ages"
   ]
  },
  {
   "cell_type": "code",
   "execution_count": null,
   "metadata": {},
   "outputs": [],
   "source": []
  }
 ],
 "metadata": {
  "kernelspec": {
   "display_name": "R",
   "language": "R",
   "name": "ir"
  },
  "language_info": {
   "codemirror_mode": "r",
   "file_extension": ".r",
   "mimetype": "text/x-r-source",
   "name": "R",
   "pygments_lexer": "r",
   "version": "3.6.0"
  }
 },
 "nbformat": 4,
 "nbformat_minor": 2
}
