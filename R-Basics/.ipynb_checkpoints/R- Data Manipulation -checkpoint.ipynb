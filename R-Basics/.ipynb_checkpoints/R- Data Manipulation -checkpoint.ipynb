{
 "cells": [
  {
   "cell_type": "markdown",
   "metadata": {},
   "source": [
    "#### R- Data Manipulation "
   ]
  },
  {
   "cell_type": "markdown",
   "metadata": {},
   "source": [
    "[Introduction to dplyr](https://cran.r-project.org/web/packages/dplyr/vignettes/dplyr.html)"
   ]
  },
  {
   "cell_type": "code",
   "execution_count": 1,
   "metadata": {},
   "outputs": [
    {
     "name": "stderr",
     "output_type": "stream",
     "text": [
      "Warning message:\n",
      "\"package 'dplyr' was built under R version 3.6.1\"\n",
      "Attaching package: 'dplyr'\n",
      "\n",
      "The following objects are masked from 'package:stats':\n",
      "\n",
      "    filter, lag\n",
      "\n",
      "The following objects are masked from 'package:base':\n",
      "\n",
      "    intersect, setdiff, setequal, union\n",
      "\n"
     ]
    }
   ],
   "source": [
    "library(dplyr)"
   ]
  },
  {
   "cell_type": "code",
   "execution_count": 8,
   "metadata": {},
   "outputs": [
    {
     "data": {
      "text/html": [
       "<table>\n",
       "<thead><tr><th scope=col>Sepal.Length</th><th scope=col>Sepal.Width</th><th scope=col>Petal.Length</th><th scope=col>Petal.Width</th><th scope=col>Species</th></tr></thead>\n",
       "<tbody>\n",
       "\t<tr><td>5.1   </td><td>3.5   </td><td>1.4   </td><td>0.2   </td><td>setosa</td></tr>\n",
       "\t<tr><td>4.9   </td><td>3.0   </td><td>1.4   </td><td>0.2   </td><td>setosa</td></tr>\n",
       "\t<tr><td>4.7   </td><td>3.2   </td><td>1.3   </td><td>0.2   </td><td>setosa</td></tr>\n",
       "\t<tr><td>4.6   </td><td>3.1   </td><td>1.5   </td><td>0.2   </td><td>setosa</td></tr>\n",
       "\t<tr><td>5.0   </td><td>3.6   </td><td>1.4   </td><td>0.2   </td><td>setosa</td></tr>\n",
       "\t<tr><td>5.4   </td><td>3.9   </td><td>1.7   </td><td>0.4   </td><td>setosa</td></tr>\n",
       "</tbody>\n",
       "</table>\n"
      ],
      "text/latex": [
       "\\begin{tabular}{r|lllll}\n",
       " Sepal.Length & Sepal.Width & Petal.Length & Petal.Width & Species\\\\\n",
       "\\hline\n",
       "\t 5.1    & 3.5    & 1.4    & 0.2    & setosa\\\\\n",
       "\t 4.9    & 3.0    & 1.4    & 0.2    & setosa\\\\\n",
       "\t 4.7    & 3.2    & 1.3    & 0.2    & setosa\\\\\n",
       "\t 4.6    & 3.1    & 1.5    & 0.2    & setosa\\\\\n",
       "\t 5.0    & 3.6    & 1.4    & 0.2    & setosa\\\\\n",
       "\t 5.4    & 3.9    & 1.7    & 0.4    & setosa\\\\\n",
       "\\end{tabular}\n"
      ],
      "text/markdown": [
       "\n",
       "| Sepal.Length | Sepal.Width | Petal.Length | Petal.Width | Species |\n",
       "|---|---|---|---|---|\n",
       "| 5.1    | 3.5    | 1.4    | 0.2    | setosa |\n",
       "| 4.9    | 3.0    | 1.4    | 0.2    | setosa |\n",
       "| 4.7    | 3.2    | 1.3    | 0.2    | setosa |\n",
       "| 4.6    | 3.1    | 1.5    | 0.2    | setosa |\n",
       "| 5.0    | 3.6    | 1.4    | 0.2    | setosa |\n",
       "| 5.4    | 3.9    | 1.7    | 0.4    | setosa |\n",
       "\n"
      ],
      "text/plain": [
       "  Sepal.Length Sepal.Width Petal.Length Petal.Width Species\n",
       "1 5.1          3.5         1.4          0.2         setosa \n",
       "2 4.9          3.0         1.4          0.2         setosa \n",
       "3 4.7          3.2         1.3          0.2         setosa \n",
       "4 4.6          3.1         1.5          0.2         setosa \n",
       "5 5.0          3.6         1.4          0.2         setosa \n",
       "6 5.4          3.9         1.7          0.4         setosa "
      ]
     },
     "metadata": {},
     "output_type": "display_data"
    }
   ],
   "source": [
    "head(tbl_df(iris))"
   ]
  },
  {
   "cell_type": "markdown",
   "metadata": {},
   "source": [
    "#### filter()"
   ]
  },
  {
   "cell_type": "code",
   "execution_count": 6,
   "metadata": {},
   "outputs": [
    {
     "data": {
      "text/html": [
       "<table>\n",
       "<thead><tr><th scope=col>Sepal.Length</th><th scope=col>Sepal.Width</th><th scope=col>Petal.Length</th><th scope=col>Petal.Width</th><th scope=col>Species</th></tr></thead>\n",
       "<tbody>\n",
       "\t<tr><td>6.3      </td><td>3.3      </td><td>6.0      </td><td>2.5      </td><td>virginica</td></tr>\n",
       "\t<tr><td>5.8      </td><td>2.7      </td><td>5.1      </td><td>1.9      </td><td>virginica</td></tr>\n",
       "\t<tr><td>7.1      </td><td>3.0      </td><td>5.9      </td><td>2.1      </td><td>virginica</td></tr>\n",
       "\t<tr><td>6.3      </td><td>2.9      </td><td>5.6      </td><td>1.8      </td><td>virginica</td></tr>\n",
       "\t<tr><td>6.5      </td><td>3.0      </td><td>5.8      </td><td>2.2      </td><td>virginica</td></tr>\n",
       "\t<tr><td>7.6      </td><td>3.0      </td><td>6.6      </td><td>2.1      </td><td>virginica</td></tr>\n",
       "</tbody>\n",
       "</table>\n"
      ],
      "text/latex": [
       "\\begin{tabular}{r|lllll}\n",
       " Sepal.Length & Sepal.Width & Petal.Length & Petal.Width & Species\\\\\n",
       "\\hline\n",
       "\t 6.3       & 3.3       & 6.0       & 2.5       & virginica\\\\\n",
       "\t 5.8       & 2.7       & 5.1       & 1.9       & virginica\\\\\n",
       "\t 7.1       & 3.0       & 5.9       & 2.1       & virginica\\\\\n",
       "\t 6.3       & 2.9       & 5.6       & 1.8       & virginica\\\\\n",
       "\t 6.5       & 3.0       & 5.8       & 2.2       & virginica\\\\\n",
       "\t 7.6       & 3.0       & 6.6       & 2.1       & virginica\\\\\n",
       "\\end{tabular}\n"
      ],
      "text/markdown": [
       "\n",
       "| Sepal.Length | Sepal.Width | Petal.Length | Petal.Width | Species |\n",
       "|---|---|---|---|---|\n",
       "| 6.3       | 3.3       | 6.0       | 2.5       | virginica |\n",
       "| 5.8       | 2.7       | 5.1       | 1.9       | virginica |\n",
       "| 7.1       | 3.0       | 5.9       | 2.1       | virginica |\n",
       "| 6.3       | 2.9       | 5.6       | 1.8       | virginica |\n",
       "| 6.5       | 3.0       | 5.8       | 2.2       | virginica |\n",
       "| 7.6       | 3.0       | 6.6       | 2.1       | virginica |\n",
       "\n"
      ],
      "text/plain": [
       "  Sepal.Length Sepal.Width Petal.Length Petal.Width Species  \n",
       "1 6.3          3.3         6.0          2.5         virginica\n",
       "2 5.8          2.7         5.1          1.9         virginica\n",
       "3 7.1          3.0         5.9          2.1         virginica\n",
       "4 6.3          2.9         5.6          1.8         virginica\n",
       "5 6.5          3.0         5.8          2.2         virginica\n",
       "6 7.6          3.0         6.6          2.1         virginica"
      ]
     },
     "metadata": {},
     "output_type": "display_data"
    }
   ],
   "source": [
    "# Filtering the data\n",
    "head(filter(iris, Species == 'virginica'))"
   ]
  },
  {
   "cell_type": "code",
   "execution_count": 9,
   "metadata": {},
   "outputs": [
    {
     "data": {
      "text/html": [
       "<table>\n",
       "<thead><tr><th scope=col>Sepal.Length</th><th scope=col>Sepal.Width</th><th scope=col>Petal.Length</th><th scope=col>Petal.Width</th><th scope=col>Species</th></tr></thead>\n",
       "<tbody>\n",
       "\t<tr><td>5.8      </td><td>2.7      </td><td>5.1      </td><td>1.9      </td><td>virginica</td></tr>\n",
       "\t<tr><td>6.3      </td><td>2.9      </td><td>5.6      </td><td>1.8      </td><td>virginica</td></tr>\n",
       "\t<tr><td>4.9      </td><td>2.5      </td><td>4.5      </td><td>1.7      </td><td>virginica</td></tr>\n",
       "\t<tr><td>7.3      </td><td>2.9      </td><td>6.3      </td><td>1.8      </td><td>virginica</td></tr>\n",
       "\t<tr><td>6.7      </td><td>2.5      </td><td>5.8      </td><td>1.8      </td><td>virginica</td></tr>\n",
       "\t<tr><td>6.5      </td><td>3.2      </td><td>5.1      </td><td>2.0      </td><td>virginica</td></tr>\n",
       "</tbody>\n",
       "</table>\n"
      ],
      "text/latex": [
       "\\begin{tabular}{r|lllll}\n",
       " Sepal.Length & Sepal.Width & Petal.Length & Petal.Width & Species\\\\\n",
       "\\hline\n",
       "\t 5.8       & 2.7       & 5.1       & 1.9       & virginica\\\\\n",
       "\t 6.3       & 2.9       & 5.6       & 1.8       & virginica\\\\\n",
       "\t 4.9       & 2.5       & 4.5       & 1.7       & virginica\\\\\n",
       "\t 7.3       & 2.9       & 6.3       & 1.8       & virginica\\\\\n",
       "\t 6.7       & 2.5       & 5.8       & 1.8       & virginica\\\\\n",
       "\t 6.5       & 3.2       & 5.1       & 2.0       & virginica\\\\\n",
       "\\end{tabular}\n"
      ],
      "text/markdown": [
       "\n",
       "| Sepal.Length | Sepal.Width | Petal.Length | Petal.Width | Species |\n",
       "|---|---|---|---|---|\n",
       "| 5.8       | 2.7       | 5.1       | 1.9       | virginica |\n",
       "| 6.3       | 2.9       | 5.6       | 1.8       | virginica |\n",
       "| 4.9       | 2.5       | 4.5       | 1.7       | virginica |\n",
       "| 7.3       | 2.9       | 6.3       | 1.8       | virginica |\n",
       "| 6.7       | 2.5       | 5.8       | 1.8       | virginica |\n",
       "| 6.5       | 3.2       | 5.1       | 2.0       | virginica |\n",
       "\n"
      ],
      "text/plain": [
       "  Sepal.Length Sepal.Width Petal.Length Petal.Width Species  \n",
       "1 5.8          2.7         5.1          1.9         virginica\n",
       "2 6.3          2.9         5.6          1.8         virginica\n",
       "3 4.9          2.5         4.5          1.7         virginica\n",
       "4 7.3          2.9         6.3          1.8         virginica\n",
       "5 6.7          2.5         5.8          1.8         virginica\n",
       "6 6.5          3.2         5.1          2.0         virginica"
      ]
     },
     "metadata": {},
     "output_type": "display_data"
    }
   ],
   "source": [
    "#filtering with multiple conditions\n",
    "head(filter(iris, Species == 'virginica', Petal.Width <= 2.0))"
   ]
  },
  {
   "cell_type": "markdown",
   "metadata": {},
   "source": [
    "#### slice()"
   ]
  },
  {
   "cell_type": "code",
   "execution_count": 10,
   "metadata": {},
   "outputs": [
    {
     "data": {
      "text/html": [
       "<table>\n",
       "<thead><tr><th scope=col>Sepal.Length</th><th scope=col>Sepal.Width</th><th scope=col>Petal.Length</th><th scope=col>Petal.Width</th><th scope=col>Species</th></tr></thead>\n",
       "<tbody>\n",
       "\t<tr><td>5.0   </td><td>3.6   </td><td>1.4   </td><td>0.2   </td><td>setosa</td></tr>\n",
       "\t<tr><td>5.4   </td><td>3.9   </td><td>1.7   </td><td>0.4   </td><td>setosa</td></tr>\n",
       "\t<tr><td>4.6   </td><td>3.4   </td><td>1.4   </td><td>0.3   </td><td>setosa</td></tr>\n",
       "\t<tr><td>5.0   </td><td>3.4   </td><td>1.5   </td><td>0.2   </td><td>setosa</td></tr>\n",
       "\t<tr><td>4.4   </td><td>2.9   </td><td>1.4   </td><td>0.2   </td><td>setosa</td></tr>\n",
       "\t<tr><td>4.9   </td><td>3.1   </td><td>1.5   </td><td>0.1   </td><td>setosa</td></tr>\n",
       "</tbody>\n",
       "</table>\n"
      ],
      "text/latex": [
       "\\begin{tabular}{r|lllll}\n",
       " Sepal.Length & Sepal.Width & Petal.Length & Petal.Width & Species\\\\\n",
       "\\hline\n",
       "\t 5.0    & 3.6    & 1.4    & 0.2    & setosa\\\\\n",
       "\t 5.4    & 3.9    & 1.7    & 0.4    & setosa\\\\\n",
       "\t 4.6    & 3.4    & 1.4    & 0.3    & setosa\\\\\n",
       "\t 5.0    & 3.4    & 1.5    & 0.2    & setosa\\\\\n",
       "\t 4.4    & 2.9    & 1.4    & 0.2    & setosa\\\\\n",
       "\t 4.9    & 3.1    & 1.5    & 0.1    & setosa\\\\\n",
       "\\end{tabular}\n"
      ],
      "text/markdown": [
       "\n",
       "| Sepal.Length | Sepal.Width | Petal.Length | Petal.Width | Species |\n",
       "|---|---|---|---|---|\n",
       "| 5.0    | 3.6    | 1.4    | 0.2    | setosa |\n",
       "| 5.4    | 3.9    | 1.7    | 0.4    | setosa |\n",
       "| 4.6    | 3.4    | 1.4    | 0.3    | setosa |\n",
       "| 5.0    | 3.4    | 1.5    | 0.2    | setosa |\n",
       "| 4.4    | 2.9    | 1.4    | 0.2    | setosa |\n",
       "| 4.9    | 3.1    | 1.5    | 0.1    | setosa |\n",
       "\n"
      ],
      "text/plain": [
       "  Sepal.Length Sepal.Width Petal.Length Petal.Width Species\n",
       "1 5.0          3.6         1.4          0.2         setosa \n",
       "2 5.4          3.9         1.7          0.4         setosa \n",
       "3 4.6          3.4         1.4          0.3         setosa \n",
       "4 5.0          3.4         1.5          0.2         setosa \n",
       "5 4.4          2.9         1.4          0.2         setosa \n",
       "6 4.9          3.1         1.5          0.1         setosa "
      ]
     },
     "metadata": {},
     "output_type": "display_data"
    }
   ],
   "source": [
    "# Slice allows us to slice the data by rows with thier positions (row numbers)\n",
    "# Slicing from 5 to 10 \n",
    "slice(iris, 5:10)"
   ]
  },
  {
   "cell_type": "markdown",
   "metadata": {},
   "source": [
    "#### arrange()"
   ]
  },
  {
   "cell_type": "code",
   "execution_count": 19,
   "metadata": {},
   "outputs": [
    {
     "data": {
      "text/html": [
       "<table>\n",
       "<thead><tr><th scope=col>Sepal.Length</th><th scope=col>Sepal.Width</th><th scope=col>Petal.Length</th><th scope=col>Petal.Width</th><th scope=col>Species</th></tr></thead>\n",
       "<tbody>\n",
       "\t<tr><td>4.3   </td><td>3.0   </td><td>1.1   </td><td>0.1   </td><td>setosa</td></tr>\n",
       "\t<tr><td>4.4   </td><td>2.9   </td><td>1.4   </td><td>0.2   </td><td>setosa</td></tr>\n",
       "\t<tr><td>4.4   </td><td>3.0   </td><td>1.3   </td><td>0.2   </td><td>setosa</td></tr>\n",
       "\t<tr><td>4.4   </td><td>3.2   </td><td>1.3   </td><td>0.2   </td><td>setosa</td></tr>\n",
       "\t<tr><td>4.5   </td><td>2.3   </td><td>1.3   </td><td>0.3   </td><td>setosa</td></tr>\n",
       "\t<tr><td>4.6   </td><td>3.1   </td><td>1.5   </td><td>0.2   </td><td>setosa</td></tr>\n",
       "</tbody>\n",
       "</table>\n"
      ],
      "text/latex": [
       "\\begin{tabular}{r|lllll}\n",
       " Sepal.Length & Sepal.Width & Petal.Length & Petal.Width & Species\\\\\n",
       "\\hline\n",
       "\t 4.3    & 3.0    & 1.1    & 0.1    & setosa\\\\\n",
       "\t 4.4    & 2.9    & 1.4    & 0.2    & setosa\\\\\n",
       "\t 4.4    & 3.0    & 1.3    & 0.2    & setosa\\\\\n",
       "\t 4.4    & 3.2    & 1.3    & 0.2    & setosa\\\\\n",
       "\t 4.5    & 2.3    & 1.3    & 0.3    & setosa\\\\\n",
       "\t 4.6    & 3.1    & 1.5    & 0.2    & setosa\\\\\n",
       "\\end{tabular}\n"
      ],
      "text/markdown": [
       "\n",
       "| Sepal.Length | Sepal.Width | Petal.Length | Petal.Width | Species |\n",
       "|---|---|---|---|---|\n",
       "| 4.3    | 3.0    | 1.1    | 0.1    | setosa |\n",
       "| 4.4    | 2.9    | 1.4    | 0.2    | setosa |\n",
       "| 4.4    | 3.0    | 1.3    | 0.2    | setosa |\n",
       "| 4.4    | 3.2    | 1.3    | 0.2    | setosa |\n",
       "| 4.5    | 2.3    | 1.3    | 0.3    | setosa |\n",
       "| 4.6    | 3.1    | 1.5    | 0.2    | setosa |\n",
       "\n"
      ],
      "text/plain": [
       "  Sepal.Length Sepal.Width Petal.Length Petal.Width Species\n",
       "1 4.3          3.0         1.1          0.1         setosa \n",
       "2 4.4          2.9         1.4          0.2         setosa \n",
       "3 4.4          3.0         1.3          0.2         setosa \n",
       "4 4.4          3.2         1.3          0.2         setosa \n",
       "5 4.5          2.3         1.3          0.3         setosa \n",
       "6 4.6          3.1         1.5          0.2         setosa "
      ]
     },
     "metadata": {},
     "output_type": "display_data"
    }
   ],
   "source": [
    "#Order rows by values of a column ascending order (low to high)\n",
    "head(arrange(iris, Sepal.Length))"
   ]
  },
  {
   "cell_type": "code",
   "execution_count": 22,
   "metadata": {},
   "outputs": [
    {
     "data": {
      "text/html": [
       "<table>\n",
       "<thead><tr><th scope=col>Sepal.Length</th><th scope=col>Sepal.Width</th><th scope=col>Petal.Length</th><th scope=col>Petal.Width</th><th scope=col>Species</th></tr></thead>\n",
       "<tbody>\n",
       "\t<tr><td>7.9      </td><td>3.8      </td><td>6.4      </td><td>2.0      </td><td>virginica</td></tr>\n",
       "\t<tr><td>7.7      </td><td>3.8      </td><td>6.7      </td><td>2.2      </td><td>virginica</td></tr>\n",
       "\t<tr><td>7.7      </td><td>2.6      </td><td>6.9      </td><td>2.3      </td><td>virginica</td></tr>\n",
       "\t<tr><td>7.7      </td><td>2.8      </td><td>6.7      </td><td>2.0      </td><td>virginica</td></tr>\n",
       "\t<tr><td>7.7      </td><td>3.0      </td><td>6.1      </td><td>2.3      </td><td>virginica</td></tr>\n",
       "\t<tr><td>7.6      </td><td>3.0      </td><td>6.6      </td><td>2.1      </td><td>virginica</td></tr>\n",
       "</tbody>\n",
       "</table>\n"
      ],
      "text/latex": [
       "\\begin{tabular}{r|lllll}\n",
       " Sepal.Length & Sepal.Width & Petal.Length & Petal.Width & Species\\\\\n",
       "\\hline\n",
       "\t 7.9       & 3.8       & 6.4       & 2.0       & virginica\\\\\n",
       "\t 7.7       & 3.8       & 6.7       & 2.2       & virginica\\\\\n",
       "\t 7.7       & 2.6       & 6.9       & 2.3       & virginica\\\\\n",
       "\t 7.7       & 2.8       & 6.7       & 2.0       & virginica\\\\\n",
       "\t 7.7       & 3.0       & 6.1       & 2.3       & virginica\\\\\n",
       "\t 7.6       & 3.0       & 6.6       & 2.1       & virginica\\\\\n",
       "\\end{tabular}\n"
      ],
      "text/markdown": [
       "\n",
       "| Sepal.Length | Sepal.Width | Petal.Length | Petal.Width | Species |\n",
       "|---|---|---|---|---|\n",
       "| 7.9       | 3.8       | 6.4       | 2.0       | virginica |\n",
       "| 7.7       | 3.8       | 6.7       | 2.2       | virginica |\n",
       "| 7.7       | 2.6       | 6.9       | 2.3       | virginica |\n",
       "| 7.7       | 2.8       | 6.7       | 2.0       | virginica |\n",
       "| 7.7       | 3.0       | 6.1       | 2.3       | virginica |\n",
       "| 7.6       | 3.0       | 6.6       | 2.1       | virginica |\n",
       "\n"
      ],
      "text/plain": [
       "  Sepal.Length Sepal.Width Petal.Length Petal.Width Species  \n",
       "1 7.9          3.8         6.4          2.0         virginica\n",
       "2 7.7          3.8         6.7          2.2         virginica\n",
       "3 7.7          2.6         6.9          2.3         virginica\n",
       "4 7.7          2.8         6.7          2.0         virginica\n",
       "5 7.7          3.0         6.1          2.3         virginica\n",
       "6 7.6          3.0         6.6          2.1         virginica"
      ]
     },
     "metadata": {},
     "output_type": "display_data"
    }
   ],
   "source": [
    "# Order rows by values of a column from desceinding order(high to low)\n",
    "head(arrange(iris,desc(Sepal.Length)))"
   ]
  },
  {
   "cell_type": "markdown",
   "metadata": {},
   "source": [
    "#### select()"
   ]
  },
  {
   "cell_type": "code",
   "execution_count": 39,
   "metadata": {},
   "outputs": [
    {
     "data": {
      "text/html": [
       "<table>\n",
       "<thead><tr><th scope=col>Species</th><th scope=col>Petal.Width</th><th scope=col>Sepal.Width</th></tr></thead>\n",
       "<tbody>\n",
       "\t<tr><td>setosa</td><td>0.2   </td><td>3.5   </td></tr>\n",
       "\t<tr><td>setosa</td><td>0.2   </td><td>3.0   </td></tr>\n",
       "\t<tr><td>setosa</td><td>0.2   </td><td>3.2   </td></tr>\n",
       "\t<tr><td>setosa</td><td>0.2   </td><td>3.1   </td></tr>\n",
       "\t<tr><td>setosa</td><td>0.2   </td><td>3.6   </td></tr>\n",
       "\t<tr><td>setosa</td><td>0.4   </td><td>3.9   </td></tr>\n",
       "</tbody>\n",
       "</table>\n"
      ],
      "text/latex": [
       "\\begin{tabular}{r|lll}\n",
       " Species & Petal.Width & Sepal.Width\\\\\n",
       "\\hline\n",
       "\t setosa & 0.2    & 3.5   \\\\\n",
       "\t setosa & 0.2    & 3.0   \\\\\n",
       "\t setosa & 0.2    & 3.2   \\\\\n",
       "\t setosa & 0.2    & 3.1   \\\\\n",
       "\t setosa & 0.2    & 3.6   \\\\\n",
       "\t setosa & 0.4    & 3.9   \\\\\n",
       "\\end{tabular}\n"
      ],
      "text/markdown": [
       "\n",
       "| Species | Petal.Width | Sepal.Width |\n",
       "|---|---|---|\n",
       "| setosa | 0.2    | 3.5    |\n",
       "| setosa | 0.2    | 3.0    |\n",
       "| setosa | 0.2    | 3.2    |\n",
       "| setosa | 0.2    | 3.1    |\n",
       "| setosa | 0.2    | 3.6    |\n",
       "| setosa | 0.4    | 3.9    |\n",
       "\n"
      ],
      "text/plain": [
       "  Species Petal.Width Sepal.Width\n",
       "1 setosa  0.2         3.5        \n",
       "2 setosa  0.2         3.0        \n",
       "3 setosa  0.2         3.2        \n",
       "4 setosa  0.2         3.1        \n",
       "5 setosa  0.2         3.6        \n",
       "6 setosa  0.4         3.9        "
      ]
     },
     "metadata": {},
     "output_type": "display_data"
    }
   ],
   "source": [
    "# Select the function allows us to grap columns and create a new datafrme\n",
    "# select columns Species, Petal.width, Sepal.Width\n",
    "head(select(iris, Species, Petal.Width, Sepal.Width))"
   ]
  },
  {
   "cell_type": "code",
   "execution_count": 41,
   "metadata": {},
   "outputs": [
    {
     "data": {
      "text/html": [
       "<table>\n",
       "<thead><tr><th scope=col>Species</th><th scope=col>Sepal.Width</th><th scope=col>Petal.Width</th></tr></thead>\n",
       "<tbody>\n",
       "\t<tr><td>setosa</td><td>3.5   </td><td>0.2   </td></tr>\n",
       "\t<tr><td>setosa</td><td>3.0   </td><td>0.2   </td></tr>\n",
       "\t<tr><td>setosa</td><td>3.2   </td><td>0.2   </td></tr>\n",
       "\t<tr><td>setosa</td><td>3.1   </td><td>0.2   </td></tr>\n",
       "\t<tr><td>setosa</td><td>3.6   </td><td>0.2   </td></tr>\n",
       "\t<tr><td>setosa</td><td>3.9   </td><td>0.4   </td></tr>\n",
       "</tbody>\n",
       "</table>\n"
      ],
      "text/latex": [
       "\\begin{tabular}{r|lll}\n",
       " Species & Sepal.Width & Petal.Width\\\\\n",
       "\\hline\n",
       "\t setosa & 3.5    & 0.2   \\\\\n",
       "\t setosa & 3.0    & 0.2   \\\\\n",
       "\t setosa & 3.2    & 0.2   \\\\\n",
       "\t setosa & 3.1    & 0.2   \\\\\n",
       "\t setosa & 3.6    & 0.2   \\\\\n",
       "\t setosa & 3.9    & 0.4   \\\\\n",
       "\\end{tabular}\n"
      ],
      "text/markdown": [
       "\n",
       "| Species | Sepal.Width | Petal.Width |\n",
       "|---|---|---|\n",
       "| setosa | 3.5    | 0.2    |\n",
       "| setosa | 3.0    | 0.2    |\n",
       "| setosa | 3.2    | 0.2    |\n",
       "| setosa | 3.1    | 0.2    |\n",
       "| setosa | 3.6    | 0.2    |\n",
       "| setosa | 3.9    | 0.4    |\n",
       "\n"
      ],
      "text/plain": [
       "  Species Sepal.Width Petal.Width\n",
       "1 setosa  3.5         0.2        \n",
       "2 setosa  3.0         0.2        \n",
       "3 setosa  3.2         0.2        \n",
       "4 setosa  3.1         0.2        \n",
       "5 setosa  3.6         0.2        \n",
       "6 setosa  3.9         0.4        "
      ]
     },
     "metadata": {},
     "output_type": "display_data"
    }
   ],
   "source": [
    "# Select the colunn with helper functions \n",
    "# Example select the columns that contains a string .Width\n",
    "head(select(iris, Species, contains(\".Width\")))"
   ]
  },
  {
   "cell_type": "markdown",
   "metadata": {},
   "source": [
    "#### rename()"
   ]
  },
  {
   "cell_type": "code",
   "execution_count": 37,
   "metadata": {},
   "outputs": [
    {
     "data": {
      "text/html": [
       "<table>\n",
       "<thead><tr><th scope=col>Sepal.Length</th><th scope=col>Sepal.Width</th><th scope=col>Petal.Length</th><th scope=col>Petal.Width</th><th scope=col>NewColumn</th></tr></thead>\n",
       "<tbody>\n",
       "\t<tr><td>5.1   </td><td>3.5   </td><td>1.4   </td><td>0.2   </td><td>setosa</td></tr>\n",
       "\t<tr><td>4.9   </td><td>3.0   </td><td>1.4   </td><td>0.2   </td><td>setosa</td></tr>\n",
       "\t<tr><td>4.7   </td><td>3.2   </td><td>1.3   </td><td>0.2   </td><td>setosa</td></tr>\n",
       "\t<tr><td>4.6   </td><td>3.1   </td><td>1.5   </td><td>0.2   </td><td>setosa</td></tr>\n",
       "\t<tr><td>5.0   </td><td>3.6   </td><td>1.4   </td><td>0.2   </td><td>setosa</td></tr>\n",
       "\t<tr><td>5.4   </td><td>3.9   </td><td>1.7   </td><td>0.4   </td><td>setosa</td></tr>\n",
       "</tbody>\n",
       "</table>\n"
      ],
      "text/latex": [
       "\\begin{tabular}{r|lllll}\n",
       " Sepal.Length & Sepal.Width & Petal.Length & Petal.Width & NewColumn\\\\\n",
       "\\hline\n",
       "\t 5.1    & 3.5    & 1.4    & 0.2    & setosa\\\\\n",
       "\t 4.9    & 3.0    & 1.4    & 0.2    & setosa\\\\\n",
       "\t 4.7    & 3.2    & 1.3    & 0.2    & setosa\\\\\n",
       "\t 4.6    & 3.1    & 1.5    & 0.2    & setosa\\\\\n",
       "\t 5.0    & 3.6    & 1.4    & 0.2    & setosa\\\\\n",
       "\t 5.4    & 3.9    & 1.7    & 0.4    & setosa\\\\\n",
       "\\end{tabular}\n"
      ],
      "text/markdown": [
       "\n",
       "| Sepal.Length | Sepal.Width | Petal.Length | Petal.Width | NewColumn |\n",
       "|---|---|---|---|---|\n",
       "| 5.1    | 3.5    | 1.4    | 0.2    | setosa |\n",
       "| 4.9    | 3.0    | 1.4    | 0.2    | setosa |\n",
       "| 4.7    | 3.2    | 1.3    | 0.2    | setosa |\n",
       "| 4.6    | 3.1    | 1.5    | 0.2    | setosa |\n",
       "| 5.0    | 3.6    | 1.4    | 0.2    | setosa |\n",
       "| 5.4    | 3.9    | 1.7    | 0.4    | setosa |\n",
       "\n"
      ],
      "text/plain": [
       "  Sepal.Length Sepal.Width Petal.Length Petal.Width NewColumn\n",
       "1 5.1          3.5         1.4          0.2         setosa   \n",
       "2 4.9          3.0         1.4          0.2         setosa   \n",
       "3 4.7          3.2         1.3          0.2         setosa   \n",
       "4 4.6          3.1         1.5          0.2         setosa   \n",
       "5 5.0          3.6         1.4          0.2         setosa   \n",
       "6 5.4          3.9         1.7          0.4         setosa   "
      ]
     },
     "metadata": {},
     "output_type": "display_data"
    }
   ],
   "source": [
    "# Renaming a column in the dataframe\n",
    "# rename(dataframename, newcolumnname = existingcolumn name)\n",
    "head(rename(iris,NewColumn = Species))"
   ]
  },
  {
   "cell_type": "markdown",
   "metadata": {},
   "source": [
    "#### distinct()"
   ]
  },
  {
   "cell_type": "code",
   "execution_count": 42,
   "metadata": {},
   "outputs": [
    {
     "data": {
      "text/html": [
       "<table>\n",
       "<thead><tr><th scope=col>Species</th></tr></thead>\n",
       "<tbody>\n",
       "\t<tr><td>setosa    </td></tr>\n",
       "\t<tr><td>versicolor</td></tr>\n",
       "\t<tr><td>virginica </td></tr>\n",
       "</tbody>\n",
       "</table>\n"
      ],
      "text/latex": [
       "\\begin{tabular}{r|l}\n",
       " Species\\\\\n",
       "\\hline\n",
       "\t setosa    \\\\\n",
       "\t versicolor\\\\\n",
       "\t virginica \\\\\n",
       "\\end{tabular}\n"
      ],
      "text/markdown": [
       "\n",
       "| Species |\n",
       "|---|\n",
       "| setosa     |\n",
       "| versicolor |\n",
       "| virginica  |\n",
       "\n"
      ],
      "text/plain": [
       "  Species   \n",
       "1 setosa    \n",
       "2 versicolor\n",
       "3 virginica "
      ]
     },
     "metadata": {},
     "output_type": "display_data"
    }
   ],
   "source": [
    "# distinct() function removes the duplicate in the dataframe and returns only distinct values\n",
    "# form the species column, show only distinct values\n",
    "distinct(select(iris,Species))"
   ]
  },
  {
   "cell_type": "markdown",
   "metadata": {},
   "source": [
    "#### mutate()"
   ]
  },
  {
   "cell_type": "code",
   "execution_count": 44,
   "metadata": {},
   "outputs": [
    {
     "data": {
      "text/html": [
       "<table>\n",
       "<thead><tr><th scope=col>Sepal.Length</th><th scope=col>Sepal.Width</th><th scope=col>Petal.Length</th><th scope=col>Petal.Width</th><th scope=col>Species</th><th scope=col>ratio</th></tr></thead>\n",
       "<tbody>\n",
       "\t<tr><td>5.1     </td><td>3.5     </td><td>1.4     </td><td>0.2     </td><td>setosa  </td><td>1.457143</td></tr>\n",
       "\t<tr><td>4.9     </td><td>3.0     </td><td>1.4     </td><td>0.2     </td><td>setosa  </td><td>1.633333</td></tr>\n",
       "\t<tr><td>4.7     </td><td>3.2     </td><td>1.3     </td><td>0.2     </td><td>setosa  </td><td>1.468750</td></tr>\n",
       "\t<tr><td>4.6     </td><td>3.1     </td><td>1.5     </td><td>0.2     </td><td>setosa  </td><td>1.483871</td></tr>\n",
       "\t<tr><td>5.0     </td><td>3.6     </td><td>1.4     </td><td>0.2     </td><td>setosa  </td><td>1.388889</td></tr>\n",
       "\t<tr><td>5.4     </td><td>3.9     </td><td>1.7     </td><td>0.4     </td><td>setosa  </td><td>1.384615</td></tr>\n",
       "</tbody>\n",
       "</table>\n"
      ],
      "text/latex": [
       "\\begin{tabular}{r|llllll}\n",
       " Sepal.Length & Sepal.Width & Petal.Length & Petal.Width & Species & ratio\\\\\n",
       "\\hline\n",
       "\t 5.1      & 3.5      & 1.4      & 0.2      & setosa   & 1.457143\\\\\n",
       "\t 4.9      & 3.0      & 1.4      & 0.2      & setosa   & 1.633333\\\\\n",
       "\t 4.7      & 3.2      & 1.3      & 0.2      & setosa   & 1.468750\\\\\n",
       "\t 4.6      & 3.1      & 1.5      & 0.2      & setosa   & 1.483871\\\\\n",
       "\t 5.0      & 3.6      & 1.4      & 0.2      & setosa   & 1.388889\\\\\n",
       "\t 5.4      & 3.9      & 1.7      & 0.4      & setosa   & 1.384615\\\\\n",
       "\\end{tabular}\n"
      ],
      "text/markdown": [
       "\n",
       "| Sepal.Length | Sepal.Width | Petal.Length | Petal.Width | Species | ratio |\n",
       "|---|---|---|---|---|---|\n",
       "| 5.1      | 3.5      | 1.4      | 0.2      | setosa   | 1.457143 |\n",
       "| 4.9      | 3.0      | 1.4      | 0.2      | setosa   | 1.633333 |\n",
       "| 4.7      | 3.2      | 1.3      | 0.2      | setosa   | 1.468750 |\n",
       "| 4.6      | 3.1      | 1.5      | 0.2      | setosa   | 1.483871 |\n",
       "| 5.0      | 3.6      | 1.4      | 0.2      | setosa   | 1.388889 |\n",
       "| 5.4      | 3.9      | 1.7      | 0.4      | setosa   | 1.384615 |\n",
       "\n"
      ],
      "text/plain": [
       "  Sepal.Length Sepal.Width Petal.Length Petal.Width Species ratio   \n",
       "1 5.1          3.5         1.4          0.2         setosa  1.457143\n",
       "2 4.9          3.0         1.4          0.2         setosa  1.633333\n",
       "3 4.7          3.2         1.3          0.2         setosa  1.468750\n",
       "4 4.6          3.1         1.5          0.2         setosa  1.483871\n",
       "5 5.0          3.6         1.4          0.2         setosa  1.388889\n",
       "6 5.4          3.9         1.7          0.4         setosa  1.384615"
      ]
     },
     "metadata": {},
     "output_type": "display_data"
    }
   ],
   "source": [
    "#Compute and add one or more columns with mutate()\n",
    "#append a column ratio that is ratio of  Sepal.Length and Sepal.width\n",
    "#syntax\n",
    "#mutate(dataframe, new_column name = (function required))\n",
    "head(mutate(iris, ratio = Sepal.Length/Sepal.Width))\n"
   ]
  },
  {
   "cell_type": "markdown",
   "metadata": {},
   "source": [
    "#### transmute()"
   ]
  },
  {
   "cell_type": "code",
   "execution_count": 46,
   "metadata": {},
   "outputs": [
    {
     "data": {
      "text/html": [
       "<table>\n",
       "<thead><tr><th scope=col>sepal</th></tr></thead>\n",
       "<tbody>\n",
       "\t<tr><td>1.457143</td></tr>\n",
       "\t<tr><td>1.633333</td></tr>\n",
       "\t<tr><td>1.468750</td></tr>\n",
       "\t<tr><td>1.483871</td></tr>\n",
       "\t<tr><td>1.388889</td></tr>\n",
       "\t<tr><td>1.384615</td></tr>\n",
       "</tbody>\n",
       "</table>\n"
      ],
      "text/latex": [
       "\\begin{tabular}{r|l}\n",
       " sepal\\\\\n",
       "\\hline\n",
       "\t 1.457143\\\\\n",
       "\t 1.633333\\\\\n",
       "\t 1.468750\\\\\n",
       "\t 1.483871\\\\\n",
       "\t 1.388889\\\\\n",
       "\t 1.384615\\\\\n",
       "\\end{tabular}\n"
      ],
      "text/markdown": [
       "\n",
       "| sepal |\n",
       "|---|\n",
       "| 1.457143 |\n",
       "| 1.633333 |\n",
       "| 1.468750 |\n",
       "| 1.483871 |\n",
       "| 1.388889 |\n",
       "| 1.384615 |\n",
       "\n"
      ],
      "text/plain": [
       "  sepal   \n",
       "1 1.457143\n",
       "2 1.633333\n",
       "3 1.468750\n",
       "4 1.483871\n",
       "5 1.388889\n",
       "6 1.384615"
      ]
     },
     "metadata": {},
     "output_type": "display_data"
    }
   ],
   "source": [
    "#Compute one or more new columns. Drop original columns.\n",
    "head(transmute(iris, sepal = Sepal.Length/Sepal.Width))"
   ]
  },
  {
   "cell_type": "markdown",
   "metadata": {},
   "source": [
    "#### summarise()\n"
   ]
  },
  {
   "cell_type": "code",
   "execution_count": 47,
   "metadata": {},
   "outputs": [
    {
     "data": {
      "text/html": [
       "<table>\n",
       "<thead><tr><th scope=col>avg</th></tr></thead>\n",
       "<tbody>\n",
       "\t<tr><td>5.843333</td></tr>\n",
       "</tbody>\n",
       "</table>\n"
      ],
      "text/latex": [
       "\\begin{tabular}{r|l}\n",
       " avg\\\\\n",
       "\\hline\n",
       "\t 5.843333\\\\\n",
       "\\end{tabular}\n"
      ],
      "text/markdown": [
       "\n",
       "| avg |\n",
       "|---|\n",
       "| 5.843333 |\n",
       "\n"
      ],
      "text/plain": [
       "  avg     \n",
       "1 5.843333"
      ]
     },
     "metadata": {},
     "output_type": "display_data"
    }
   ],
   "source": [
    "#Summarise data into single row of values.\n",
    "summarise(iris, avg = mean(Sepal.Length))"
   ]
  },
  {
   "cell_type": "markdown",
   "metadata": {},
   "source": [
    "#### pipe operator %>%"
   ]
  },
  {
   "cell_type": "code",
   "execution_count": 55,
   "metadata": {},
   "outputs": [
    {
     "data": {
      "text/html": [
       "<table>\n",
       "<thead><tr><th scope=col>cyl</th><th scope=col>hp</th><th scope=col>gear</th><th scope=col>carb</th><th scope=col>ratio</th></tr></thead>\n",
       "<tbody>\n",
       "\t<tr><td>6       </td><td>110     </td><td>4       </td><td>4       </td><td>27.50000</td></tr>\n",
       "\t<tr><td>6       </td><td>110     </td><td>4       </td><td>4       </td><td>27.50000</td></tr>\n",
       "\t<tr><td>4       </td><td> 93     </td><td>4       </td><td>1       </td><td>23.25000</td></tr>\n",
       "\t<tr><td>6       </td><td>110     </td><td>3       </td><td>1       </td><td>36.66667</td></tr>\n",
       "\t<tr><td>8       </td><td>175     </td><td>3       </td><td>2       </td><td>58.33333</td></tr>\n",
       "\t<tr><td>6       </td><td>105     </td><td>3       </td><td>1       </td><td>35.00000</td></tr>\n",
       "</tbody>\n",
       "</table>\n"
      ],
      "text/latex": [
       "\\begin{tabular}{r|lllll}\n",
       " cyl & hp & gear & carb & ratio\\\\\n",
       "\\hline\n",
       "\t 6        & 110      & 4        & 4        & 27.50000\\\\\n",
       "\t 6        & 110      & 4        & 4        & 27.50000\\\\\n",
       "\t 4        &  93      & 4        & 1        & 23.25000\\\\\n",
       "\t 6        & 110      & 3        & 1        & 36.66667\\\\\n",
       "\t 8        & 175      & 3        & 2        & 58.33333\\\\\n",
       "\t 6        & 105      & 3        & 1        & 35.00000\\\\\n",
       "\\end{tabular}\n"
      ],
      "text/markdown": [
       "\n",
       "| cyl | hp | gear | carb | ratio |\n",
       "|---|---|---|---|---|\n",
       "| 6        | 110      | 4        | 4        | 27.50000 |\n",
       "| 6        | 110      | 4        | 4        | 27.50000 |\n",
       "| 4        |  93      | 4        | 1        | 23.25000 |\n",
       "| 6        | 110      | 3        | 1        | 36.66667 |\n",
       "| 8        | 175      | 3        | 2        | 58.33333 |\n",
       "| 6        | 105      | 3        | 1        | 35.00000 |\n",
       "\n"
      ],
      "text/plain": [
       "  cyl hp  gear carb ratio   \n",
       "1 6   110 4    4    27.50000\n",
       "2 6   110 4    4    27.50000\n",
       "3 4    93 4    1    23.25000\n",
       "4 6   110 3    1    36.66667\n",
       "5 8   175 3    2    58.33333\n",
       "6 6   105 3    1    35.00000"
      ]
     },
     "metadata": {},
     "output_type": "display_data"
    }
   ],
   "source": [
    "# pipe operator %>% gives advantage while writing nested steps.\n",
    "# dataframe %>% operation1 %>% operator\n",
    "# get only rows where mpg >10\n",
    "# select columns cyl, hp, gear carb\n",
    "# add a newcolumn that is ratio of hp/gear\n",
    "head(mtcars %>% filter(mpg>10) %>% select(cyl, hp, gear,carb) %>% mutate(ratio = hp/gear))\n"
   ]
  },
  {
   "cell_type": "code",
   "execution_count": null,
   "metadata": {},
   "outputs": [],
   "source": []
  }
 ],
 "metadata": {
  "kernelspec": {
   "display_name": "R",
   "language": "R",
   "name": "ir"
  },
  "language_info": {
   "codemirror_mode": "r",
   "file_extension": ".r",
   "mimetype": "text/x-r-source",
   "name": "R",
   "pygments_lexer": "r",
   "version": "3.6.0"
  }
 },
 "nbformat": 4,
 "nbformat_minor": 2
}
