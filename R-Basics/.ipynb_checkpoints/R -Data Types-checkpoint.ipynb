{
 "cells": [
  {
   "cell_type": "markdown",
   "id": "650c4ce2",
   "metadata": {},
   "source": [
    "#### Data Types\n",
    "> - 1. **Vectors** -- These are Atomic Type \n",
    "> - 2. **Lists** -- All the below are collection Type\n",
    "> - 3. **Matrices**\n",
    "> - 4. **Arrays**\n",
    "> - 5. **Factors**\n",
    "> - 6. **Data Frames**"
   ]
  },
  {
   "cell_type": "markdown",
   "id": "71d4193a",
   "metadata": {},
   "source": [
    "#### Vectors (6 Types)\n",
    "> - 1. **Logical - Boolean**\n",
    "> - 2. **Numeric - Floating**\n",
    "> - 3. **Integers**\n",
    "> - 4. **Complex **\n",
    "> - 5. **Character**\n",
    "> - 6. **Raw**"
   ]
  },
  {
   "cell_type": "code",
   "execution_count": 4,
   "id": "51ad1976",
   "metadata": {},
   "outputs": [
    {
     "name": "stdout",
     "output_type": "stream",
     "text": [
      "[1] \"logical\"\n"
     ]
    }
   ],
   "source": [
    "#Logical Type or boolean type\n",
    "is_correct <- TRUE\n",
    "print(class(is_correct))\n"
   ]
  },
  {
   "cell_type": "code",
   "execution_count": null,
   "id": "fb57e467",
   "metadata": {},
   "outputs": [],
   "source": []
  }
 ],
 "metadata": {
  "kernelspec": {
   "display_name": "R",
   "language": "R",
   "name": "ir"
  },
  "language_info": {
   "codemirror_mode": "r",
   "file_extension": ".r",
   "mimetype": "text/x-r-source",
   "name": "R",
   "pygments_lexer": "r",
   "version": "3.6.1"
  }
 },
 "nbformat": 4,
 "nbformat_minor": 5
}
