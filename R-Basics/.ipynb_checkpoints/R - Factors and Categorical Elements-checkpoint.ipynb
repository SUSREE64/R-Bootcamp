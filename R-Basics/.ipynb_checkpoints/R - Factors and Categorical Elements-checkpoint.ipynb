{
 "cells": [
  {
   "cell_type": "markdown",
   "metadata": {},
   "source": [
    "### Factors "
   ]
  },
  {
   "cell_type": "markdown",
   "metadata": {},
   "source": [
    "<p> Conceptually, factors are variables in R which take on a limited number of different values; such variables are often refered to as categorical variables. One of the most important uses of factors is in statistical modeling; since categorical variables enter into statistical models differently than continuous variables, storing data as factors insures that the modeling functions will treat such data correctly.</p>"
   ]
  },
  {
   "cell_type": "code",
   "execution_count": 1,
   "metadata": {},
   "outputs": [],
   "source": [
    "animals <- c('Dog', 'Dog', 'Cat', 'Cat', 'Dog', 'Horse', 'Horse')"
   ]
  },
  {
   "cell_type": "code",
   "execution_count": 2,
   "metadata": {},
   "outputs": [
    {
     "data": {
      "text/html": [
       "<ol class=list-inline>\n",
       "\t<li>Dog</li>\n",
       "\t<li>Dog</li>\n",
       "\t<li>Cat</li>\n",
       "\t<li>Cat</li>\n",
       "\t<li>Dog</li>\n",
       "\t<li>Horse</li>\n",
       "\t<li>Horse</li>\n",
       "</ol>\n",
       "\n",
       "<details>\n",
       "\t<summary style=display:list-item;cursor:pointer>\n",
       "\t\t<strong>Levels</strong>:\n",
       "\t</summary>\n",
       "\t<ol class=list-inline>\n",
       "\t\t<li>'Cat'</li>\n",
       "\t\t<li>'Dog'</li>\n",
       "\t\t<li>'Horse'</li>\n",
       "\t</ol>\n",
       "</details>"
      ],
      "text/latex": [
       "\\begin{enumerate*}\n",
       "\\item Dog\n",
       "\\item Dog\n",
       "\\item Cat\n",
       "\\item Cat\n",
       "\\item Dog\n",
       "\\item Horse\n",
       "\\item Horse\n",
       "\\end{enumerate*}\n",
       "\n",
       "\\emph{Levels}: \\begin{enumerate*}\n",
       "\\item 'Cat'\n",
       "\\item 'Dog'\n",
       "\\item 'Horse'\n",
       "\\end{enumerate*}\n"
      ],
      "text/markdown": [
       "1. Dog\n",
       "2. Dog\n",
       "3. Cat\n",
       "4. Cat\n",
       "5. Dog\n",
       "6. Horse\n",
       "7. Horse\n",
       "\n",
       "\n",
       "\n",
       "**Levels**: 1. 'Cat'\n",
       "2. 'Dog'\n",
       "3. 'Horse'\n",
       "\n",
       "\n"
      ],
      "text/plain": [
       "[1] Dog   Dog   Cat   Cat   Dog   Horse Horse\n",
       "Levels: Cat Dog Horse"
      ]
     },
     "metadata": {},
     "output_type": "display_data"
    }
   ],
   "source": [
    "factor(animals)"
   ]
  },
  {
   "cell_type": "markdown",
   "metadata": {},
   "source": [
    "<p> Levels are the various catgories that are repetative in the vector. There are 3 distinct Levels in the above vector</p> "
   ]
  },
  {
   "cell_type": "markdown",
   "metadata": {},
   "source": [
    "<p> There are two types of categorical variables </p>\n",
    "<p> 1. Nominal -- There is no order for this. All levels are equivalent and represent just a category</p>\n",
    "<p> 2. Ordinal -- There is some order/measurement for this </p>"
   ]
  },
  {
   "cell_type": "code",
   "execution_count": 8,
   "metadata": {},
   "outputs": [
    {
     "data": {
      "text/html": [
       "<ol class=list-inline>\n",
       "\t<li>Hot</li>\n",
       "\t<li>Cold</li>\n",
       "\t<li>Warm</li>\n",
       "\t<li>Cold</li>\n",
       "\t<li>Hot</li>\n",
       "\t<li>Warm</li>\n",
       "\t<li>Warm</li>\n",
       "</ol>\n",
       "\n",
       "<details>\n",
       "\t<summary style=display:list-item;cursor:pointer>\n",
       "\t\t<strong>Levels</strong>:\n",
       "\t</summary>\n",
       "\t<ol class=list-inline>\n",
       "\t\t<li>'Hot'</li>\n",
       "\t\t<li>'Warm'</li>\n",
       "\t\t<li>'Cold'</li>\n",
       "\t</ol>\n",
       "</details>"
      ],
      "text/latex": [
       "\\begin{enumerate*}\n",
       "\\item Hot\n",
       "\\item Cold\n",
       "\\item Warm\n",
       "\\item Cold\n",
       "\\item Hot\n",
       "\\item Warm\n",
       "\\item Warm\n",
       "\\end{enumerate*}\n",
       "\n",
       "\\emph{Levels}: \\begin{enumerate*}\n",
       "\\item 'Hot'\n",
       "\\item 'Warm'\n",
       "\\item 'Cold'\n",
       "\\end{enumerate*}\n"
      ],
      "text/markdown": [
       "1. Hot\n",
       "2. Cold\n",
       "3. Warm\n",
       "4. Cold\n",
       "5. Hot\n",
       "6. Warm\n",
       "7. Warm\n",
       "\n",
       "\n",
       "\n",
       "**Levels**: 1. 'Hot'\n",
       "2. 'Warm'\n",
       "3. 'Cold'\n",
       "\n",
       "\n"
      ],
      "text/plain": [
       "[1] Hot  Cold Warm Cold Hot  Warm Warm\n",
       "Levels: Hot < Warm < Cold"
      ]
     },
     "metadata": {},
     "output_type": "display_data"
    }
   ],
   "source": [
    "# Example of Ordinal variable with defined levels while making factor\n",
    "temp <- c('Hot', 'Cold', 'Warm', 'Cold', 'Hot', 'Warm', 'Warm')\n",
    "fact.temp <- factor(temp, ordered = TRUE, level = c('Hot', 'Warm', 'Cold'))\n",
    "fact.temp"
   ]
  },
  {
   "cell_type": "markdown",
   "metadata": {},
   "source": [
    "### summary()"
   ]
  },
  {
   "cell_type": "code",
   "execution_count": 15,
   "metadata": {},
   "outputs": [
    {
     "data": {
      "text/html": [
       "<dl class=dl-horizontal>\n",
       "\t<dt>Hot</dt>\n",
       "\t\t<dd>2</dd>\n",
       "\t<dt>Warm</dt>\n",
       "\t\t<dd>3</dd>\n",
       "\t<dt>Cold</dt>\n",
       "\t\t<dd>2</dd>\n",
       "</dl>\n"
      ],
      "text/latex": [
       "\\begin{description*}\n",
       "\\item[Hot] 2\n",
       "\\item[Warm] 3\n",
       "\\item[Cold] 2\n",
       "\\end{description*}\n"
      ],
      "text/markdown": [
       "Hot\n",
       ":   2Warm\n",
       ":   3Cold\n",
       ":   2\n",
       "\n"
      ],
      "text/plain": [
       " Hot Warm Cold \n",
       "   2    3    2 "
      ]
     },
     "metadata": {},
     "output_type": "display_data"
    }
   ],
   "source": [
    "# summary function on the factors\n",
    "# this shows the distinct counts of each category\n",
    "summary(fact.temp)"
   ]
  },
  {
   "cell_type": "code",
   "execution_count": 16,
   "metadata": {},
   "outputs": [
    {
     "data": {
      "text/html": [
       "<dl class=dl-horizontal>\n",
       "\t<dt>Cat</dt>\n",
       "\t\t<dd>2</dd>\n",
       "\t<dt>Dog</dt>\n",
       "\t\t<dd>3</dd>\n",
       "\t<dt>Horse</dt>\n",
       "\t\t<dd>2</dd>\n",
       "</dl>\n"
      ],
      "text/latex": [
       "\\begin{description*}\n",
       "\\item[Cat] 2\n",
       "\\item[Dog] 3\n",
       "\\item[Horse] 2\n",
       "\\end{description*}\n"
      ],
      "text/markdown": [
       "Cat\n",
       ":   2Dog\n",
       ":   3Horse\n",
       ":   2\n",
       "\n"
      ],
      "text/plain": [
       "  Cat   Dog Horse \n",
       "    2     3     2 "
      ]
     },
     "metadata": {},
     "output_type": "display_data"
    }
   ],
   "source": [
    "summary(factor(animals))"
   ]
  },
  {
   "cell_type": "markdown",
   "metadata": {},
   "source": [
    "### levels()"
   ]
  },
  {
   "cell_type": "code",
   "execution_count": 17,
   "metadata": {},
   "outputs": [
    {
     "data": {
      "text/html": [
       "<ol class=list-inline>\n",
       "\t<li>'Hot'</li>\n",
       "\t<li>'Warm'</li>\n",
       "\t<li>'Cold'</li>\n",
       "</ol>\n"
      ],
      "text/latex": [
       "\\begin{enumerate*}\n",
       "\\item 'Hot'\n",
       "\\item 'Warm'\n",
       "\\item 'Cold'\n",
       "\\end{enumerate*}\n"
      ],
      "text/markdown": [
       "1. 'Hot'\n",
       "2. 'Warm'\n",
       "3. 'Cold'\n",
       "\n",
       "\n"
      ],
      "text/plain": [
       "[1] \"Hot\"  \"Warm\" \"Cold\""
      ]
     },
     "metadata": {},
     "output_type": "display_data"
    }
   ],
   "source": [
    "levels(fact.temp)"
   ]
  },
  {
   "cell_type": "code",
   "execution_count": null,
   "metadata": {},
   "outputs": [],
   "source": []
  }
 ],
 "metadata": {
  "kernelspec": {
   "display_name": "R",
   "language": "R",
   "name": "ir"
  },
  "language_info": {
   "codemirror_mode": "r",
   "file_extension": ".r",
   "mimetype": "text/x-r-source",
   "name": "R",
   "pygments_lexer": "r",
   "version": "3.6.0"
  }
 },
 "nbformat": 4,
 "nbformat_minor": 2
}
