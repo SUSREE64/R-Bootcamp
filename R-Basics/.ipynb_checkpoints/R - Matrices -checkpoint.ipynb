{
 "cells": [
  {
   "cell_type": "markdown",
   "metadata": {},
   "source": [
    "#### R- Matrices"
   ]
  },
  {
   "cell_type": "code",
   "execution_count": 1,
   "metadata": {},
   "outputs": [
    {
     "name": "stdout",
     "output_type": "stream",
     "text": [
      " [1]  1  2  3  4  5  6  7  8  9 10\n"
     ]
    }
   ],
   "source": [
    "# A sequence is one dimensional vector\n",
    "vec<- 1:10\n",
    "print(vec) # Notice that the 1 to 10 are printed as a row."
   ]
  },
  {
   "cell_type": "code",
   "execution_count": 2,
   "metadata": {},
   "outputs": [
    {
     "name": "stdout",
     "output_type": "stream",
     "text": [
      "      [,1]\n",
      " [1,]    1\n",
      " [2,]    2\n",
      " [3,]    3\n",
      " [4,]    4\n",
      " [5,]    5\n",
      " [6,]    6\n",
      " [7,]    7\n",
      " [8,]    8\n",
      " [9,]    9\n",
      "[10,]   10\n"
     ]
    }
   ],
   "source": [
    "#to convert this vec into matrix\n",
    "m <- matrix(vec)\n",
    "print(m)    "
   ]
  },
  {
   "cell_type": "code",
   "execution_count": 3,
   "metadata": {},
   "outputs": [
    {
     "name": "stdout",
     "output_type": "stream",
     "text": [
      "     [,1] [,2] [,3] [,4] [,5]\n",
      "[1,]    1    3    5    7    9\n",
      "[2,]    2    4    6    8   10\n"
     ]
    }
   ],
   "source": [
    "# we can pass on the additional arugments to matrix function to define the number of cols, filling style etc\n",
    "m2 <- matrix(vec, nrow = 2) # 2(Rows) X 3(Cols) Matrix\n",
    "print(m2)"
   ]
  },
  {
   "cell_type": "markdown",
   "metadata": {},
   "source": [
    "#### By default, matrix is filled with byrow = FALSE.  It means, the filling takes place column wise"
   ]
  },
  {
   "cell_type": "code",
   "execution_count": 4,
   "metadata": {},
   "outputs": [
    {
     "name": "stdout",
     "output_type": "stream",
     "text": [
      "     [,1] [,2] [,3] [,4] [,5]\n",
      "[1,]    1    2    3    4    5\n",
      "[2,]    6    7    8    9   10\n"
     ]
    }
   ],
   "source": [
    "# The row wise filling \n",
    "m3 <- matrix(vec, nrow = 2, byrow = TRUE)\n",
    "print(m3)"
   ]
  },
  {
   "cell_type": "markdown",
   "metadata": {},
   "source": [
    "#### We can change the names of the columns with '<i>colnames'</i> function"
   ]
  },
  {
   "cell_type": "code",
   "execution_count": 6,
   "metadata": {},
   "outputs": [
    {
     "name": "stdout",
     "output_type": "stream",
     "text": [
      "     col1 col2 col3 col4 col5\n",
      "[1,]    1    2    3    4    5\n",
      "[2,]    6    7    8    9   10\n"
     ]
    }
   ],
   "source": [
    "colnames(m3) <- c('col1', 'col2', 'col3', 'col4', 'col5')\n",
    "print(m3)"
   ]
  },
  {
   "cell_type": "markdown",
   "metadata": {},
   "source": [
    "#### We can change the names of the columns with <i>'row.names'</i> function"
   ]
  },
  {
   "cell_type": "code",
   "execution_count": 8,
   "metadata": {},
   "outputs": [
    {
     "name": "stdout",
     "output_type": "stream",
     "text": [
      "     col1 col2 col3 col4 col5\n",
      "Row1    1    2    3    4    5\n",
      "Row2    6    7    8    9   10\n"
     ]
    }
   ],
   "source": [
    "row.names(m3) <- c('Row1', 'Row2')\n",
    "print(m3)"
   ]
  },
  {
   "cell_type": "markdown",
   "metadata": {},
   "source": [
    "####  Building a matrix step by step "
   ]
  },
  {
   "cell_type": "code",
   "execution_count": 17,
   "metadata": {},
   "outputs": [
    {
     "name": "stdout",
     "output_type": "stream",
     "text": [
      "     col1 col2 col3 col4 col5\n",
      "Row1    1    2    3    4    5\n",
      "Row2    6    7    8    9   10\n"
     ]
    }
   ],
   "source": [
    "# Let us build a more meaningful matrix with cols and rows\n",
    "ages = c(45, 50, 60, 48, 32)\n",
    "names = c('sree', 'laths', 'raju', 'ravi', 'mohan')\n",
    "mat3<- matrix(ages)\n",
    "print(m3)"
   ]
  },
  {
   "cell_type": "code",
   "execution_count": 18,
   "metadata": {},
   "outputs": [
    {
     "name": "stdout",
     "output_type": "stream",
     "text": [
      "      Ages\n",
      "sree    45\n",
      "laths   50\n",
      "raju    60\n",
      "ravi    48\n",
      "mohan   32\n"
     ]
    }
   ],
   "source": [
    "#Change the rows names and changing the column name\n",
    "row.names(mat3) <- names\n",
    "colnames(mat3) <- c('Ages')\n",
    "print(mat3)"
   ]
  },
  {
   "cell_type": "code",
   "execution_count": 19,
   "metadata": {},
   "outputs": [
    {
     "data": {
      "text/html": [
       "<table>\n",
       "<thead><tr><th></th><th scope=col>Ages</th><th scope=col>salary</th></tr></thead>\n",
       "<tbody>\n",
       "\t<tr><th scope=row>sree</th><td>45   </td><td>30000</td></tr>\n",
       "\t<tr><th scope=row>laths</th><td>50   </td><td>50000</td></tr>\n",
       "\t<tr><th scope=row>raju</th><td>60   </td><td>80000</td></tr>\n",
       "\t<tr><th scope=row>ravi</th><td>48   </td><td>20000</td></tr>\n",
       "\t<tr><th scope=row>mohan</th><td>32   </td><td>60000</td></tr>\n",
       "</tbody>\n",
       "</table>\n"
      ],
      "text/latex": [
       "\\begin{tabular}{r|ll}\n",
       "  & Ages & salary\\\\\n",
       "\\hline\n",
       "\tsree & 45    & 30000\\\\\n",
       "\tlaths & 50    & 50000\\\\\n",
       "\traju & 60    & 80000\\\\\n",
       "\travi & 48    & 20000\\\\\n",
       "\tmohan & 32    & 60000\\\\\n",
       "\\end{tabular}\n"
      ],
      "text/markdown": [
       "\n",
       "| <!--/--> | Ages | salary |\n",
       "|---|---|---|\n",
       "| sree | 45    | 30000 |\n",
       "| laths | 50    | 50000 |\n",
       "| raju | 60    | 80000 |\n",
       "| ravi | 48    | 20000 |\n",
       "| mohan | 32    | 60000 |\n",
       "\n"
      ],
      "text/plain": [
       "      Ages salary\n",
       "sree  45   30000 \n",
       "laths 50   50000 \n",
       "raju  60   80000 \n",
       "ravi  48   20000 \n",
       "mohan 32   60000 "
      ]
     },
     "metadata": {},
     "output_type": "display_data"
    }
   ],
   "source": [
    "# Adding a column salary to mat3\n",
    "salary<- c(30000, 50000,80000,20000,60000)\n",
    "mat3 <- cbind(mat3, salary)\n",
    "mat3"
   ]
  },
  {
   "cell_type": "code",
   "execution_count": 20,
   "metadata": {},
   "outputs": [
    {
     "name": "stdout",
     "output_type": "stream",
     "text": [
      "      Ages salary\n",
      "sree    45  30000\n",
      "laths   50  50000\n",
      "raju    60  80000\n",
      "ravi    48  20000\n",
      "mohan   32  60000\n",
      "Babu    56  35000\n"
     ]
    }
   ],
   "source": [
    "# Adding a row to the mat3\n",
    "Babu <- c(56,35000)\n",
    "mat3 <- rbind(mat3, Babu)\n",
    "print(mat3)"
   ]
  },
  {
   "cell_type": "markdown",
   "metadata": {},
   "source": [
    "### Matrices - Arithmetic and Logical Operations"
   ]
  },
  {
   "cell_type": "code",
   "execution_count": 24,
   "metadata": {},
   "outputs": [
    {
     "name": "stdout",
     "output_type": "stream",
     "text": [
      "     [,1] [,2] [,3] [,4] [,5]\n",
      "[1,]    1    2    3    4    5\n",
      "[2,]    6    7    8    9   10\n",
      "[3,]   11   12   13   14   15\n",
      "[4,]   16   17   18   19   20\n",
      "[5,]   21   22   23   24   25\n"
     ]
    }
   ],
   "source": [
    "# Let us create a 5(Row) X 5(col) Matrix \n",
    "mat1 <- matrix(1:25, byrow = TRUE, nrow = 5)\n",
    "print(mat1)"
   ]
  },
  {
   "cell_type": "code",
   "execution_count": 26,
   "metadata": {},
   "outputs": [
    {
     "name": "stdout",
     "output_type": "stream",
     "text": [
      "     [,1] [,2] [,3] [,4] [,5]\n",
      "[1,]   10   20   30   40   50\n",
      "[2,]   60   70   80   90  100\n",
      "[3,]  110  120  130  140  150\n",
      "[4,]  160  170  180  190  200\n",
      "[5,]  210  220  230  240  250\n"
     ]
    }
   ],
   "source": [
    "# Multiply this matrix with a scalar \n",
    "print(mat1*10) # Ten folds"
   ]
  },
  {
   "cell_type": "code",
   "execution_count": 27,
   "metadata": {},
   "outputs": [
    {
     "name": "stdout",
     "output_type": "stream",
     "text": [
      "     [,1] [,2] [,3] [,4] [,5]\n",
      "[1,]  0.5  1.0  1.5  2.0  2.5\n",
      "[2,]  3.0  3.5  4.0  4.5  5.0\n",
      "[3,]  5.5  6.0  6.5  7.0  7.5\n",
      "[4,]  8.0  8.5  9.0  9.5 10.0\n",
      "[5,] 10.5 11.0 11.5 12.0 12.5\n"
     ]
    }
   ],
   "source": [
    "#Devide this matrix with a scalar\n",
    "print(mat1/2) # Halve this matrix"
   ]
  },
  {
   "cell_type": "code",
   "execution_count": 28,
   "metadata": {},
   "outputs": [
    {
     "name": "stdout",
     "output_type": "stream",
     "text": [
      "     [,1] [,2] [,3] [,4] [,5]\n",
      "[1,] 1001 1002 1003 1004 1005\n",
      "[2,] 1006 1007 1008 1009 1010\n",
      "[3,] 1011 1012 1013 1014 1015\n",
      "[4,] 1016 1017 1018 1019 1020\n",
      "[5,] 1021 1022 1023 1024 1025\n"
     ]
    }
   ],
   "source": [
    "# adding a number to all the elements \n",
    "print(mat1+ 1000)"
   ]
  },
  {
   "cell_type": "code",
   "execution_count": 29,
   "metadata": {},
   "outputs": [
    {
     "name": "stdout",
     "output_type": "stream",
     "text": [
      "     [,1] [,2] [,3] [,4] [,5]\n",
      "[1,]  0.5  1.5  2.5  3.5  4.5\n",
      "[2,]  5.5  6.5  7.5  8.5  9.5\n",
      "[3,] 10.5 11.5 12.5 13.5 14.5\n",
      "[4,] 15.5 16.5 17.5 18.5 19.5\n",
      "[5,] 20.5 21.5 22.5 23.5 24.5\n"
     ]
    }
   ],
   "source": [
    "# subtacting a number from all the elements\n",
    "print(mat1 - 0.5)"
   ]
  },
  {
   "cell_type": "code",
   "execution_count": 31,
   "metadata": {},
   "outputs": [
    {
     "name": "stdout",
     "output_type": "stream",
     "text": [
      "         [,1]     [,2]     [,3]     [,4]     [,5]\n",
      "[1,] 1.000000 1.414214 1.732051 2.000000 2.236068\n",
      "[2,] 2.449490 2.645751 2.828427 3.000000 3.162278\n",
      "[3,] 3.316625 3.464102 3.605551 3.741657 3.872983\n",
      "[4,] 4.000000 4.123106 4.242641 4.358899 4.472136\n",
      "[5,] 4.582576 4.690416 4.795832 4.898979 5.000000\n"
     ]
    }
   ],
   "source": [
    "# crazy \n",
    "print(sqrt(mat1))"
   ]
  },
  {
   "cell_type": "code",
   "execution_count": 32,
   "metadata": {},
   "outputs": [
    {
     "name": "stdout",
     "output_type": "stream",
     "text": [
      "      [,1]  [,2]  [,3]  [,4]  [,5]\n",
      "[1,] FALSE FALSE FALSE FALSE FALSE\n",
      "[2,] FALSE FALSE FALSE FALSE FALSE\n",
      "[3,]  TRUE  TRUE  TRUE  TRUE  TRUE\n",
      "[4,]  TRUE  TRUE  TRUE  TRUE  TRUE\n",
      "[5,]  TRUE  TRUE  TRUE  TRUE  TRUE\n"
     ]
    }
   ],
   "source": [
    "# logical checks returns the boolean matrix\n",
    "# check if all the elements one by one are greater than 10\n",
    "print(mat1>10)"
   ]
  },
  {
   "cell_type": "markdown",
   "metadata": {},
   "source": [
    "#### Matrix to Matrix Mathematical operations. For all these below operations, it is important, that the Matrices are of the same dimensions"
   ]
  },
  {
   "cell_type": "code",
   "execution_count": 87,
   "metadata": {},
   "outputs": [
    {
     "name": "stdout",
     "output_type": "stream",
     "text": [
      "     [,1] [,2] [,3] [,4] [,5]\n",
      "[1,]    1    2    3    4    5\n",
      "[2,]    6    7    8    9   10\n",
      "[3,]   11   12   13   14   15\n",
      "[4,]   16   17   18   19   20\n",
      "[5,]   21   22   23   24   25\n"
     ]
    }
   ],
   "source": [
    "matA <- matrix(1:25, byrow = TRUE, nrow = 5)\n",
    "print(matA)"
   ]
  },
  {
   "cell_type": "code",
   "execution_count": 35,
   "metadata": {},
   "outputs": [
    {
     "name": "stdout",
     "output_type": "stream",
     "text": [
      "     [,1] [,2] [,3] [,4] [,5]\n",
      "[1,]   25   24   23   22   21\n",
      "[2,]   20   19   18   17   16\n",
      "[3,]   15   14   13   12   11\n",
      "[4,]   10    9    8    7    6\n",
      "[5,]    5    4    3    2    1\n"
     ]
    }
   ],
   "source": [
    "matB <- matrix(25:1, byrow = T, nrow = 5)\n",
    "print(matB)"
   ]
  },
  {
   "cell_type": "code",
   "execution_count": 36,
   "metadata": {},
   "outputs": [
    {
     "name": "stdout",
     "output_type": "stream",
     "text": [
      "     [,1] [,2] [,3] [,4] [,5]\n",
      "[1,]   26   26   26   26   26\n",
      "[2,]   26   26   26   26   26\n",
      "[3,]   26   26   26   26   26\n",
      "[4,]   26   26   26   26   26\n",
      "[5,]   26   26   26   26   26\n"
     ]
    }
   ],
   "source": [
    "# Add matA , matB\n",
    "print(matA+matB)"
   ]
  },
  {
   "cell_type": "code",
   "execution_count": 37,
   "metadata": {},
   "outputs": [
    {
     "name": "stdout",
     "output_type": "stream",
     "text": [
      "     [,1] [,2] [,3] [,4] [,5]\n",
      "[1,]  -24  -22  -20  -18  -16\n",
      "[2,]  -14  -12  -10   -8   -6\n",
      "[3,]   -4   -2    0    2    4\n",
      "[4,]    6    8   10   12   14\n",
      "[5,]   16   18   20   22   24\n"
     ]
    }
   ],
   "source": [
    "#subtract matB from matA\n",
    "print(matA-matB)"
   ]
  },
  {
   "cell_type": "code",
   "execution_count": 38,
   "metadata": {},
   "outputs": [
    {
     "name": "stdout",
     "output_type": "stream",
     "text": [
      "     [,1] [,2] [,3] [,4] [,5]\n",
      "[1,]   25   48   69   88  105\n",
      "[2,]  120  133  144  153  160\n",
      "[3,]  165  168  169  168  165\n",
      "[4,]  160  153  144  133  120\n",
      "[5,]  105   88   69   48   25\n"
     ]
    }
   ],
   "source": [
    "# Element to element multiplication\n",
    "#This is not a true Matrix multiplication related to linear algebra\n",
    "print(matA*matB)"
   ]
  },
  {
   "cell_type": "code",
   "execution_count": 40,
   "metadata": {},
   "outputs": [
    {
     "name": "stdout",
     "output_type": "stream",
     "text": [
      "     [,1] [,2] [,3] [,4] [,5]\n",
      "[1,]  175  160  145  130  115\n",
      "[2,]  550  510  470  430  390\n",
      "[3,]  925  860  795  730  665\n",
      "[4,] 1300 1210 1120 1030  940\n",
      "[5,] 1675 1560 1445 1330 1215\n"
     ]
    }
   ],
   "source": [
    "#Matrix multiplication related to linear algebra\n",
    "print(matA %*% matB)"
   ]
  },
  {
   "cell_type": "code",
   "execution_count": 42,
   "metadata": {},
   "outputs": [
    {
     "name": "stdout",
     "output_type": "stream",
     "text": [
      "          [,1]       [,2]      [,3]       [,4]       [,5]\n",
      "[1,] 0.0400000 0.08333333 0.1304348  0.1818182  0.2380952\n",
      "[2,] 0.3000000 0.36842105 0.4444444  0.5294118  0.6250000\n",
      "[3,] 0.7333333 0.85714286 1.0000000  1.1666667  1.3636364\n",
      "[4,] 1.6000000 1.88888889 2.2500000  2.7142857  3.3333333\n",
      "[5,] 4.2000000 5.50000000 7.6666667 12.0000000 25.0000000\n"
     ]
    }
   ],
   "source": [
    "# Element to element Division\n",
    "#This is not a true Matrix divisin related to linear algebra\n",
    "print(matA/matB)"
   ]
  },
  {
   "cell_type": "code",
   "execution_count": 43,
   "metadata": {},
   "outputs": [
    {
     "name": "stdout",
     "output_type": "stream",
     "text": [
      "     [,1] [,2] [,3] [,4] [,5]\n",
      "[1,]    0    0    0    0    0\n",
      "[2,]    0    0    0    0    0\n",
      "[3,]    0    0    1    1    1\n",
      "[4,]    1    1    2    2    3\n",
      "[5,]    4    5    7   12   25\n"
     ]
    }
   ],
   "source": [
    "#Matrix Division related to linear algebra\n",
    "print(matA %/% matB)"
   ]
  },
  {
   "cell_type": "markdown",
   "metadata": {},
   "source": [
    "### Matrix operations with some functions"
   ]
  },
  {
   "cell_type": "markdown",
   "metadata": {},
   "source": [
    "#### colSums(), rowSums()"
   ]
  },
  {
   "cell_type": "code",
   "execution_count": 88,
   "metadata": {},
   "outputs": [
    {
     "name": "stdout",
     "output_type": "stream",
     "text": [
      "     [,1] [,2] [,3] [,4] [,5]\n",
      "[1,]    1    2    3    4    5\n",
      "[2,]    6    7    8    9   10\n",
      "[3,]   11   12   13   14   15\n",
      "[4,]   16   17   18   19   20\n",
      "[5,]   21   22   23   24   25\n"
     ]
    }
   ],
   "source": [
    "print(matA)"
   ]
  },
  {
   "cell_type": "code",
   "execution_count": 89,
   "metadata": {},
   "outputs": [
    {
     "name": "stdout",
     "output_type": "stream",
     "text": [
      "   c1 c2 c3 c4 c5\n",
      "r1  1  2  3  4  5\n",
      "r2  6  7  8  9 10\n",
      "r3 11 12 13 14 15\n",
      "r4 16 17 18 19 20\n",
      "r5 21 22 23 24 25\n"
     ]
    }
   ],
   "source": [
    "# change the column names and row names \n",
    "colnames(matA) <- c('c1', 'c2', 'c3', 'c4', 'c5')\n",
    "rownames(matA) <- c('r1', 'r2', 'r3', 'r4', 'r5')\n",
    "print(matA)"
   ]
  },
  {
   "cell_type": "code",
   "execution_count": 90,
   "metadata": {},
   "outputs": [
    {
     "name": "stdout",
     "output_type": "stream",
     "text": [
      "c1 c2 c3 c4 c5 \n",
      "55 60 65 70 75 \n"
     ]
    }
   ],
   "source": [
    "print(colSums(matA))"
   ]
  },
  {
   "cell_type": "code",
   "execution_count": 91,
   "metadata": {},
   "outputs": [
    {
     "name": "stdout",
     "output_type": "stream",
     "text": [
      " r1  r2  r3  r4  r5 \n",
      " 15  40  65  90 115 \n"
     ]
    }
   ],
   "source": [
    "print(rowSums(matA))"
   ]
  },
  {
   "cell_type": "code",
   "execution_count": 92,
   "metadata": {},
   "outputs": [],
   "source": [
    "# Adding these totals to matrix "
   ]
  },
  {
   "cell_type": "code",
   "execution_count": 93,
   "metadata": {},
   "outputs": [
    {
     "name": "stdout",
     "output_type": "stream",
     "text": [
      "   c1 c2 c3 c4 c5\n",
      "r1  1  2  3  4  5\n",
      "r2  6  7  8  9 10\n",
      "r3 11 12 13 14 15\n",
      "r4 16 17 18 19 20\n",
      "r5 21 22 23 24 25\n",
      "   55 60 65 70 75\n"
     ]
    }
   ],
   "source": [
    "matA <- rbind(matA, colSums(matA))\n",
    "print(matA)"
   ]
  },
  {
   "cell_type": "code",
   "execution_count": 94,
   "metadata": {},
   "outputs": [],
   "source": [
    "matA <- cbind(matA, rowSums(matA))"
   ]
  },
  {
   "cell_type": "code",
   "execution_count": 96,
   "metadata": {},
   "outputs": [
    {
     "name": "stdout",
     "output_type": "stream",
     "text": [
      "   c1 c2 c3 c4 c5    \n",
      "r1  1  2  3  4  5  15\n",
      "r2  6  7  8  9 10  40\n",
      "r3 11 12 13 14 15  65\n",
      "r4 16 17 18 19 20  90\n",
      "r5 21 22 23 24 25 115\n",
      "   55 60 65 70 75 325\n"
     ]
    }
   ],
   "source": [
    "print(matA)"
   ]
  },
  {
   "cell_type": "code",
   "execution_count": null,
   "metadata": {},
   "outputs": [],
   "source": []
  }
 ],
 "metadata": {
  "kernelspec": {
   "display_name": "R",
   "language": "R",
   "name": "ir"
  },
  "language_info": {
   "codemirror_mode": "r",
   "file_extension": ".r",
   "mimetype": "text/x-r-source",
   "name": "R",
   "pygments_lexer": "r",
   "version": "3.6.0"
  }
 },
 "nbformat": 4,
 "nbformat_minor": 2
}
