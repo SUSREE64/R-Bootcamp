{
 "cells": [
  {
   "cell_type": "markdown",
   "metadata": {},
   "source": [
    "### R-Data Frames Some Common Operations.\n",
    "> - Adding a new column.\n",
    "> - Adding a new row\n",
    "> - Delete a column \n",
    "> - Delete a row\n",
    "> - Selecting single column\n",
    "> - slecting a single row\n",
    "> - Selecting multiple columns\n",
    "> - Selecting multiple rows\n",
    "> - Modifying data at a location (Row, Columns known)\n",
    "> - Logical/Conditional Selection\n",
    "> - Check to see missing values in dataframe"
   ]
  },
  {
   "cell_type": "code",
   "execution_count": 63,
   "metadata": {},
   "outputs": [],
   "source": [
    "# Use mtcars built in data "
   ]
  },
  {
   "cell_type": "code",
   "execution_count": 2,
   "metadata": {},
   "outputs": [],
   "source": [
    "df <- mtcars"
   ]
  },
  {
   "cell_type": "code",
   "execution_count": 3,
   "metadata": {},
   "outputs": [
    {
     "data": {
      "text/html": [
       "<table>\n",
       "<thead><tr><th></th><th scope=col>mpg</th><th scope=col>cyl</th><th scope=col>disp</th><th scope=col>hp</th><th scope=col>drat</th><th scope=col>wt</th><th scope=col>qsec</th><th scope=col>vs</th><th scope=col>am</th><th scope=col>gear</th><th scope=col>carb</th></tr></thead>\n",
       "<tbody>\n",
       "\t<tr><th scope=row>Mazda RX4</th><td>21.0 </td><td>6    </td><td>160  </td><td>110  </td><td>3.90 </td><td>2.620</td><td>16.46</td><td>0    </td><td>1    </td><td>4    </td><td>4    </td></tr>\n",
       "\t<tr><th scope=row>Mazda RX4 Wag</th><td>21.0 </td><td>6    </td><td>160  </td><td>110  </td><td>3.90 </td><td>2.875</td><td>17.02</td><td>0    </td><td>1    </td><td>4    </td><td>4    </td></tr>\n",
       "\t<tr><th scope=row>Datsun 710</th><td>22.8 </td><td>4    </td><td>108  </td><td> 93  </td><td>3.85 </td><td>2.320</td><td>18.61</td><td>1    </td><td>1    </td><td>4    </td><td>1    </td></tr>\n",
       "\t<tr><th scope=row>Hornet 4 Drive</th><td>21.4 </td><td>6    </td><td>258  </td><td>110  </td><td>3.08 </td><td>3.215</td><td>19.44</td><td>1    </td><td>0    </td><td>3    </td><td>1    </td></tr>\n",
       "\t<tr><th scope=row>Hornet Sportabout</th><td>18.7 </td><td>8    </td><td>360  </td><td>175  </td><td>3.15 </td><td>3.440</td><td>17.02</td><td>0    </td><td>0    </td><td>3    </td><td>2    </td></tr>\n",
       "\t<tr><th scope=row>Valiant</th><td>18.1 </td><td>6    </td><td>225  </td><td>105  </td><td>2.76 </td><td>3.460</td><td>20.22</td><td>1    </td><td>0    </td><td>3    </td><td>1    </td></tr>\n",
       "</tbody>\n",
       "</table>\n"
      ],
      "text/latex": [
       "\\begin{tabular}{r|lllllllllll}\n",
       "  & mpg & cyl & disp & hp & drat & wt & qsec & vs & am & gear & carb\\\\\n",
       "\\hline\n",
       "\tMazda RX4 & 21.0  & 6     & 160   & 110   & 3.90  & 2.620 & 16.46 & 0     & 1     & 4     & 4    \\\\\n",
       "\tMazda RX4 Wag & 21.0  & 6     & 160   & 110   & 3.90  & 2.875 & 17.02 & 0     & 1     & 4     & 4    \\\\\n",
       "\tDatsun 710 & 22.8  & 4     & 108   &  93   & 3.85  & 2.320 & 18.61 & 1     & 1     & 4     & 1    \\\\\n",
       "\tHornet 4 Drive & 21.4  & 6     & 258   & 110   & 3.08  & 3.215 & 19.44 & 1     & 0     & 3     & 1    \\\\\n",
       "\tHornet Sportabout & 18.7  & 8     & 360   & 175   & 3.15  & 3.440 & 17.02 & 0     & 0     & 3     & 2    \\\\\n",
       "\tValiant & 18.1  & 6     & 225   & 105   & 2.76  & 3.460 & 20.22 & 1     & 0     & 3     & 1    \\\\\n",
       "\\end{tabular}\n"
      ],
      "text/markdown": [
       "\n",
       "| <!--/--> | mpg | cyl | disp | hp | drat | wt | qsec | vs | am | gear | carb |\n",
       "|---|---|---|---|---|---|---|---|---|---|---|---|\n",
       "| Mazda RX4 | 21.0  | 6     | 160   | 110   | 3.90  | 2.620 | 16.46 | 0     | 1     | 4     | 4     |\n",
       "| Mazda RX4 Wag | 21.0  | 6     | 160   | 110   | 3.90  | 2.875 | 17.02 | 0     | 1     | 4     | 4     |\n",
       "| Datsun 710 | 22.8  | 4     | 108   |  93   | 3.85  | 2.320 | 18.61 | 1     | 1     | 4     | 1     |\n",
       "| Hornet 4 Drive | 21.4  | 6     | 258   | 110   | 3.08  | 3.215 | 19.44 | 1     | 0     | 3     | 1     |\n",
       "| Hornet Sportabout | 18.7  | 8     | 360   | 175   | 3.15  | 3.440 | 17.02 | 0     | 0     | 3     | 2     |\n",
       "| Valiant | 18.1  | 6     | 225   | 105   | 2.76  | 3.460 | 20.22 | 1     | 0     | 3     | 1     |\n",
       "\n"
      ],
      "text/plain": [
       "                  mpg  cyl disp hp  drat wt    qsec  vs am gear carb\n",
       "Mazda RX4         21.0 6   160  110 3.90 2.620 16.46 0  1  4    4   \n",
       "Mazda RX4 Wag     21.0 6   160  110 3.90 2.875 17.02 0  1  4    4   \n",
       "Datsun 710        22.8 4   108   93 3.85 2.320 18.61 1  1  4    1   \n",
       "Hornet 4 Drive    21.4 6   258  110 3.08 3.215 19.44 1  0  3    1   \n",
       "Hornet Sportabout 18.7 8   360  175 3.15 3.440 17.02 0  0  3    2   \n",
       "Valiant           18.1 6   225  105 2.76 3.460 20.22 1  0  3    1   "
      ]
     },
     "metadata": {},
     "output_type": "display_data"
    }
   ],
   "source": [
    "head(df)"
   ]
  },
  {
   "cell_type": "markdown",
   "metadata": {},
   "source": [
    "> - Adding a new column"
   ]
  },
  {
   "cell_type": "code",
   "execution_count": 66,
   "metadata": {},
   "outputs": [],
   "source": [
    "# Add a column names Category copy this with Cyl column\n",
    "# change the content of this column based on its value 4 = small, 6 = medium, 8 = big\n",
    "df['Category'] <- df$cyl"
   ]
  },
  {
   "cell_type": "code",
   "execution_count": 67,
   "metadata": {},
   "outputs": [],
   "source": [
    "# Column data modification with ifelse nested loop \n",
    "df$Category <- ifelse(df$cyl == '4', 'small', ifelse(df$cyl == '6', 'medium', 'big'))"
   ]
  },
  {
   "cell_type": "code",
   "execution_count": 68,
   "metadata": {},
   "outputs": [
    {
     "data": {
      "text/html": [
       "<table>\n",
       "<thead><tr><th></th><th scope=col>mpg</th><th scope=col>cyl</th><th scope=col>disp</th><th scope=col>hp</th><th scope=col>drat</th><th scope=col>wt</th><th scope=col>qsec</th><th scope=col>vs</th><th scope=col>am</th><th scope=col>gear</th><th scope=col>carb</th><th scope=col>Category</th></tr></thead>\n",
       "<tbody>\n",
       "\t<tr><th scope=row>Mazda RX4</th><td>21.0  </td><td>6     </td><td>160   </td><td>110   </td><td>3.90  </td><td>2.620 </td><td>16.46 </td><td>0     </td><td>1     </td><td>4     </td><td>4     </td><td>medium</td></tr>\n",
       "\t<tr><th scope=row>Mazda RX4 Wag</th><td>21.0  </td><td>6     </td><td>160   </td><td>110   </td><td>3.90  </td><td>2.875 </td><td>17.02 </td><td>0     </td><td>1     </td><td>4     </td><td>4     </td><td>medium</td></tr>\n",
       "\t<tr><th scope=row>Datsun 710</th><td>22.8  </td><td>4     </td><td>108   </td><td> 93   </td><td>3.85  </td><td>2.320 </td><td>18.61 </td><td>1     </td><td>1     </td><td>4     </td><td>1     </td><td>small </td></tr>\n",
       "\t<tr><th scope=row>Hornet 4 Drive</th><td>21.4  </td><td>6     </td><td>258   </td><td>110   </td><td>3.08  </td><td>3.215 </td><td>19.44 </td><td>1     </td><td>0     </td><td>3     </td><td>1     </td><td>medium</td></tr>\n",
       "\t<tr><th scope=row>Hornet Sportabout</th><td>18.7  </td><td>8     </td><td>360   </td><td>175   </td><td>3.15  </td><td>3.440 </td><td>17.02 </td><td>0     </td><td>0     </td><td>3     </td><td>2     </td><td>big   </td></tr>\n",
       "\t<tr><th scope=row>Valiant</th><td>18.1  </td><td>6     </td><td>225   </td><td>105   </td><td>2.76  </td><td>3.460 </td><td>20.22 </td><td>1     </td><td>0     </td><td>3     </td><td>1     </td><td>medium</td></tr>\n",
       "</tbody>\n",
       "</table>\n"
      ],
      "text/latex": [
       "\\begin{tabular}{r|llllllllllll}\n",
       "  & mpg & cyl & disp & hp & drat & wt & qsec & vs & am & gear & carb & Category\\\\\n",
       "\\hline\n",
       "\tMazda RX4 & 21.0   & 6      & 160    & 110    & 3.90   & 2.620  & 16.46  & 0      & 1      & 4      & 4      & medium\\\\\n",
       "\tMazda RX4 Wag & 21.0   & 6      & 160    & 110    & 3.90   & 2.875  & 17.02  & 0      & 1      & 4      & 4      & medium\\\\\n",
       "\tDatsun 710 & 22.8   & 4      & 108    &  93    & 3.85   & 2.320  & 18.61  & 1      & 1      & 4      & 1      & small \\\\\n",
       "\tHornet 4 Drive & 21.4   & 6      & 258    & 110    & 3.08   & 3.215  & 19.44  & 1      & 0      & 3      & 1      & medium\\\\\n",
       "\tHornet Sportabout & 18.7   & 8      & 360    & 175    & 3.15   & 3.440  & 17.02  & 0      & 0      & 3      & 2      & big   \\\\\n",
       "\tValiant & 18.1   & 6      & 225    & 105    & 2.76   & 3.460  & 20.22  & 1      & 0      & 3      & 1      & medium\\\\\n",
       "\\end{tabular}\n"
      ],
      "text/markdown": [
       "\n",
       "| <!--/--> | mpg | cyl | disp | hp | drat | wt | qsec | vs | am | gear | carb | Category |\n",
       "|---|---|---|---|---|---|---|---|---|---|---|---|---|\n",
       "| Mazda RX4 | 21.0   | 6      | 160    | 110    | 3.90   | 2.620  | 16.46  | 0      | 1      | 4      | 4      | medium |\n",
       "| Mazda RX4 Wag | 21.0   | 6      | 160    | 110    | 3.90   | 2.875  | 17.02  | 0      | 1      | 4      | 4      | medium |\n",
       "| Datsun 710 | 22.8   | 4      | 108    |  93    | 3.85   | 2.320  | 18.61  | 1      | 1      | 4      | 1      | small  |\n",
       "| Hornet 4 Drive | 21.4   | 6      | 258    | 110    | 3.08   | 3.215  | 19.44  | 1      | 0      | 3      | 1      | medium |\n",
       "| Hornet Sportabout | 18.7   | 8      | 360    | 175    | 3.15   | 3.440  | 17.02  | 0      | 0      | 3      | 2      | big    |\n",
       "| Valiant | 18.1   | 6      | 225    | 105    | 2.76   | 3.460  | 20.22  | 1      | 0      | 3      | 1      | medium |\n",
       "\n"
      ],
      "text/plain": [
       "                  mpg  cyl disp hp  drat wt    qsec  vs am gear carb Category\n",
       "Mazda RX4         21.0 6   160  110 3.90 2.620 16.46 0  1  4    4    medium  \n",
       "Mazda RX4 Wag     21.0 6   160  110 3.90 2.875 17.02 0  1  4    4    medium  \n",
       "Datsun 710        22.8 4   108   93 3.85 2.320 18.61 1  1  4    1    small   \n",
       "Hornet 4 Drive    21.4 6   258  110 3.08 3.215 19.44 1  0  3    1    medium  \n",
       "Hornet Sportabout 18.7 8   360  175 3.15 3.440 17.02 0  0  3    2    big     \n",
       "Valiant           18.1 6   225  105 2.76 3.460 20.22 1  0  3    1    medium  "
      ]
     },
     "metadata": {},
     "output_type": "display_data"
    }
   ],
   "source": [
    "head(df)"
   ]
  },
  {
   "cell_type": "markdown",
   "metadata": {},
   "source": [
    "> - Adding a new row"
   ]
  },
  {
   "cell_type": "code",
   "execution_count": 81,
   "metadata": {},
   "outputs": [],
   "source": [
    "# with rbind() we can append a data frame to another data frame as rows.\n",
    "# New row to be formed as data frame\n",
    "newrow <- data.frame(mpg = 13.4, cyl = 6, disp = 225, hp = 220, drat = 2.76, wt = 3.45, qsec = 23.45, vs = 5, am = 0,gear = 3, carb = 1, Category = 'medium')"
   ]
  },
  {
   "cell_type": "code",
   "execution_count": 91,
   "metadata": {},
   "outputs": [
    {
     "data": {
      "text/html": [
       "<table>\n",
       "<thead><tr><th></th><th scope=col>mpg</th><th scope=col>cyl</th><th scope=col>disp</th><th scope=col>hp</th><th scope=col>drat</th><th scope=col>wt</th><th scope=col>qsec</th><th scope=col>vs</th><th scope=col>am</th><th scope=col>gear</th><th scope=col>carb</th><th scope=col>Category</th></tr></thead>\n",
       "<tbody>\n",
       "\t<tr><th scope=row>Mazda RX4</th><td>21.0  </td><td>6     </td><td>160.0 </td><td>110   </td><td>3.90  </td><td>2.620 </td><td>16.46 </td><td>0     </td><td>1     </td><td>4     </td><td>4     </td><td>medium</td></tr>\n",
       "\t<tr><th scope=row>Mazda RX4 Wag</th><td>21.0  </td><td>6     </td><td>160.0 </td><td>110   </td><td>3.90  </td><td>2.875 </td><td>17.02 </td><td>0     </td><td>1     </td><td>4     </td><td>4     </td><td>medium</td></tr>\n",
       "\t<tr><th scope=row>Datsun 710</th><td>22.8  </td><td>4     </td><td>108.0 </td><td> 93   </td><td>3.85  </td><td>2.320 </td><td>18.61 </td><td>1     </td><td>1     </td><td>4     </td><td>1     </td><td>small </td></tr>\n",
       "\t<tr><th scope=row>Hornet 4 Drive</th><td>21.4  </td><td>6     </td><td>258.0 </td><td>110   </td><td>3.08  </td><td>3.215 </td><td>19.44 </td><td>1     </td><td>0     </td><td>3     </td><td>1     </td><td>medium</td></tr>\n",
       "\t<tr><th scope=row>Hornet Sportabout</th><td>18.7  </td><td>8     </td><td>360.0 </td><td>175   </td><td>3.15  </td><td>3.440 </td><td>17.02 </td><td>0     </td><td>0     </td><td>3     </td><td>2     </td><td>big   </td></tr>\n",
       "\t<tr><th scope=row>Valiant</th><td>18.1  </td><td>6     </td><td>225.0 </td><td>105   </td><td>2.76  </td><td>3.460 </td><td>20.22 </td><td>1     </td><td>0     </td><td>3     </td><td>1     </td><td>medium</td></tr>\n",
       "\t<tr><th scope=row>Duster 360</th><td>14.3  </td><td>8     </td><td>360.0 </td><td>245   </td><td>3.21  </td><td>3.570 </td><td>15.84 </td><td>0     </td><td>0     </td><td>3     </td><td>4     </td><td>big   </td></tr>\n",
       "\t<tr><th scope=row>Merc 240D</th><td>24.4  </td><td>4     </td><td>146.7 </td><td> 62   </td><td>3.69  </td><td>3.190 </td><td>20.00 </td><td>1     </td><td>0     </td><td>4     </td><td>2     </td><td>small </td></tr>\n",
       "\t<tr><th scope=row>Merc 230</th><td>22.8  </td><td>4     </td><td>140.8 </td><td> 95   </td><td>3.92  </td><td>3.150 </td><td>22.90 </td><td>1     </td><td>0     </td><td>4     </td><td>2     </td><td>small </td></tr>\n",
       "\t<tr><th scope=row>Merc 280</th><td>19.2  </td><td>6     </td><td>167.6 </td><td>123   </td><td>3.92  </td><td>3.440 </td><td>18.30 </td><td>1     </td><td>0     </td><td>4     </td><td>4     </td><td>medium</td></tr>\n",
       "\t<tr><th scope=row>Merc 280C</th><td>17.8  </td><td>6     </td><td>167.6 </td><td>123   </td><td>3.92  </td><td>3.440 </td><td>18.90 </td><td>1     </td><td>0     </td><td>4     </td><td>4     </td><td>medium</td></tr>\n",
       "\t<tr><th scope=row>Merc 450SE</th><td>16.4  </td><td>8     </td><td>275.8 </td><td>180   </td><td>3.07  </td><td>4.070 </td><td>17.40 </td><td>0     </td><td>0     </td><td>3     </td><td>3     </td><td>big   </td></tr>\n",
       "\t<tr><th scope=row>Merc 450SL</th><td>17.3  </td><td>8     </td><td>275.8 </td><td>180   </td><td>3.07  </td><td>3.730 </td><td>17.60 </td><td>0     </td><td>0     </td><td>3     </td><td>3     </td><td>big   </td></tr>\n",
       "\t<tr><th scope=row>Merc 450SLC</th><td>15.2  </td><td>8     </td><td>275.8 </td><td>180   </td><td>3.07  </td><td>3.780 </td><td>18.00 </td><td>0     </td><td>0     </td><td>3     </td><td>3     </td><td>big   </td></tr>\n",
       "\t<tr><th scope=row>Cadillac Fleetwood</th><td>10.4  </td><td>8     </td><td>472.0 </td><td>205   </td><td>2.93  </td><td>5.250 </td><td>17.98 </td><td>0     </td><td>0     </td><td>3     </td><td>4     </td><td>big   </td></tr>\n",
       "\t<tr><th scope=row>Lincoln Continental</th><td>10.4  </td><td>8     </td><td>460.0 </td><td>215   </td><td>3.00  </td><td>5.424 </td><td>17.82 </td><td>0     </td><td>0     </td><td>3     </td><td>4     </td><td>big   </td></tr>\n",
       "\t<tr><th scope=row>Chrysler Imperial</th><td>14.7  </td><td>8     </td><td>440.0 </td><td>230   </td><td>3.23  </td><td>5.345 </td><td>17.42 </td><td>0     </td><td>0     </td><td>3     </td><td>4     </td><td>big   </td></tr>\n",
       "\t<tr><th scope=row>Fiat 128</th><td>32.4  </td><td>4     </td><td> 78.7 </td><td> 66   </td><td>4.08  </td><td>2.200 </td><td>19.47 </td><td>1     </td><td>1     </td><td>4     </td><td>1     </td><td>small </td></tr>\n",
       "\t<tr><th scope=row>Honda Civic</th><td>30.4  </td><td>4     </td><td> 75.7 </td><td> 52   </td><td>4.93  </td><td>1.615 </td><td>18.52 </td><td>1     </td><td>1     </td><td>4     </td><td>2     </td><td>small </td></tr>\n",
       "\t<tr><th scope=row>Toyota Corolla</th><td>33.9  </td><td>4     </td><td> 71.1 </td><td> 65   </td><td>4.22  </td><td>1.835 </td><td>19.90 </td><td>1     </td><td>1     </td><td>4     </td><td>1     </td><td>small </td></tr>\n",
       "\t<tr><th scope=row>Toyota Corona</th><td>21.5  </td><td>4     </td><td>120.1 </td><td> 97   </td><td>3.70  </td><td>2.465 </td><td>20.01 </td><td>1     </td><td>0     </td><td>3     </td><td>1     </td><td>small </td></tr>\n",
       "\t<tr><th scope=row>Dodge Challenger</th><td>15.5  </td><td>8     </td><td>318.0 </td><td>150   </td><td>2.76  </td><td>3.520 </td><td>16.87 </td><td>0     </td><td>0     </td><td>3     </td><td>2     </td><td>big   </td></tr>\n",
       "\t<tr><th scope=row>AMC Javelin</th><td>15.2  </td><td>8     </td><td>304.0 </td><td>150   </td><td>3.15  </td><td>3.435 </td><td>17.30 </td><td>0     </td><td>0     </td><td>3     </td><td>2     </td><td>big   </td></tr>\n",
       "\t<tr><th scope=row>Camaro Z28</th><td>13.3  </td><td>8     </td><td>350.0 </td><td>245   </td><td>3.73  </td><td>3.840 </td><td>15.41 </td><td>0     </td><td>0     </td><td>3     </td><td>4     </td><td>big   </td></tr>\n",
       "\t<tr><th scope=row>Pontiac Firebird</th><td>19.2  </td><td>8     </td><td>400.0 </td><td>175   </td><td>3.08  </td><td>3.845 </td><td>17.05 </td><td>0     </td><td>0     </td><td>3     </td><td>2     </td><td>big   </td></tr>\n",
       "\t<tr><th scope=row>Fiat X1-9</th><td>27.3  </td><td>4     </td><td> 79.0 </td><td> 66   </td><td>4.08  </td><td>1.935 </td><td>18.90 </td><td>1     </td><td>1     </td><td>4     </td><td>1     </td><td>small </td></tr>\n",
       "\t<tr><th scope=row>Porsche 914-2</th><td>26.0  </td><td>4     </td><td>120.3 </td><td> 91   </td><td>4.43  </td><td>2.140 </td><td>16.70 </td><td>0     </td><td>1     </td><td>5     </td><td>2     </td><td>small </td></tr>\n",
       "\t<tr><th scope=row>Lotus Europa</th><td>30.4  </td><td>4     </td><td> 95.1 </td><td>113   </td><td>3.77  </td><td>1.513 </td><td>16.90 </td><td>1     </td><td>1     </td><td>5     </td><td>2     </td><td>small </td></tr>\n",
       "\t<tr><th scope=row>Ford Pantera L</th><td>15.8  </td><td>8     </td><td>351.0 </td><td>264   </td><td>4.22  </td><td>3.170 </td><td>14.50 </td><td>0     </td><td>1     </td><td>5     </td><td>4     </td><td>big   </td></tr>\n",
       "\t<tr><th scope=row>Ferrari Dino</th><td>19.7  </td><td>6     </td><td>145.0 </td><td>175   </td><td>3.62  </td><td>2.770 </td><td>15.50 </td><td>0     </td><td>1     </td><td>5     </td><td>6     </td><td>medium</td></tr>\n",
       "\t<tr><th scope=row>Maserati Bora</th><td>15.0  </td><td>8     </td><td>301.0 </td><td>335   </td><td>3.54  </td><td>3.570 </td><td>14.60 </td><td>0     </td><td>1     </td><td>5     </td><td>8     </td><td>big   </td></tr>\n",
       "\t<tr><th scope=row>Volvo 142E</th><td>21.4  </td><td>4     </td><td>121.0 </td><td>109   </td><td>4.11  </td><td>2.780 </td><td>18.60 </td><td>1     </td><td>1     </td><td>4     </td><td>2     </td><td>small </td></tr>\n",
       "\t<tr><th scope=row>NewCar</th><td>13.4  </td><td>6     </td><td>225.0 </td><td>220   </td><td>2.76  </td><td>3.450 </td><td>23.45 </td><td>5     </td><td>0     </td><td>3     </td><td>1     </td><td>medium</td></tr>\n",
       "</tbody>\n",
       "</table>\n"
      ],
      "text/latex": [
       "\\begin{tabular}{r|llllllllllll}\n",
       "  & mpg & cyl & disp & hp & drat & wt & qsec & vs & am & gear & carb & Category\\\\\n",
       "\\hline\n",
       "\tMazda RX4 & 21.0   & 6      & 160.0  & 110    & 3.90   & 2.620  & 16.46  & 0      & 1      & 4      & 4      & medium\\\\\n",
       "\tMazda RX4 Wag & 21.0   & 6      & 160.0  & 110    & 3.90   & 2.875  & 17.02  & 0      & 1      & 4      & 4      & medium\\\\\n",
       "\tDatsun 710 & 22.8   & 4      & 108.0  &  93    & 3.85   & 2.320  & 18.61  & 1      & 1      & 4      & 1      & small \\\\\n",
       "\tHornet 4 Drive & 21.4   & 6      & 258.0  & 110    & 3.08   & 3.215  & 19.44  & 1      & 0      & 3      & 1      & medium\\\\\n",
       "\tHornet Sportabout & 18.7   & 8      & 360.0  & 175    & 3.15   & 3.440  & 17.02  & 0      & 0      & 3      & 2      & big   \\\\\n",
       "\tValiant & 18.1   & 6      & 225.0  & 105    & 2.76   & 3.460  & 20.22  & 1      & 0      & 3      & 1      & medium\\\\\n",
       "\tDuster 360 & 14.3   & 8      & 360.0  & 245    & 3.21   & 3.570  & 15.84  & 0      & 0      & 3      & 4      & big   \\\\\n",
       "\tMerc 240D & 24.4   & 4      & 146.7  &  62    & 3.69   & 3.190  & 20.00  & 1      & 0      & 4      & 2      & small \\\\\n",
       "\tMerc 230 & 22.8   & 4      & 140.8  &  95    & 3.92   & 3.150  & 22.90  & 1      & 0      & 4      & 2      & small \\\\\n",
       "\tMerc 280 & 19.2   & 6      & 167.6  & 123    & 3.92   & 3.440  & 18.30  & 1      & 0      & 4      & 4      & medium\\\\\n",
       "\tMerc 280C & 17.8   & 6      & 167.6  & 123    & 3.92   & 3.440  & 18.90  & 1      & 0      & 4      & 4      & medium\\\\\n",
       "\tMerc 450SE & 16.4   & 8      & 275.8  & 180    & 3.07   & 4.070  & 17.40  & 0      & 0      & 3      & 3      & big   \\\\\n",
       "\tMerc 450SL & 17.3   & 8      & 275.8  & 180    & 3.07   & 3.730  & 17.60  & 0      & 0      & 3      & 3      & big   \\\\\n",
       "\tMerc 450SLC & 15.2   & 8      & 275.8  & 180    & 3.07   & 3.780  & 18.00  & 0      & 0      & 3      & 3      & big   \\\\\n",
       "\tCadillac Fleetwood & 10.4   & 8      & 472.0  & 205    & 2.93   & 5.250  & 17.98  & 0      & 0      & 3      & 4      & big   \\\\\n",
       "\tLincoln Continental & 10.4   & 8      & 460.0  & 215    & 3.00   & 5.424  & 17.82  & 0      & 0      & 3      & 4      & big   \\\\\n",
       "\tChrysler Imperial & 14.7   & 8      & 440.0  & 230    & 3.23   & 5.345  & 17.42  & 0      & 0      & 3      & 4      & big   \\\\\n",
       "\tFiat 128 & 32.4   & 4      &  78.7  &  66    & 4.08   & 2.200  & 19.47  & 1      & 1      & 4      & 1      & small \\\\\n",
       "\tHonda Civic & 30.4   & 4      &  75.7  &  52    & 4.93   & 1.615  & 18.52  & 1      & 1      & 4      & 2      & small \\\\\n",
       "\tToyota Corolla & 33.9   & 4      &  71.1  &  65    & 4.22   & 1.835  & 19.90  & 1      & 1      & 4      & 1      & small \\\\\n",
       "\tToyota Corona & 21.5   & 4      & 120.1  &  97    & 3.70   & 2.465  & 20.01  & 1      & 0      & 3      & 1      & small \\\\\n",
       "\tDodge Challenger & 15.5   & 8      & 318.0  & 150    & 2.76   & 3.520  & 16.87  & 0      & 0      & 3      & 2      & big   \\\\\n",
       "\tAMC Javelin & 15.2   & 8      & 304.0  & 150    & 3.15   & 3.435  & 17.30  & 0      & 0      & 3      & 2      & big   \\\\\n",
       "\tCamaro Z28 & 13.3   & 8      & 350.0  & 245    & 3.73   & 3.840  & 15.41  & 0      & 0      & 3      & 4      & big   \\\\\n",
       "\tPontiac Firebird & 19.2   & 8      & 400.0  & 175    & 3.08   & 3.845  & 17.05  & 0      & 0      & 3      & 2      & big   \\\\\n",
       "\tFiat X1-9 & 27.3   & 4      &  79.0  &  66    & 4.08   & 1.935  & 18.90  & 1      & 1      & 4      & 1      & small \\\\\n",
       "\tPorsche 914-2 & 26.0   & 4      & 120.3  &  91    & 4.43   & 2.140  & 16.70  & 0      & 1      & 5      & 2      & small \\\\\n",
       "\tLotus Europa & 30.4   & 4      &  95.1  & 113    & 3.77   & 1.513  & 16.90  & 1      & 1      & 5      & 2      & small \\\\\n",
       "\tFord Pantera L & 15.8   & 8      & 351.0  & 264    & 4.22   & 3.170  & 14.50  & 0      & 1      & 5      & 4      & big   \\\\\n",
       "\tFerrari Dino & 19.7   & 6      & 145.0  & 175    & 3.62   & 2.770  & 15.50  & 0      & 1      & 5      & 6      & medium\\\\\n",
       "\tMaserati Bora & 15.0   & 8      & 301.0  & 335    & 3.54   & 3.570  & 14.60  & 0      & 1      & 5      & 8      & big   \\\\\n",
       "\tVolvo 142E & 21.4   & 4      & 121.0  & 109    & 4.11   & 2.780  & 18.60  & 1      & 1      & 4      & 2      & small \\\\\n",
       "\tNewCar & 13.4   & 6      & 225.0  & 220    & 2.76   & 3.450  & 23.45  & 5      & 0      & 3      & 1      & medium\\\\\n",
       "\\end{tabular}\n"
      ],
      "text/markdown": [
       "\n",
       "| <!--/--> | mpg | cyl | disp | hp | drat | wt | qsec | vs | am | gear | carb | Category |\n",
       "|---|---|---|---|---|---|---|---|---|---|---|---|---|\n",
       "| Mazda RX4 | 21.0   | 6      | 160.0  | 110    | 3.90   | 2.620  | 16.46  | 0      | 1      | 4      | 4      | medium |\n",
       "| Mazda RX4 Wag | 21.0   | 6      | 160.0  | 110    | 3.90   | 2.875  | 17.02  | 0      | 1      | 4      | 4      | medium |\n",
       "| Datsun 710 | 22.8   | 4      | 108.0  |  93    | 3.85   | 2.320  | 18.61  | 1      | 1      | 4      | 1      | small  |\n",
       "| Hornet 4 Drive | 21.4   | 6      | 258.0  | 110    | 3.08   | 3.215  | 19.44  | 1      | 0      | 3      | 1      | medium |\n",
       "| Hornet Sportabout | 18.7   | 8      | 360.0  | 175    | 3.15   | 3.440  | 17.02  | 0      | 0      | 3      | 2      | big    |\n",
       "| Valiant | 18.1   | 6      | 225.0  | 105    | 2.76   | 3.460  | 20.22  | 1      | 0      | 3      | 1      | medium |\n",
       "| Duster 360 | 14.3   | 8      | 360.0  | 245    | 3.21   | 3.570  | 15.84  | 0      | 0      | 3      | 4      | big    |\n",
       "| Merc 240D | 24.4   | 4      | 146.7  |  62    | 3.69   | 3.190  | 20.00  | 1      | 0      | 4      | 2      | small  |\n",
       "| Merc 230 | 22.8   | 4      | 140.8  |  95    | 3.92   | 3.150  | 22.90  | 1      | 0      | 4      | 2      | small  |\n",
       "| Merc 280 | 19.2   | 6      | 167.6  | 123    | 3.92   | 3.440  | 18.30  | 1      | 0      | 4      | 4      | medium |\n",
       "| Merc 280C | 17.8   | 6      | 167.6  | 123    | 3.92   | 3.440  | 18.90  | 1      | 0      | 4      | 4      | medium |\n",
       "| Merc 450SE | 16.4   | 8      | 275.8  | 180    | 3.07   | 4.070  | 17.40  | 0      | 0      | 3      | 3      | big    |\n",
       "| Merc 450SL | 17.3   | 8      | 275.8  | 180    | 3.07   | 3.730  | 17.60  | 0      | 0      | 3      | 3      | big    |\n",
       "| Merc 450SLC | 15.2   | 8      | 275.8  | 180    | 3.07   | 3.780  | 18.00  | 0      | 0      | 3      | 3      | big    |\n",
       "| Cadillac Fleetwood | 10.4   | 8      | 472.0  | 205    | 2.93   | 5.250  | 17.98  | 0      | 0      | 3      | 4      | big    |\n",
       "| Lincoln Continental | 10.4   | 8      | 460.0  | 215    | 3.00   | 5.424  | 17.82  | 0      | 0      | 3      | 4      | big    |\n",
       "| Chrysler Imperial | 14.7   | 8      | 440.0  | 230    | 3.23   | 5.345  | 17.42  | 0      | 0      | 3      | 4      | big    |\n",
       "| Fiat 128 | 32.4   | 4      |  78.7  |  66    | 4.08   | 2.200  | 19.47  | 1      | 1      | 4      | 1      | small  |\n",
       "| Honda Civic | 30.4   | 4      |  75.7  |  52    | 4.93   | 1.615  | 18.52  | 1      | 1      | 4      | 2      | small  |\n",
       "| Toyota Corolla | 33.9   | 4      |  71.1  |  65    | 4.22   | 1.835  | 19.90  | 1      | 1      | 4      | 1      | small  |\n",
       "| Toyota Corona | 21.5   | 4      | 120.1  |  97    | 3.70   | 2.465  | 20.01  | 1      | 0      | 3      | 1      | small  |\n",
       "| Dodge Challenger | 15.5   | 8      | 318.0  | 150    | 2.76   | 3.520  | 16.87  | 0      | 0      | 3      | 2      | big    |\n",
       "| AMC Javelin | 15.2   | 8      | 304.0  | 150    | 3.15   | 3.435  | 17.30  | 0      | 0      | 3      | 2      | big    |\n",
       "| Camaro Z28 | 13.3   | 8      | 350.0  | 245    | 3.73   | 3.840  | 15.41  | 0      | 0      | 3      | 4      | big    |\n",
       "| Pontiac Firebird | 19.2   | 8      | 400.0  | 175    | 3.08   | 3.845  | 17.05  | 0      | 0      | 3      | 2      | big    |\n",
       "| Fiat X1-9 | 27.3   | 4      |  79.0  |  66    | 4.08   | 1.935  | 18.90  | 1      | 1      | 4      | 1      | small  |\n",
       "| Porsche 914-2 | 26.0   | 4      | 120.3  |  91    | 4.43   | 2.140  | 16.70  | 0      | 1      | 5      | 2      | small  |\n",
       "| Lotus Europa | 30.4   | 4      |  95.1  | 113    | 3.77   | 1.513  | 16.90  | 1      | 1      | 5      | 2      | small  |\n",
       "| Ford Pantera L | 15.8   | 8      | 351.0  | 264    | 4.22   | 3.170  | 14.50  | 0      | 1      | 5      | 4      | big    |\n",
       "| Ferrari Dino | 19.7   | 6      | 145.0  | 175    | 3.62   | 2.770  | 15.50  | 0      | 1      | 5      | 6      | medium |\n",
       "| Maserati Bora | 15.0   | 8      | 301.0  | 335    | 3.54   | 3.570  | 14.60  | 0      | 1      | 5      | 8      | big    |\n",
       "| Volvo 142E | 21.4   | 4      | 121.0  | 109    | 4.11   | 2.780  | 18.60  | 1      | 1      | 4      | 2      | small  |\n",
       "| NewCar | 13.4   | 6      | 225.0  | 220    | 2.76   | 3.450  | 23.45  | 5      | 0      | 3      | 1      | medium |\n",
       "\n"
      ],
      "text/plain": [
       "                    mpg  cyl disp  hp  drat wt    qsec  vs am gear carb\n",
       "Mazda RX4           21.0 6   160.0 110 3.90 2.620 16.46 0  1  4    4   \n",
       "Mazda RX4 Wag       21.0 6   160.0 110 3.90 2.875 17.02 0  1  4    4   \n",
       "Datsun 710          22.8 4   108.0  93 3.85 2.320 18.61 1  1  4    1   \n",
       "Hornet 4 Drive      21.4 6   258.0 110 3.08 3.215 19.44 1  0  3    1   \n",
       "Hornet Sportabout   18.7 8   360.0 175 3.15 3.440 17.02 0  0  3    2   \n",
       "Valiant             18.1 6   225.0 105 2.76 3.460 20.22 1  0  3    1   \n",
       "Duster 360          14.3 8   360.0 245 3.21 3.570 15.84 0  0  3    4   \n",
       "Merc 240D           24.4 4   146.7  62 3.69 3.190 20.00 1  0  4    2   \n",
       "Merc 230            22.8 4   140.8  95 3.92 3.150 22.90 1  0  4    2   \n",
       "Merc 280            19.2 6   167.6 123 3.92 3.440 18.30 1  0  4    4   \n",
       "Merc 280C           17.8 6   167.6 123 3.92 3.440 18.90 1  0  4    4   \n",
       "Merc 450SE          16.4 8   275.8 180 3.07 4.070 17.40 0  0  3    3   \n",
       "Merc 450SL          17.3 8   275.8 180 3.07 3.730 17.60 0  0  3    3   \n",
       "Merc 450SLC         15.2 8   275.8 180 3.07 3.780 18.00 0  0  3    3   \n",
       "Cadillac Fleetwood  10.4 8   472.0 205 2.93 5.250 17.98 0  0  3    4   \n",
       "Lincoln Continental 10.4 8   460.0 215 3.00 5.424 17.82 0  0  3    4   \n",
       "Chrysler Imperial   14.7 8   440.0 230 3.23 5.345 17.42 0  0  3    4   \n",
       "Fiat 128            32.4 4    78.7  66 4.08 2.200 19.47 1  1  4    1   \n",
       "Honda Civic         30.4 4    75.7  52 4.93 1.615 18.52 1  1  4    2   \n",
       "Toyota Corolla      33.9 4    71.1  65 4.22 1.835 19.90 1  1  4    1   \n",
       "Toyota Corona       21.5 4   120.1  97 3.70 2.465 20.01 1  0  3    1   \n",
       "Dodge Challenger    15.5 8   318.0 150 2.76 3.520 16.87 0  0  3    2   \n",
       "AMC Javelin         15.2 8   304.0 150 3.15 3.435 17.30 0  0  3    2   \n",
       "Camaro Z28          13.3 8   350.0 245 3.73 3.840 15.41 0  0  3    4   \n",
       "Pontiac Firebird    19.2 8   400.0 175 3.08 3.845 17.05 0  0  3    2   \n",
       "Fiat X1-9           27.3 4    79.0  66 4.08 1.935 18.90 1  1  4    1   \n",
       "Porsche 914-2       26.0 4   120.3  91 4.43 2.140 16.70 0  1  5    2   \n",
       "Lotus Europa        30.4 4    95.1 113 3.77 1.513 16.90 1  1  5    2   \n",
       "Ford Pantera L      15.8 8   351.0 264 4.22 3.170 14.50 0  1  5    4   \n",
       "Ferrari Dino        19.7 6   145.0 175 3.62 2.770 15.50 0  1  5    6   \n",
       "Maserati Bora       15.0 8   301.0 335 3.54 3.570 14.60 0  1  5    8   \n",
       "Volvo 142E          21.4 4   121.0 109 4.11 2.780 18.60 1  1  4    2   \n",
       "NewCar              13.4 6   225.0 220 2.76 3.450 23.45 5  0  3    1   \n",
       "                    Category\n",
       "Mazda RX4           medium  \n",
       "Mazda RX4 Wag       medium  \n",
       "Datsun 710          small   \n",
       "Hornet 4 Drive      medium  \n",
       "Hornet Sportabout   big     \n",
       "Valiant             medium  \n",
       "Duster 360          big     \n",
       "Merc 240D           small   \n",
       "Merc 230            small   \n",
       "Merc 280            medium  \n",
       "Merc 280C           medium  \n",
       "Merc 450SE          big     \n",
       "Merc 450SL          big     \n",
       "Merc 450SLC         big     \n",
       "Cadillac Fleetwood  big     \n",
       "Lincoln Continental big     \n",
       "Chrysler Imperial   big     \n",
       "Fiat 128            small   \n",
       "Honda Civic         small   \n",
       "Toyota Corolla      small   \n",
       "Toyota Corona       small   \n",
       "Dodge Challenger    big     \n",
       "AMC Javelin         big     \n",
       "Camaro Z28          big     \n",
       "Pontiac Firebird    big     \n",
       "Fiat X1-9           small   \n",
       "Porsche 914-2       small   \n",
       "Lotus Europa        small   \n",
       "Ford Pantera L      big     \n",
       "Ferrari Dino        medium  \n",
       "Maserati Bora       big     \n",
       "Volvo 142E          small   \n",
       "NewCar              medium  "
      ]
     },
     "metadata": {},
     "output_type": "display_data"
    }
   ],
   "source": [
    "#Specify a row name \"NewCar\" and bind the newrow dataframe\n",
    "rbind(df, \"NewCar\" = newrow)"
   ]
  },
  {
   "cell_type": "markdown",
   "metadata": {},
   "source": [
    "#### Selecting a single column from a data frame"
   ]
  },
  {
   "cell_type": "code",
   "execution_count": 4,
   "metadata": {},
   "outputs": [
    {
     "data": {
      "text/html": [
       "<ol class=list-inline>\n",
       "\t<li>21</li>\n",
       "\t<li>21</li>\n",
       "\t<li>22.8</li>\n",
       "\t<li>21.4</li>\n",
       "\t<li>18.7</li>\n",
       "\t<li>18.1</li>\n",
       "\t<li>14.3</li>\n",
       "\t<li>24.4</li>\n",
       "\t<li>22.8</li>\n",
       "\t<li>19.2</li>\n",
       "\t<li>17.8</li>\n",
       "\t<li>16.4</li>\n",
       "\t<li>17.3</li>\n",
       "\t<li>15.2</li>\n",
       "\t<li>10.4</li>\n",
       "\t<li>10.4</li>\n",
       "\t<li>14.7</li>\n",
       "\t<li>32.4</li>\n",
       "\t<li>30.4</li>\n",
       "\t<li>33.9</li>\n",
       "\t<li>21.5</li>\n",
       "\t<li>15.5</li>\n",
       "\t<li>15.2</li>\n",
       "\t<li>13.3</li>\n",
       "\t<li>19.2</li>\n",
       "\t<li>27.3</li>\n",
       "\t<li>26</li>\n",
       "\t<li>30.4</li>\n",
       "\t<li>15.8</li>\n",
       "\t<li>19.7</li>\n",
       "\t<li>15</li>\n",
       "\t<li>21.4</li>\n",
       "</ol>\n"
      ],
      "text/latex": [
       "\\begin{enumerate*}\n",
       "\\item 21\n",
       "\\item 21\n",
       "\\item 22.8\n",
       "\\item 21.4\n",
       "\\item 18.7\n",
       "\\item 18.1\n",
       "\\item 14.3\n",
       "\\item 24.4\n",
       "\\item 22.8\n",
       "\\item 19.2\n",
       "\\item 17.8\n",
       "\\item 16.4\n",
       "\\item 17.3\n",
       "\\item 15.2\n",
       "\\item 10.4\n",
       "\\item 10.4\n",
       "\\item 14.7\n",
       "\\item 32.4\n",
       "\\item 30.4\n",
       "\\item 33.9\n",
       "\\item 21.5\n",
       "\\item 15.5\n",
       "\\item 15.2\n",
       "\\item 13.3\n",
       "\\item 19.2\n",
       "\\item 27.3\n",
       "\\item 26\n",
       "\\item 30.4\n",
       "\\item 15.8\n",
       "\\item 19.7\n",
       "\\item 15\n",
       "\\item 21.4\n",
       "\\end{enumerate*}\n"
      ],
      "text/markdown": [
       "1. 21\n",
       "2. 21\n",
       "3. 22.8\n",
       "4. 21.4\n",
       "5. 18.7\n",
       "6. 18.1\n",
       "7. 14.3\n",
       "8. 24.4\n",
       "9. 22.8\n",
       "10. 19.2\n",
       "11. 17.8\n",
       "12. 16.4\n",
       "13. 17.3\n",
       "14. 15.2\n",
       "15. 10.4\n",
       "16. 10.4\n",
       "17. 14.7\n",
       "18. 32.4\n",
       "19. 30.4\n",
       "20. 33.9\n",
       "21. 21.5\n",
       "22. 15.5\n",
       "23. 15.2\n",
       "24. 13.3\n",
       "25. 19.2\n",
       "26. 27.3\n",
       "27. 26\n",
       "28. 30.4\n",
       "29. 15.8\n",
       "30. 19.7\n",
       "31. 15\n",
       "32. 21.4\n",
       "\n",
       "\n"
      ],
      "text/plain": [
       " [1] 21.0 21.0 22.8 21.4 18.7 18.1 14.3 24.4 22.8 19.2 17.8 16.4 17.3 15.2 10.4\n",
       "[16] 10.4 14.7 32.4 30.4 33.9 21.5 15.5 15.2 13.3 19.2 27.3 26.0 30.4 15.8 19.7\n",
       "[31] 15.0 21.4"
      ]
     },
     "metadata": {},
     "output_type": "display_data"
    }
   ],
   "source": [
    "#Select column mpg\n",
    "df$mpg"
   ]
  },
  {
   "cell_type": "code",
   "execution_count": 5,
   "metadata": {},
   "outputs": [
    {
     "data": {
      "text/html": [
       "<ol class=list-inline>\n",
       "\t<li>21</li>\n",
       "\t<li>21</li>\n",
       "\t<li>22.8</li>\n",
       "\t<li>21.4</li>\n",
       "\t<li>18.7</li>\n",
       "\t<li>18.1</li>\n",
       "\t<li>14.3</li>\n",
       "\t<li>24.4</li>\n",
       "\t<li>22.8</li>\n",
       "\t<li>19.2</li>\n",
       "\t<li>17.8</li>\n",
       "\t<li>16.4</li>\n",
       "\t<li>17.3</li>\n",
       "\t<li>15.2</li>\n",
       "\t<li>10.4</li>\n",
       "\t<li>10.4</li>\n",
       "\t<li>14.7</li>\n",
       "\t<li>32.4</li>\n",
       "\t<li>30.4</li>\n",
       "\t<li>33.9</li>\n",
       "\t<li>21.5</li>\n",
       "\t<li>15.5</li>\n",
       "\t<li>15.2</li>\n",
       "\t<li>13.3</li>\n",
       "\t<li>19.2</li>\n",
       "\t<li>27.3</li>\n",
       "\t<li>26</li>\n",
       "\t<li>30.4</li>\n",
       "\t<li>15.8</li>\n",
       "\t<li>19.7</li>\n",
       "\t<li>15</li>\n",
       "\t<li>21.4</li>\n",
       "</ol>\n"
      ],
      "text/latex": [
       "\\begin{enumerate*}\n",
       "\\item 21\n",
       "\\item 21\n",
       "\\item 22.8\n",
       "\\item 21.4\n",
       "\\item 18.7\n",
       "\\item 18.1\n",
       "\\item 14.3\n",
       "\\item 24.4\n",
       "\\item 22.8\n",
       "\\item 19.2\n",
       "\\item 17.8\n",
       "\\item 16.4\n",
       "\\item 17.3\n",
       "\\item 15.2\n",
       "\\item 10.4\n",
       "\\item 10.4\n",
       "\\item 14.7\n",
       "\\item 32.4\n",
       "\\item 30.4\n",
       "\\item 33.9\n",
       "\\item 21.5\n",
       "\\item 15.5\n",
       "\\item 15.2\n",
       "\\item 13.3\n",
       "\\item 19.2\n",
       "\\item 27.3\n",
       "\\item 26\n",
       "\\item 30.4\n",
       "\\item 15.8\n",
       "\\item 19.7\n",
       "\\item 15\n",
       "\\item 21.4\n",
       "\\end{enumerate*}\n"
      ],
      "text/markdown": [
       "1. 21\n",
       "2. 21\n",
       "3. 22.8\n",
       "4. 21.4\n",
       "5. 18.7\n",
       "6. 18.1\n",
       "7. 14.3\n",
       "8. 24.4\n",
       "9. 22.8\n",
       "10. 19.2\n",
       "11. 17.8\n",
       "12. 16.4\n",
       "13. 17.3\n",
       "14. 15.2\n",
       "15. 10.4\n",
       "16. 10.4\n",
       "17. 14.7\n",
       "18. 32.4\n",
       "19. 30.4\n",
       "20. 33.9\n",
       "21. 21.5\n",
       "22. 15.5\n",
       "23. 15.2\n",
       "24. 13.3\n",
       "25. 19.2\n",
       "26. 27.3\n",
       "27. 26\n",
       "28. 30.4\n",
       "29. 15.8\n",
       "30. 19.7\n",
       "31. 15\n",
       "32. 21.4\n",
       "\n",
       "\n"
      ],
      "text/plain": [
       " [1] 21.0 21.0 22.8 21.4 18.7 18.1 14.3 24.4 22.8 19.2 17.8 16.4 17.3 15.2 10.4\n",
       "[16] 10.4 14.7 32.4 30.4 33.9 21.5 15.5 15.2 13.3 19.2 27.3 26.0 30.4 15.8 19.7\n",
       "[31] 15.0 21.4"
      ]
     },
     "metadata": {},
     "output_type": "display_data"
    }
   ],
   "source": [
    "df[['mpg']]"
   ]
  },
  {
   "cell_type": "code",
   "execution_count": 6,
   "metadata": {},
   "outputs": [
    {
     "data": {
      "text/html": [
       "<table>\n",
       "<thead><tr><th></th><th scope=col>mpg</th></tr></thead>\n",
       "<tbody>\n",
       "\t<tr><th scope=row>Mazda RX4</th><td>21.0</td></tr>\n",
       "\t<tr><th scope=row>Mazda RX4 Wag</th><td>21.0</td></tr>\n",
       "\t<tr><th scope=row>Datsun 710</th><td>22.8</td></tr>\n",
       "\t<tr><th scope=row>Hornet 4 Drive</th><td>21.4</td></tr>\n",
       "\t<tr><th scope=row>Hornet Sportabout</th><td>18.7</td></tr>\n",
       "\t<tr><th scope=row>Valiant</th><td>18.1</td></tr>\n",
       "\t<tr><th scope=row>Duster 360</th><td>14.3</td></tr>\n",
       "\t<tr><th scope=row>Merc 240D</th><td>24.4</td></tr>\n",
       "\t<tr><th scope=row>Merc 230</th><td>22.8</td></tr>\n",
       "\t<tr><th scope=row>Merc 280</th><td>19.2</td></tr>\n",
       "\t<tr><th scope=row>Merc 280C</th><td>17.8</td></tr>\n",
       "\t<tr><th scope=row>Merc 450SE</th><td>16.4</td></tr>\n",
       "\t<tr><th scope=row>Merc 450SL</th><td>17.3</td></tr>\n",
       "\t<tr><th scope=row>Merc 450SLC</th><td>15.2</td></tr>\n",
       "\t<tr><th scope=row>Cadillac Fleetwood</th><td>10.4</td></tr>\n",
       "\t<tr><th scope=row>Lincoln Continental</th><td>10.4</td></tr>\n",
       "\t<tr><th scope=row>Chrysler Imperial</th><td>14.7</td></tr>\n",
       "\t<tr><th scope=row>Fiat 128</th><td>32.4</td></tr>\n",
       "\t<tr><th scope=row>Honda Civic</th><td>30.4</td></tr>\n",
       "\t<tr><th scope=row>Toyota Corolla</th><td>33.9</td></tr>\n",
       "\t<tr><th scope=row>Toyota Corona</th><td>21.5</td></tr>\n",
       "\t<tr><th scope=row>Dodge Challenger</th><td>15.5</td></tr>\n",
       "\t<tr><th scope=row>AMC Javelin</th><td>15.2</td></tr>\n",
       "\t<tr><th scope=row>Camaro Z28</th><td>13.3</td></tr>\n",
       "\t<tr><th scope=row>Pontiac Firebird</th><td>19.2</td></tr>\n",
       "\t<tr><th scope=row>Fiat X1-9</th><td>27.3</td></tr>\n",
       "\t<tr><th scope=row>Porsche 914-2</th><td>26.0</td></tr>\n",
       "\t<tr><th scope=row>Lotus Europa</th><td>30.4</td></tr>\n",
       "\t<tr><th scope=row>Ford Pantera L</th><td>15.8</td></tr>\n",
       "\t<tr><th scope=row>Ferrari Dino</th><td>19.7</td></tr>\n",
       "\t<tr><th scope=row>Maserati Bora</th><td>15.0</td></tr>\n",
       "\t<tr><th scope=row>Volvo 142E</th><td>21.4</td></tr>\n",
       "</tbody>\n",
       "</table>\n"
      ],
      "text/latex": [
       "\\begin{tabular}{r|l}\n",
       "  & mpg\\\\\n",
       "\\hline\n",
       "\tMazda RX4 & 21.0\\\\\n",
       "\tMazda RX4 Wag & 21.0\\\\\n",
       "\tDatsun 710 & 22.8\\\\\n",
       "\tHornet 4 Drive & 21.4\\\\\n",
       "\tHornet Sportabout & 18.7\\\\\n",
       "\tValiant & 18.1\\\\\n",
       "\tDuster 360 & 14.3\\\\\n",
       "\tMerc 240D & 24.4\\\\\n",
       "\tMerc 230 & 22.8\\\\\n",
       "\tMerc 280 & 19.2\\\\\n",
       "\tMerc 280C & 17.8\\\\\n",
       "\tMerc 450SE & 16.4\\\\\n",
       "\tMerc 450SL & 17.3\\\\\n",
       "\tMerc 450SLC & 15.2\\\\\n",
       "\tCadillac Fleetwood & 10.4\\\\\n",
       "\tLincoln Continental & 10.4\\\\\n",
       "\tChrysler Imperial & 14.7\\\\\n",
       "\tFiat 128 & 32.4\\\\\n",
       "\tHonda Civic & 30.4\\\\\n",
       "\tToyota Corolla & 33.9\\\\\n",
       "\tToyota Corona & 21.5\\\\\n",
       "\tDodge Challenger & 15.5\\\\\n",
       "\tAMC Javelin & 15.2\\\\\n",
       "\tCamaro Z28 & 13.3\\\\\n",
       "\tPontiac Firebird & 19.2\\\\\n",
       "\tFiat X1-9 & 27.3\\\\\n",
       "\tPorsche 914-2 & 26.0\\\\\n",
       "\tLotus Europa & 30.4\\\\\n",
       "\tFord Pantera L & 15.8\\\\\n",
       "\tFerrari Dino & 19.7\\\\\n",
       "\tMaserati Bora & 15.0\\\\\n",
       "\tVolvo 142E & 21.4\\\\\n",
       "\\end{tabular}\n"
      ],
      "text/markdown": [
       "\n",
       "| <!--/--> | mpg |\n",
       "|---|---|\n",
       "| Mazda RX4 | 21.0 |\n",
       "| Mazda RX4 Wag | 21.0 |\n",
       "| Datsun 710 | 22.8 |\n",
       "| Hornet 4 Drive | 21.4 |\n",
       "| Hornet Sportabout | 18.7 |\n",
       "| Valiant | 18.1 |\n",
       "| Duster 360 | 14.3 |\n",
       "| Merc 240D | 24.4 |\n",
       "| Merc 230 | 22.8 |\n",
       "| Merc 280 | 19.2 |\n",
       "| Merc 280C | 17.8 |\n",
       "| Merc 450SE | 16.4 |\n",
       "| Merc 450SL | 17.3 |\n",
       "| Merc 450SLC | 15.2 |\n",
       "| Cadillac Fleetwood | 10.4 |\n",
       "| Lincoln Continental | 10.4 |\n",
       "| Chrysler Imperial | 14.7 |\n",
       "| Fiat 128 | 32.4 |\n",
       "| Honda Civic | 30.4 |\n",
       "| Toyota Corolla | 33.9 |\n",
       "| Toyota Corona | 21.5 |\n",
       "| Dodge Challenger | 15.5 |\n",
       "| AMC Javelin | 15.2 |\n",
       "| Camaro Z28 | 13.3 |\n",
       "| Pontiac Firebird | 19.2 |\n",
       "| Fiat X1-9 | 27.3 |\n",
       "| Porsche 914-2 | 26.0 |\n",
       "| Lotus Europa | 30.4 |\n",
       "| Ford Pantera L | 15.8 |\n",
       "| Ferrari Dino | 19.7 |\n",
       "| Maserati Bora | 15.0 |\n",
       "| Volvo 142E | 21.4 |\n",
       "\n"
      ],
      "text/plain": [
       "                    mpg \n",
       "Mazda RX4           21.0\n",
       "Mazda RX4 Wag       21.0\n",
       "Datsun 710          22.8\n",
       "Hornet 4 Drive      21.4\n",
       "Hornet Sportabout   18.7\n",
       "Valiant             18.1\n",
       "Duster 360          14.3\n",
       "Merc 240D           24.4\n",
       "Merc 230            22.8\n",
       "Merc 280            19.2\n",
       "Merc 280C           17.8\n",
       "Merc 450SE          16.4\n",
       "Merc 450SL          17.3\n",
       "Merc 450SLC         15.2\n",
       "Cadillac Fleetwood  10.4\n",
       "Lincoln Continental 10.4\n",
       "Chrysler Imperial   14.7\n",
       "Fiat 128            32.4\n",
       "Honda Civic         30.4\n",
       "Toyota Corolla      33.9\n",
       "Toyota Corona       21.5\n",
       "Dodge Challenger    15.5\n",
       "AMC Javelin         15.2\n",
       "Camaro Z28          13.3\n",
       "Pontiac Firebird    19.2\n",
       "Fiat X1-9           27.3\n",
       "Porsche 914-2       26.0\n",
       "Lotus Europa        30.4\n",
       "Ford Pantera L      15.8\n",
       "Ferrari Dino        19.7\n",
       "Maserati Bora       15.0\n",
       "Volvo 142E          21.4"
      ]
     },
     "metadata": {},
     "output_type": "display_data"
    }
   ],
   "source": [
    "df['mpg']"
   ]
  },
  {
   "cell_type": "markdown",
   "metadata": {},
   "source": [
    "#### Selecting multiple columns from df"
   ]
  },
  {
   "cell_type": "code",
   "execution_count": 11,
   "metadata": {},
   "outputs": [
    {
     "data": {
      "text/html": [
       "<table>\n",
       "<thead><tr><th></th><th scope=col>mpg</th><th scope=col>cyl</th></tr></thead>\n",
       "<tbody>\n",
       "\t<tr><th scope=row>Mazda RX4</th><td>21.0</td><td>6   </td></tr>\n",
       "\t<tr><th scope=row>Mazda RX4 Wag</th><td>21.0</td><td>6   </td></tr>\n",
       "\t<tr><th scope=row>Datsun 710</th><td>22.8</td><td>4   </td></tr>\n",
       "\t<tr><th scope=row>Hornet 4 Drive</th><td>21.4</td><td>6   </td></tr>\n",
       "\t<tr><th scope=row>Hornet Sportabout</th><td>18.7</td><td>8   </td></tr>\n",
       "\t<tr><th scope=row>Valiant</th><td>18.1</td><td>6   </td></tr>\n",
       "\t<tr><th scope=row>Duster 360</th><td>14.3</td><td>8   </td></tr>\n",
       "\t<tr><th scope=row>Merc 240D</th><td>24.4</td><td>4   </td></tr>\n",
       "\t<tr><th scope=row>Merc 230</th><td>22.8</td><td>4   </td></tr>\n",
       "\t<tr><th scope=row>Merc 280</th><td>19.2</td><td>6   </td></tr>\n",
       "\t<tr><th scope=row>Merc 280C</th><td>17.8</td><td>6   </td></tr>\n",
       "\t<tr><th scope=row>Merc 450SE</th><td>16.4</td><td>8   </td></tr>\n",
       "\t<tr><th scope=row>Merc 450SL</th><td>17.3</td><td>8   </td></tr>\n",
       "\t<tr><th scope=row>Merc 450SLC</th><td>15.2</td><td>8   </td></tr>\n",
       "\t<tr><th scope=row>Cadillac Fleetwood</th><td>10.4</td><td>8   </td></tr>\n",
       "\t<tr><th scope=row>Lincoln Continental</th><td>10.4</td><td>8   </td></tr>\n",
       "\t<tr><th scope=row>Chrysler Imperial</th><td>14.7</td><td>8   </td></tr>\n",
       "\t<tr><th scope=row>Fiat 128</th><td>32.4</td><td>4   </td></tr>\n",
       "\t<tr><th scope=row>Honda Civic</th><td>30.4</td><td>4   </td></tr>\n",
       "\t<tr><th scope=row>Toyota Corolla</th><td>33.9</td><td>4   </td></tr>\n",
       "\t<tr><th scope=row>Toyota Corona</th><td>21.5</td><td>4   </td></tr>\n",
       "\t<tr><th scope=row>Dodge Challenger</th><td>15.5</td><td>8   </td></tr>\n",
       "\t<tr><th scope=row>AMC Javelin</th><td>15.2</td><td>8   </td></tr>\n",
       "\t<tr><th scope=row>Camaro Z28</th><td>13.3</td><td>8   </td></tr>\n",
       "\t<tr><th scope=row>Pontiac Firebird</th><td>19.2</td><td>8   </td></tr>\n",
       "\t<tr><th scope=row>Fiat X1-9</th><td>27.3</td><td>4   </td></tr>\n",
       "\t<tr><th scope=row>Porsche 914-2</th><td>26.0</td><td>4   </td></tr>\n",
       "\t<tr><th scope=row>Lotus Europa</th><td>30.4</td><td>4   </td></tr>\n",
       "\t<tr><th scope=row>Ford Pantera L</th><td>15.8</td><td>8   </td></tr>\n",
       "\t<tr><th scope=row>Ferrari Dino</th><td>19.7</td><td>6   </td></tr>\n",
       "\t<tr><th scope=row>Maserati Bora</th><td>15.0</td><td>8   </td></tr>\n",
       "\t<tr><th scope=row>Volvo 142E</th><td>21.4</td><td>4   </td></tr>\n",
       "</tbody>\n",
       "</table>\n"
      ],
      "text/latex": [
       "\\begin{tabular}{r|ll}\n",
       "  & mpg & cyl\\\\\n",
       "\\hline\n",
       "\tMazda RX4 & 21.0 & 6   \\\\\n",
       "\tMazda RX4 Wag & 21.0 & 6   \\\\\n",
       "\tDatsun 710 & 22.8 & 4   \\\\\n",
       "\tHornet 4 Drive & 21.4 & 6   \\\\\n",
       "\tHornet Sportabout & 18.7 & 8   \\\\\n",
       "\tValiant & 18.1 & 6   \\\\\n",
       "\tDuster 360 & 14.3 & 8   \\\\\n",
       "\tMerc 240D & 24.4 & 4   \\\\\n",
       "\tMerc 230 & 22.8 & 4   \\\\\n",
       "\tMerc 280 & 19.2 & 6   \\\\\n",
       "\tMerc 280C & 17.8 & 6   \\\\\n",
       "\tMerc 450SE & 16.4 & 8   \\\\\n",
       "\tMerc 450SL & 17.3 & 8   \\\\\n",
       "\tMerc 450SLC & 15.2 & 8   \\\\\n",
       "\tCadillac Fleetwood & 10.4 & 8   \\\\\n",
       "\tLincoln Continental & 10.4 & 8   \\\\\n",
       "\tChrysler Imperial & 14.7 & 8   \\\\\n",
       "\tFiat 128 & 32.4 & 4   \\\\\n",
       "\tHonda Civic & 30.4 & 4   \\\\\n",
       "\tToyota Corolla & 33.9 & 4   \\\\\n",
       "\tToyota Corona & 21.5 & 4   \\\\\n",
       "\tDodge Challenger & 15.5 & 8   \\\\\n",
       "\tAMC Javelin & 15.2 & 8   \\\\\n",
       "\tCamaro Z28 & 13.3 & 8   \\\\\n",
       "\tPontiac Firebird & 19.2 & 8   \\\\\n",
       "\tFiat X1-9 & 27.3 & 4   \\\\\n",
       "\tPorsche 914-2 & 26.0 & 4   \\\\\n",
       "\tLotus Europa & 30.4 & 4   \\\\\n",
       "\tFord Pantera L & 15.8 & 8   \\\\\n",
       "\tFerrari Dino & 19.7 & 6   \\\\\n",
       "\tMaserati Bora & 15.0 & 8   \\\\\n",
       "\tVolvo 142E & 21.4 & 4   \\\\\n",
       "\\end{tabular}\n"
      ],
      "text/markdown": [
       "\n",
       "| <!--/--> | mpg | cyl |\n",
       "|---|---|---|\n",
       "| Mazda RX4 | 21.0 | 6    |\n",
       "| Mazda RX4 Wag | 21.0 | 6    |\n",
       "| Datsun 710 | 22.8 | 4    |\n",
       "| Hornet 4 Drive | 21.4 | 6    |\n",
       "| Hornet Sportabout | 18.7 | 8    |\n",
       "| Valiant | 18.1 | 6    |\n",
       "| Duster 360 | 14.3 | 8    |\n",
       "| Merc 240D | 24.4 | 4    |\n",
       "| Merc 230 | 22.8 | 4    |\n",
       "| Merc 280 | 19.2 | 6    |\n",
       "| Merc 280C | 17.8 | 6    |\n",
       "| Merc 450SE | 16.4 | 8    |\n",
       "| Merc 450SL | 17.3 | 8    |\n",
       "| Merc 450SLC | 15.2 | 8    |\n",
       "| Cadillac Fleetwood | 10.4 | 8    |\n",
       "| Lincoln Continental | 10.4 | 8    |\n",
       "| Chrysler Imperial | 14.7 | 8    |\n",
       "| Fiat 128 | 32.4 | 4    |\n",
       "| Honda Civic | 30.4 | 4    |\n",
       "| Toyota Corolla | 33.9 | 4    |\n",
       "| Toyota Corona | 21.5 | 4    |\n",
       "| Dodge Challenger | 15.5 | 8    |\n",
       "| AMC Javelin | 15.2 | 8    |\n",
       "| Camaro Z28 | 13.3 | 8    |\n",
       "| Pontiac Firebird | 19.2 | 8    |\n",
       "| Fiat X1-9 | 27.3 | 4    |\n",
       "| Porsche 914-2 | 26.0 | 4    |\n",
       "| Lotus Europa | 30.4 | 4    |\n",
       "| Ford Pantera L | 15.8 | 8    |\n",
       "| Ferrari Dino | 19.7 | 6    |\n",
       "| Maserati Bora | 15.0 | 8    |\n",
       "| Volvo 142E | 21.4 | 4    |\n",
       "\n"
      ],
      "text/plain": [
       "                    mpg  cyl\n",
       "Mazda RX4           21.0 6  \n",
       "Mazda RX4 Wag       21.0 6  \n",
       "Datsun 710          22.8 4  \n",
       "Hornet 4 Drive      21.4 6  \n",
       "Hornet Sportabout   18.7 8  \n",
       "Valiant             18.1 6  \n",
       "Duster 360          14.3 8  \n",
       "Merc 240D           24.4 4  \n",
       "Merc 230            22.8 4  \n",
       "Merc 280            19.2 6  \n",
       "Merc 280C           17.8 6  \n",
       "Merc 450SE          16.4 8  \n",
       "Merc 450SL          17.3 8  \n",
       "Merc 450SLC         15.2 8  \n",
       "Cadillac Fleetwood  10.4 8  \n",
       "Lincoln Continental 10.4 8  \n",
       "Chrysler Imperial   14.7 8  \n",
       "Fiat 128            32.4 4  \n",
       "Honda Civic         30.4 4  \n",
       "Toyota Corolla      33.9 4  \n",
       "Toyota Corona       21.5 4  \n",
       "Dodge Challenger    15.5 8  \n",
       "AMC Javelin         15.2 8  \n",
       "Camaro Z28          13.3 8  \n",
       "Pontiac Firebird    19.2 8  \n",
       "Fiat X1-9           27.3 4  \n",
       "Porsche 914-2       26.0 4  \n",
       "Lotus Europa        30.4 4  \n",
       "Ford Pantera L      15.8 8  \n",
       "Ferrari Dino        19.7 6  \n",
       "Maserati Bora       15.0 8  \n",
       "Volvo 142E          21.4 4  "
      ]
     },
     "metadata": {},
     "output_type": "display_data"
    }
   ],
   "source": [
    "# select mpg, cyl columns \n",
    "df[c('mpg', 'cyl')]"
   ]
  },
  {
   "cell_type": "code",
   "execution_count": 16,
   "metadata": {},
   "outputs": [
    {
     "data": {
      "text/html": [
       "<table>\n",
       "<thead><tr><th></th><th scope=col>mpg</th><th scope=col>cyl</th></tr></thead>\n",
       "<tbody>\n",
       "\t<tr><th scope=row>Mazda RX4</th><td>21.0</td><td>6   </td></tr>\n",
       "\t<tr><th scope=row>Mazda RX4 Wag</th><td>21.0</td><td>6   </td></tr>\n",
       "\t<tr><th scope=row>Datsun 710</th><td>22.8</td><td>4   </td></tr>\n",
       "\t<tr><th scope=row>Hornet 4 Drive</th><td>21.4</td><td>6   </td></tr>\n",
       "\t<tr><th scope=row>Hornet Sportabout</th><td>18.7</td><td>8   </td></tr>\n",
       "\t<tr><th scope=row>Valiant</th><td>18.1</td><td>6   </td></tr>\n",
       "\t<tr><th scope=row>Duster 360</th><td>14.3</td><td>8   </td></tr>\n",
       "\t<tr><th scope=row>Merc 240D</th><td>24.4</td><td>4   </td></tr>\n",
       "\t<tr><th scope=row>Merc 230</th><td>22.8</td><td>4   </td></tr>\n",
       "\t<tr><th scope=row>Merc 280</th><td>19.2</td><td>6   </td></tr>\n",
       "\t<tr><th scope=row>Merc 280C</th><td>17.8</td><td>6   </td></tr>\n",
       "\t<tr><th scope=row>Merc 450SE</th><td>16.4</td><td>8   </td></tr>\n",
       "\t<tr><th scope=row>Merc 450SL</th><td>17.3</td><td>8   </td></tr>\n",
       "\t<tr><th scope=row>Merc 450SLC</th><td>15.2</td><td>8   </td></tr>\n",
       "\t<tr><th scope=row>Cadillac Fleetwood</th><td>10.4</td><td>8   </td></tr>\n",
       "\t<tr><th scope=row>Lincoln Continental</th><td>10.4</td><td>8   </td></tr>\n",
       "\t<tr><th scope=row>Chrysler Imperial</th><td>14.7</td><td>8   </td></tr>\n",
       "\t<tr><th scope=row>Fiat 128</th><td>32.4</td><td>4   </td></tr>\n",
       "\t<tr><th scope=row>Honda Civic</th><td>30.4</td><td>4   </td></tr>\n",
       "\t<tr><th scope=row>Toyota Corolla</th><td>33.9</td><td>4   </td></tr>\n",
       "\t<tr><th scope=row>Toyota Corona</th><td>21.5</td><td>4   </td></tr>\n",
       "\t<tr><th scope=row>Dodge Challenger</th><td>15.5</td><td>8   </td></tr>\n",
       "\t<tr><th scope=row>AMC Javelin</th><td>15.2</td><td>8   </td></tr>\n",
       "\t<tr><th scope=row>Camaro Z28</th><td>13.3</td><td>8   </td></tr>\n",
       "\t<tr><th scope=row>Pontiac Firebird</th><td>19.2</td><td>8   </td></tr>\n",
       "\t<tr><th scope=row>Fiat X1-9</th><td>27.3</td><td>4   </td></tr>\n",
       "\t<tr><th scope=row>Porsche 914-2</th><td>26.0</td><td>4   </td></tr>\n",
       "\t<tr><th scope=row>Lotus Europa</th><td>30.4</td><td>4   </td></tr>\n",
       "\t<tr><th scope=row>Ford Pantera L</th><td>15.8</td><td>8   </td></tr>\n",
       "\t<tr><th scope=row>Ferrari Dino</th><td>19.7</td><td>6   </td></tr>\n",
       "\t<tr><th scope=row>Maserati Bora</th><td>15.0</td><td>8   </td></tr>\n",
       "\t<tr><th scope=row>Volvo 142E</th><td>21.4</td><td>4   </td></tr>\n",
       "</tbody>\n",
       "</table>\n"
      ],
      "text/latex": [
       "\\begin{tabular}{r|ll}\n",
       "  & mpg & cyl\\\\\n",
       "\\hline\n",
       "\tMazda RX4 & 21.0 & 6   \\\\\n",
       "\tMazda RX4 Wag & 21.0 & 6   \\\\\n",
       "\tDatsun 710 & 22.8 & 4   \\\\\n",
       "\tHornet 4 Drive & 21.4 & 6   \\\\\n",
       "\tHornet Sportabout & 18.7 & 8   \\\\\n",
       "\tValiant & 18.1 & 6   \\\\\n",
       "\tDuster 360 & 14.3 & 8   \\\\\n",
       "\tMerc 240D & 24.4 & 4   \\\\\n",
       "\tMerc 230 & 22.8 & 4   \\\\\n",
       "\tMerc 280 & 19.2 & 6   \\\\\n",
       "\tMerc 280C & 17.8 & 6   \\\\\n",
       "\tMerc 450SE & 16.4 & 8   \\\\\n",
       "\tMerc 450SL & 17.3 & 8   \\\\\n",
       "\tMerc 450SLC & 15.2 & 8   \\\\\n",
       "\tCadillac Fleetwood & 10.4 & 8   \\\\\n",
       "\tLincoln Continental & 10.4 & 8   \\\\\n",
       "\tChrysler Imperial & 14.7 & 8   \\\\\n",
       "\tFiat 128 & 32.4 & 4   \\\\\n",
       "\tHonda Civic & 30.4 & 4   \\\\\n",
       "\tToyota Corolla & 33.9 & 4   \\\\\n",
       "\tToyota Corona & 21.5 & 4   \\\\\n",
       "\tDodge Challenger & 15.5 & 8   \\\\\n",
       "\tAMC Javelin & 15.2 & 8   \\\\\n",
       "\tCamaro Z28 & 13.3 & 8   \\\\\n",
       "\tPontiac Firebird & 19.2 & 8   \\\\\n",
       "\tFiat X1-9 & 27.3 & 4   \\\\\n",
       "\tPorsche 914-2 & 26.0 & 4   \\\\\n",
       "\tLotus Europa & 30.4 & 4   \\\\\n",
       "\tFord Pantera L & 15.8 & 8   \\\\\n",
       "\tFerrari Dino & 19.7 & 6   \\\\\n",
       "\tMaserati Bora & 15.0 & 8   \\\\\n",
       "\tVolvo 142E & 21.4 & 4   \\\\\n",
       "\\end{tabular}\n"
      ],
      "text/markdown": [
       "\n",
       "| <!--/--> | mpg | cyl |\n",
       "|---|---|---|\n",
       "| Mazda RX4 | 21.0 | 6    |\n",
       "| Mazda RX4 Wag | 21.0 | 6    |\n",
       "| Datsun 710 | 22.8 | 4    |\n",
       "| Hornet 4 Drive | 21.4 | 6    |\n",
       "| Hornet Sportabout | 18.7 | 8    |\n",
       "| Valiant | 18.1 | 6    |\n",
       "| Duster 360 | 14.3 | 8    |\n",
       "| Merc 240D | 24.4 | 4    |\n",
       "| Merc 230 | 22.8 | 4    |\n",
       "| Merc 280 | 19.2 | 6    |\n",
       "| Merc 280C | 17.8 | 6    |\n",
       "| Merc 450SE | 16.4 | 8    |\n",
       "| Merc 450SL | 17.3 | 8    |\n",
       "| Merc 450SLC | 15.2 | 8    |\n",
       "| Cadillac Fleetwood | 10.4 | 8    |\n",
       "| Lincoln Continental | 10.4 | 8    |\n",
       "| Chrysler Imperial | 14.7 | 8    |\n",
       "| Fiat 128 | 32.4 | 4    |\n",
       "| Honda Civic | 30.4 | 4    |\n",
       "| Toyota Corolla | 33.9 | 4    |\n",
       "| Toyota Corona | 21.5 | 4    |\n",
       "| Dodge Challenger | 15.5 | 8    |\n",
       "| AMC Javelin | 15.2 | 8    |\n",
       "| Camaro Z28 | 13.3 | 8    |\n",
       "| Pontiac Firebird | 19.2 | 8    |\n",
       "| Fiat X1-9 | 27.3 | 4    |\n",
       "| Porsche 914-2 | 26.0 | 4    |\n",
       "| Lotus Europa | 30.4 | 4    |\n",
       "| Ford Pantera L | 15.8 | 8    |\n",
       "| Ferrari Dino | 19.7 | 6    |\n",
       "| Maserati Bora | 15.0 | 8    |\n",
       "| Volvo 142E | 21.4 | 4    |\n",
       "\n"
      ],
      "text/plain": [
       "                    mpg  cyl\n",
       "Mazda RX4           21.0 6  \n",
       "Mazda RX4 Wag       21.0 6  \n",
       "Datsun 710          22.8 4  \n",
       "Hornet 4 Drive      21.4 6  \n",
       "Hornet Sportabout   18.7 8  \n",
       "Valiant             18.1 6  \n",
       "Duster 360          14.3 8  \n",
       "Merc 240D           24.4 4  \n",
       "Merc 230            22.8 4  \n",
       "Merc 280            19.2 6  \n",
       "Merc 280C           17.8 6  \n",
       "Merc 450SE          16.4 8  \n",
       "Merc 450SL          17.3 8  \n",
       "Merc 450SLC         15.2 8  \n",
       "Cadillac Fleetwood  10.4 8  \n",
       "Lincoln Continental 10.4 8  \n",
       "Chrysler Imperial   14.7 8  \n",
       "Fiat 128            32.4 4  \n",
       "Honda Civic         30.4 4  \n",
       "Toyota Corolla      33.9 4  \n",
       "Toyota Corona       21.5 4  \n",
       "Dodge Challenger    15.5 8  \n",
       "AMC Javelin         15.2 8  \n",
       "Camaro Z28          13.3 8  \n",
       "Pontiac Firebird    19.2 8  \n",
       "Fiat X1-9           27.3 4  \n",
       "Porsche 914-2       26.0 4  \n",
       "Lotus Europa        30.4 4  \n",
       "Ford Pantera L      15.8 8  \n",
       "Ferrari Dino        19.7 6  \n",
       "Maserati Bora       15.0 8  \n",
       "Volvo 142E          21.4 4  "
      ]
     },
     "metadata": {},
     "output_type": "display_data"
    }
   ],
   "source": [
    "#Selecing multiple columns using subset function\n",
    "subset(x = df, select = c('mpg', 'cyl'))"
   ]
  },
  {
   "cell_type": "markdown",
   "metadata": {},
   "source": [
    "#### Selecting Single Row from Dataframe"
   ]
  },
  {
   "cell_type": "code",
   "execution_count": 19,
   "metadata": {},
   "outputs": [
    {
     "data": {
      "text/html": [
       "<table>\n",
       "<thead><tr><th></th><th scope=col>mpg</th><th scope=col>cyl</th><th scope=col>disp</th><th scope=col>hp</th><th scope=col>drat</th><th scope=col>wt</th><th scope=col>qsec</th><th scope=col>vs</th><th scope=col>am</th><th scope=col>gear</th><th scope=col>carb</th></tr></thead>\n",
       "<tbody>\n",
       "\t<tr><th scope=row>Ferrari Dino</th><td>19.7</td><td>6   </td><td>145 </td><td>175 </td><td>3.62</td><td>2.77</td><td>15.5</td><td>0   </td><td>1   </td><td>5   </td><td>6   </td></tr>\n",
       "</tbody>\n",
       "</table>\n"
      ],
      "text/latex": [
       "\\begin{tabular}{r|lllllllllll}\n",
       "  & mpg & cyl & disp & hp & drat & wt & qsec & vs & am & gear & carb\\\\\n",
       "\\hline\n",
       "\tFerrari Dino & 19.7 & 6    & 145  & 175  & 3.62 & 2.77 & 15.5 & 0    & 1    & 5    & 6   \\\\\n",
       "\\end{tabular}\n"
      ],
      "text/markdown": [
       "\n",
       "| <!--/--> | mpg | cyl | disp | hp | drat | wt | qsec | vs | am | gear | carb |\n",
       "|---|---|---|---|---|---|---|---|---|---|---|---|\n",
       "| Ferrari Dino | 19.7 | 6    | 145  | 175  | 3.62 | 2.77 | 15.5 | 0    | 1    | 5    | 6    |\n",
       "\n"
      ],
      "text/plain": [
       "             mpg  cyl disp hp  drat wt   qsec vs am gear carb\n",
       "Ferrari Dino 19.7 6   145  175 3.62 2.77 15.5 0  1  5    6   "
      ]
     },
     "metadata": {},
     "output_type": "display_data"
    }
   ],
   "source": [
    "# Select a row with the name of Ferrari Dino\n",
    "df[\"Ferrari Dino\",] # Notice , after the row name specified . This pulls all the columnbs of that row"
   ]
  },
  {
   "cell_type": "code",
   "execution_count": 22,
   "metadata": {},
   "outputs": [
    {
     "data": {
      "text/html": [
       "<table>\n",
       "<thead><tr><th></th><th scope=col>mpg</th><th scope=col>cyl</th><th scope=col>disp</th><th scope=col>hp</th><th scope=col>drat</th><th scope=col>wt</th><th scope=col>qsec</th><th scope=col>vs</th><th scope=col>am</th><th scope=col>gear</th><th scope=col>carb</th></tr></thead>\n",
       "<tbody>\n",
       "\t<tr><th scope=row>Hornet Sportabout</th><td>18.7 </td><td>8    </td><td>360  </td><td>175  </td><td>3.15 </td><td>3.44 </td><td>17.02</td><td>0    </td><td>0    </td><td>3    </td><td>2    </td></tr>\n",
       "</tbody>\n",
       "</table>\n"
      ],
      "text/latex": [
       "\\begin{tabular}{r|lllllllllll}\n",
       "  & mpg & cyl & disp & hp & drat & wt & qsec & vs & am & gear & carb\\\\\n",
       "\\hline\n",
       "\tHornet Sportabout & 18.7  & 8     & 360   & 175   & 3.15  & 3.44  & 17.02 & 0     & 0     & 3     & 2    \\\\\n",
       "\\end{tabular}\n"
      ],
      "text/markdown": [
       "\n",
       "| <!--/--> | mpg | cyl | disp | hp | drat | wt | qsec | vs | am | gear | carb |\n",
       "|---|---|---|---|---|---|---|---|---|---|---|---|\n",
       "| Hornet Sportabout | 18.7  | 8     | 360   | 175   | 3.15  | 3.44  | 17.02 | 0     | 0     | 3     | 2     |\n",
       "\n"
      ],
      "text/plain": [
       "                  mpg  cyl disp hp  drat wt   qsec  vs am gear carb\n",
       "Hornet Sportabout 18.7 8   360  175 3.15 3.44 17.02 0  0  3    2   "
      ]
     },
     "metadata": {},
     "output_type": "display_data"
    }
   ],
   "source": [
    "# Selecting Row  based on the index \n",
    "# select the 5th row of the df\n",
    "df[5,]\n"
   ]
  },
  {
   "cell_type": "markdown",
   "metadata": {},
   "source": [
    "#### Selecting multiple rows\n"
   ]
  },
  {
   "cell_type": "code",
   "execution_count": 23,
   "metadata": {},
   "outputs": [
    {
     "data": {
      "text/html": [
       "<table>\n",
       "<thead><tr><th></th><th scope=col>mpg</th><th scope=col>cyl</th><th scope=col>disp</th><th scope=col>hp</th><th scope=col>drat</th><th scope=col>wt</th><th scope=col>qsec</th><th scope=col>vs</th><th scope=col>am</th><th scope=col>gear</th><th scope=col>carb</th></tr></thead>\n",
       "<tbody>\n",
       "\t<tr><th scope=row>Hornet Sportabout</th><td>18.7 </td><td>8    </td><td>360  </td><td>175  </td><td>3.15 </td><td>3.44 </td><td>17.02</td><td>0    </td><td>0    </td><td>3    </td><td>2    </td></tr>\n",
       "\t<tr><th scope=row>Valiant</th><td>18.1 </td><td>6    </td><td>225  </td><td>105  </td><td>2.76 </td><td>3.46 </td><td>20.22</td><td>1    </td><td>0    </td><td>3    </td><td>1    </td></tr>\n",
       "\t<tr><th scope=row>Duster 360</th><td>14.3 </td><td>8    </td><td>360  </td><td>245  </td><td>3.21 </td><td>3.57 </td><td>15.84</td><td>0    </td><td>0    </td><td>3    </td><td>4    </td></tr>\n",
       "</tbody>\n",
       "</table>\n"
      ],
      "text/latex": [
       "\\begin{tabular}{r|lllllllllll}\n",
       "  & mpg & cyl & disp & hp & drat & wt & qsec & vs & am & gear & carb\\\\\n",
       "\\hline\n",
       "\tHornet Sportabout & 18.7  & 8     & 360   & 175   & 3.15  & 3.44  & 17.02 & 0     & 0     & 3     & 2    \\\\\n",
       "\tValiant & 18.1  & 6     & 225   & 105   & 2.76  & 3.46  & 20.22 & 1     & 0     & 3     & 1    \\\\\n",
       "\tDuster 360 & 14.3  & 8     & 360   & 245   & 3.21  & 3.57  & 15.84 & 0     & 0     & 3     & 4    \\\\\n",
       "\\end{tabular}\n"
      ],
      "text/markdown": [
       "\n",
       "| <!--/--> | mpg | cyl | disp | hp | drat | wt | qsec | vs | am | gear | carb |\n",
       "|---|---|---|---|---|---|---|---|---|---|---|---|\n",
       "| Hornet Sportabout | 18.7  | 8     | 360   | 175   | 3.15  | 3.44  | 17.02 | 0     | 0     | 3     | 2     |\n",
       "| Valiant | 18.1  | 6     | 225   | 105   | 2.76  | 3.46  | 20.22 | 1     | 0     | 3     | 1     |\n",
       "| Duster 360 | 14.3  | 8     | 360   | 245   | 3.21  | 3.57  | 15.84 | 0     | 0     | 3     | 4     |\n",
       "\n"
      ],
      "text/plain": [
       "                  mpg  cyl disp hp  drat wt   qsec  vs am gear carb\n",
       "Hornet Sportabout 18.7 8   360  175 3.15 3.44 17.02 0  0  3    2   \n",
       "Valiant           18.1 6   225  105 2.76 3.46 20.22 1  0  3    1   \n",
       "Duster 360        14.3 8   360  245 3.21 3.57 15.84 0  0  3    4   "
      ]
     },
     "metadata": {},
     "output_type": "display_data"
    }
   ],
   "source": [
    "# Selecting based on index numbers\n",
    "# select rows from 5th to 7th \n",
    "df[5:7,]"
   ]
  },
  {
   "cell_type": "code",
   "execution_count": 25,
   "metadata": {},
   "outputs": [
    {
     "data": {
      "text/html": [
       "<table>\n",
       "<thead><tr><th></th><th scope=col>mpg</th><th scope=col>cyl</th><th scope=col>disp</th><th scope=col>hp</th><th scope=col>drat</th><th scope=col>wt</th><th scope=col>qsec</th><th scope=col>vs</th><th scope=col>am</th><th scope=col>gear</th><th scope=col>carb</th></tr></thead>\n",
       "<tbody>\n",
       "\t<tr><th scope=row>Valiant</th><td>18.1 </td><td>6    </td><td>225  </td><td>105  </td><td>2.76 </td><td>3.46 </td><td>20.22</td><td>1    </td><td>0    </td><td>3    </td><td>1    </td></tr>\n",
       "\t<tr><th scope=row>Duster 360</th><td>14.3 </td><td>8    </td><td>360  </td><td>245  </td><td>3.21 </td><td>3.57 </td><td>15.84</td><td>0    </td><td>0    </td><td>3    </td><td>4    </td></tr>\n",
       "</tbody>\n",
       "</table>\n"
      ],
      "text/latex": [
       "\\begin{tabular}{r|lllllllllll}\n",
       "  & mpg & cyl & disp & hp & drat & wt & qsec & vs & am & gear & carb\\\\\n",
       "\\hline\n",
       "\tValiant & 18.1  & 6     & 225   & 105   & 2.76  & 3.46  & 20.22 & 1     & 0     & 3     & 1    \\\\\n",
       "\tDuster 360 & 14.3  & 8     & 360   & 245   & 3.21  & 3.57  & 15.84 & 0     & 0     & 3     & 4    \\\\\n",
       "\\end{tabular}\n"
      ],
      "text/markdown": [
       "\n",
       "| <!--/--> | mpg | cyl | disp | hp | drat | wt | qsec | vs | am | gear | carb |\n",
       "|---|---|---|---|---|---|---|---|---|---|---|---|\n",
       "| Valiant | 18.1  | 6     | 225   | 105   | 2.76  | 3.46  | 20.22 | 1     | 0     | 3     | 1     |\n",
       "| Duster 360 | 14.3  | 8     | 360   | 245   | 3.21  | 3.57  | 15.84 | 0     | 0     | 3     | 4     |\n",
       "\n"
      ],
      "text/plain": [
       "           mpg  cyl disp hp  drat wt   qsec  vs am gear carb\n",
       "Valiant    18.1 6   225  105 2.76 3.46 20.22 1  0  3    1   \n",
       "Duster 360 14.3 8   360  245 3.21 3.57 15.84 0  0  3    4   "
      ]
     },
     "metadata": {},
     "output_type": "display_data"
    }
   ],
   "source": [
    "# Selecting based on the names of the rows\n",
    "df[c(\"Valiant\", \"Duster 360\"),] # pass on vector of names of the rows as rows index and select all coumns ,"
   ]
  },
  {
   "cell_type": "markdown",
   "metadata": {},
   "source": [
    "#### Logical/Conditional Selection"
   ]
  },
  {
   "cell_type": "code",
   "execution_count": 30,
   "metadata": {},
   "outputs": [
    {
     "data": {
      "text/html": [
       "<table>\n",
       "<thead><tr><th></th><th scope=col>mpg</th><th scope=col>cyl</th><th scope=col>disp</th><th scope=col>hp</th><th scope=col>drat</th><th scope=col>wt</th><th scope=col>qsec</th><th scope=col>vs</th><th scope=col>am</th><th scope=col>gear</th><th scope=col>carb</th></tr></thead>\n",
       "<tbody>\n",
       "\t<tr><th scope=row>Mazda RX4</th><td>21.0 </td><td>6    </td><td>160.0</td><td>110  </td><td>3.90 </td><td>2.620</td><td>16.46</td><td>0    </td><td>1    </td><td>4    </td><td>4    </td></tr>\n",
       "\t<tr><th scope=row>Mazda RX4 Wag</th><td>21.0 </td><td>6    </td><td>160.0</td><td>110  </td><td>3.90 </td><td>2.875</td><td>17.02</td><td>0    </td><td>1    </td><td>4    </td><td>4    </td></tr>\n",
       "\t<tr><th scope=row>Hornet 4 Drive</th><td>21.4 </td><td>6    </td><td>258.0</td><td>110  </td><td>3.08 </td><td>3.215</td><td>19.44</td><td>1    </td><td>0    </td><td>3    </td><td>1    </td></tr>\n",
       "\t<tr><th scope=row>Hornet Sportabout</th><td>18.7 </td><td>8    </td><td>360.0</td><td>175  </td><td>3.15 </td><td>3.440</td><td>17.02</td><td>0    </td><td>0    </td><td>3    </td><td>2    </td></tr>\n",
       "\t<tr><th scope=row>Valiant</th><td>18.1 </td><td>6    </td><td>225.0</td><td>105  </td><td>2.76 </td><td>3.460</td><td>20.22</td><td>1    </td><td>0    </td><td>3    </td><td>1    </td></tr>\n",
       "\t<tr><th scope=row>Merc 280</th><td>19.2 </td><td>6    </td><td>167.6</td><td>123  </td><td>3.92 </td><td>3.440</td><td>18.30</td><td>1    </td><td>0    </td><td>4    </td><td>4    </td></tr>\n",
       "\t<tr><th scope=row>Toyota Corona</th><td>21.5 </td><td>4    </td><td>120.1</td><td> 97  </td><td>3.70 </td><td>2.465</td><td>20.01</td><td>1    </td><td>0    </td><td>3    </td><td>1    </td></tr>\n",
       "\t<tr><th scope=row>Pontiac Firebird</th><td>19.2 </td><td>8    </td><td>400.0</td><td>175  </td><td>3.08 </td><td>3.845</td><td>17.05</td><td>0    </td><td>0    </td><td>3    </td><td>2    </td></tr>\n",
       "\t<tr><th scope=row>Ferrari Dino</th><td>19.7 </td><td>6    </td><td>145.0</td><td>175  </td><td>3.62 </td><td>2.770</td><td>15.50</td><td>0    </td><td>1    </td><td>5    </td><td>6    </td></tr>\n",
       "\t<tr><th scope=row>Volvo 142E</th><td>21.4 </td><td>4    </td><td>121.0</td><td>109  </td><td>4.11 </td><td>2.780</td><td>18.60</td><td>1    </td><td>1    </td><td>4    </td><td>2    </td></tr>\n",
       "</tbody>\n",
       "</table>\n"
      ],
      "text/latex": [
       "\\begin{tabular}{r|lllllllllll}\n",
       "  & mpg & cyl & disp & hp & drat & wt & qsec & vs & am & gear & carb\\\\\n",
       "\\hline\n",
       "\tMazda RX4 & 21.0  & 6     & 160.0 & 110   & 3.90  & 2.620 & 16.46 & 0     & 1     & 4     & 4    \\\\\n",
       "\tMazda RX4 Wag & 21.0  & 6     & 160.0 & 110   & 3.90  & 2.875 & 17.02 & 0     & 1     & 4     & 4    \\\\\n",
       "\tHornet 4 Drive & 21.4  & 6     & 258.0 & 110   & 3.08  & 3.215 & 19.44 & 1     & 0     & 3     & 1    \\\\\n",
       "\tHornet Sportabout & 18.7  & 8     & 360.0 & 175   & 3.15  & 3.440 & 17.02 & 0     & 0     & 3     & 2    \\\\\n",
       "\tValiant & 18.1  & 6     & 225.0 & 105   & 2.76  & 3.460 & 20.22 & 1     & 0     & 3     & 1    \\\\\n",
       "\tMerc 280 & 19.2  & 6     & 167.6 & 123   & 3.92  & 3.440 & 18.30 & 1     & 0     & 4     & 4    \\\\\n",
       "\tToyota Corona & 21.5  & 4     & 120.1 &  97   & 3.70  & 2.465 & 20.01 & 1     & 0     & 3     & 1    \\\\\n",
       "\tPontiac Firebird & 19.2  & 8     & 400.0 & 175   & 3.08  & 3.845 & 17.05 & 0     & 0     & 3     & 2    \\\\\n",
       "\tFerrari Dino & 19.7  & 6     & 145.0 & 175   & 3.62  & 2.770 & 15.50 & 0     & 1     & 5     & 6    \\\\\n",
       "\tVolvo 142E & 21.4  & 4     & 121.0 & 109   & 4.11  & 2.780 & 18.60 & 1     & 1     & 4     & 2    \\\\\n",
       "\\end{tabular}\n"
      ],
      "text/markdown": [
       "\n",
       "| <!--/--> | mpg | cyl | disp | hp | drat | wt | qsec | vs | am | gear | carb |\n",
       "|---|---|---|---|---|---|---|---|---|---|---|---|\n",
       "| Mazda RX4 | 21.0  | 6     | 160.0 | 110   | 3.90  | 2.620 | 16.46 | 0     | 1     | 4     | 4     |\n",
       "| Mazda RX4 Wag | 21.0  | 6     | 160.0 | 110   | 3.90  | 2.875 | 17.02 | 0     | 1     | 4     | 4     |\n",
       "| Hornet 4 Drive | 21.4  | 6     | 258.0 | 110   | 3.08  | 3.215 | 19.44 | 1     | 0     | 3     | 1     |\n",
       "| Hornet Sportabout | 18.7  | 8     | 360.0 | 175   | 3.15  | 3.440 | 17.02 | 0     | 0     | 3     | 2     |\n",
       "| Valiant | 18.1  | 6     | 225.0 | 105   | 2.76  | 3.460 | 20.22 | 1     | 0     | 3     | 1     |\n",
       "| Merc 280 | 19.2  | 6     | 167.6 | 123   | 3.92  | 3.440 | 18.30 | 1     | 0     | 4     | 4     |\n",
       "| Toyota Corona | 21.5  | 4     | 120.1 |  97   | 3.70  | 2.465 | 20.01 | 1     | 0     | 3     | 1     |\n",
       "| Pontiac Firebird | 19.2  | 8     | 400.0 | 175   | 3.08  | 3.845 | 17.05 | 0     | 0     | 3     | 2     |\n",
       "| Ferrari Dino | 19.7  | 6     | 145.0 | 175   | 3.62  | 2.770 | 15.50 | 0     | 1     | 5     | 6     |\n",
       "| Volvo 142E | 21.4  | 4     | 121.0 | 109   | 4.11  | 2.780 | 18.60 | 1     | 1     | 4     | 2     |\n",
       "\n"
      ],
      "text/plain": [
       "                  mpg  cyl disp  hp  drat wt    qsec  vs am gear carb\n",
       "Mazda RX4         21.0 6   160.0 110 3.90 2.620 16.46 0  1  4    4   \n",
       "Mazda RX4 Wag     21.0 6   160.0 110 3.90 2.875 17.02 0  1  4    4   \n",
       "Hornet 4 Drive    21.4 6   258.0 110 3.08 3.215 19.44 1  0  3    1   \n",
       "Hornet Sportabout 18.7 8   360.0 175 3.15 3.440 17.02 0  0  3    2   \n",
       "Valiant           18.1 6   225.0 105 2.76 3.460 20.22 1  0  3    1   \n",
       "Merc 280          19.2 6   167.6 123 3.92 3.440 18.30 1  0  4    4   \n",
       "Toyota Corona     21.5 4   120.1  97 3.70 2.465 20.01 1  0  3    1   \n",
       "Pontiac Firebird  19.2 8   400.0 175 3.08 3.845 17.05 0  0  3    2   \n",
       "Ferrari Dino      19.7 6   145.0 175 3.62 2.770 15.50 0  1  5    6   \n",
       "Volvo 142E        21.4 4   121.0 109 4.11 2.780 18.60 1  1  4    2   "
      ]
     },
     "metadata": {},
     "output_type": "display_data"
    }
   ],
   "source": [
    "# Select all the rows where mpg >18 and Less than 22\n",
    "df[(df$mpg>18 & df$mpg < 22),]"
   ]
  },
  {
   "cell_type": "code",
   "execution_count": 35,
   "metadata": {},
   "outputs": [
    {
     "data": {
      "text/html": [
       "<table>\n",
       "<thead><tr><th></th><th scope=col>wt</th><th scope=col>gear</th></tr></thead>\n",
       "<tbody>\n",
       "\t<tr><th scope=row>Mazda RX4</th><td>2.62</td><td>4   </td></tr>\n",
       "\t<tr><th scope=row>Valiant</th><td>3.46</td><td>3   </td></tr>\n",
       "</tbody>\n",
       "</table>\n"
      ],
      "text/latex": [
       "\\begin{tabular}{r|ll}\n",
       "  & wt & gear\\\\\n",
       "\\hline\n",
       "\tMazda RX4 & 2.62 & 4   \\\\\n",
       "\tValiant & 3.46 & 3   \\\\\n",
       "\\end{tabular}\n"
      ],
      "text/markdown": [
       "\n",
       "| <!--/--> | wt | gear |\n",
       "|---|---|---|\n",
       "| Mazda RX4 | 2.62 | 4    |\n",
       "| Valiant | 3.46 | 3    |\n",
       "\n"
      ],
      "text/plain": [
       "          wt   gear\n",
       "Mazda RX4 2.62 4   \n",
       "Valiant   3.46 3   "
      ]
     },
     "metadata": {},
     "output_type": "display_data"
    }
   ],
   "source": [
    "# Select wt, gears columns of  Mazda RX4 and valiant\n",
    "df[c(\"Mazda RX4\",\"Valiant\"), ][,c('wt','gear')] # Notice the , postions "
   ]
  },
  {
   "cell_type": "code",
   "execution_count": 42,
   "metadata": {},
   "outputs": [
    {
     "data": {
      "text/html": [
       "<table>\n",
       "<thead><tr><th></th><th scope=col>wt</th><th scope=col>gear</th></tr></thead>\n",
       "<tbody>\n",
       "\t<tr><th scope=row>Mazda RX4</th><td>2.62</td><td>4   </td></tr>\n",
       "\t<tr><th scope=row>Valiant</th><td>3.46</td><td>3   </td></tr>\n",
       "</tbody>\n",
       "</table>\n"
      ],
      "text/latex": [
       "\\begin{tabular}{r|ll}\n",
       "  & wt & gear\\\\\n",
       "\\hline\n",
       "\tMazda RX4 & 2.62 & 4   \\\\\n",
       "\tValiant & 3.46 & 3   \\\\\n",
       "\\end{tabular}\n"
      ],
      "text/markdown": [
       "\n",
       "| <!--/--> | wt | gear |\n",
       "|---|---|---|\n",
       "| Mazda RX4 | 2.62 | 4    |\n",
       "| Valiant | 3.46 | 3    |\n",
       "\n"
      ],
      "text/plain": [
       "          wt   gear\n",
       "Mazda RX4 2.62 4   \n",
       "Valiant   3.46 3   "
      ]
     },
     "metadata": {},
     "output_type": "display_data"
    }
   ],
   "source": [
    "# Using the subset function\n",
    "# # Select wt, gears columns of  Mazda RX4 and valiant\n",
    "subset(x = df, select = c(\"wt\", \"gear\"))[c(\"Mazda RX4\",\"Valiant\"),]"
   ]
  },
  {
   "cell_type": "markdown",
   "metadata": {},
   "source": [
    "#### Check to see missing values"
   ]
  },
  {
   "cell_type": "markdown",
   "metadata": {},
   "source": [
    "#### Check to see missing values in a column"
   ]
  },
  {
   "cell_type": "markdown",
   "metadata": {},
   "source": [
    "<p> To check if there are missing values in a dataframe, we can use **is.na()** which returns a logical vector with TRUE in the element locations that contain missing values represented by NA. This function **is.na()** can be used on vectors, lists, matrices, and data frames. </p>"
   ]
  },
  {
   "cell_type": "code",
   "execution_count": 46,
   "metadata": {},
   "outputs": [
    {
     "data": {
      "text/html": [
       "<ol class=list-inline>\n",
       "\t<li>FALSE</li>\n",
       "\t<li>FALSE</li>\n",
       "\t<li>FALSE</li>\n",
       "\t<li>FALSE</li>\n",
       "\t<li>FALSE</li>\n",
       "\t<li>FALSE</li>\n",
       "\t<li>FALSE</li>\n",
       "\t<li>FALSE</li>\n",
       "\t<li>FALSE</li>\n",
       "\t<li>FALSE</li>\n",
       "\t<li>FALSE</li>\n",
       "\t<li>FALSE</li>\n",
       "\t<li>FALSE</li>\n",
       "\t<li>FALSE</li>\n",
       "\t<li>FALSE</li>\n",
       "\t<li>FALSE</li>\n",
       "\t<li>FALSE</li>\n",
       "\t<li>FALSE</li>\n",
       "\t<li>FALSE</li>\n",
       "\t<li>FALSE</li>\n",
       "\t<li>FALSE</li>\n",
       "\t<li>FALSE</li>\n",
       "\t<li>FALSE</li>\n",
       "\t<li>FALSE</li>\n",
       "\t<li>FALSE</li>\n",
       "\t<li>FALSE</li>\n",
       "\t<li>FALSE</li>\n",
       "\t<li>FALSE</li>\n",
       "\t<li>FALSE</li>\n",
       "\t<li>FALSE</li>\n",
       "\t<li>FALSE</li>\n",
       "\t<li>FALSE</li>\n",
       "</ol>\n"
      ],
      "text/latex": [
       "\\begin{enumerate*}\n",
       "\\item FALSE\n",
       "\\item FALSE\n",
       "\\item FALSE\n",
       "\\item FALSE\n",
       "\\item FALSE\n",
       "\\item FALSE\n",
       "\\item FALSE\n",
       "\\item FALSE\n",
       "\\item FALSE\n",
       "\\item FALSE\n",
       "\\item FALSE\n",
       "\\item FALSE\n",
       "\\item FALSE\n",
       "\\item FALSE\n",
       "\\item FALSE\n",
       "\\item FALSE\n",
       "\\item FALSE\n",
       "\\item FALSE\n",
       "\\item FALSE\n",
       "\\item FALSE\n",
       "\\item FALSE\n",
       "\\item FALSE\n",
       "\\item FALSE\n",
       "\\item FALSE\n",
       "\\item FALSE\n",
       "\\item FALSE\n",
       "\\item FALSE\n",
       "\\item FALSE\n",
       "\\item FALSE\n",
       "\\item FALSE\n",
       "\\item FALSE\n",
       "\\item FALSE\n",
       "\\end{enumerate*}\n"
      ],
      "text/markdown": [
       "1. FALSE\n",
       "2. FALSE\n",
       "3. FALSE\n",
       "4. FALSE\n",
       "5. FALSE\n",
       "6. FALSE\n",
       "7. FALSE\n",
       "8. FALSE\n",
       "9. FALSE\n",
       "10. FALSE\n",
       "11. FALSE\n",
       "12. FALSE\n",
       "13. FALSE\n",
       "14. FALSE\n",
       "15. FALSE\n",
       "16. FALSE\n",
       "17. FALSE\n",
       "18. FALSE\n",
       "19. FALSE\n",
       "20. FALSE\n",
       "21. FALSE\n",
       "22. FALSE\n",
       "23. FALSE\n",
       "24. FALSE\n",
       "25. FALSE\n",
       "26. FALSE\n",
       "27. FALSE\n",
       "28. FALSE\n",
       "29. FALSE\n",
       "30. FALSE\n",
       "31. FALSE\n",
       "32. FALSE\n",
       "\n",
       "\n"
      ],
      "text/plain": [
       " [1] FALSE FALSE FALSE FALSE FALSE FALSE FALSE FALSE FALSE FALSE FALSE FALSE\n",
       "[13] FALSE FALSE FALSE FALSE FALSE FALSE FALSE FALSE FALSE FALSE FALSE FALSE\n",
       "[25] FALSE FALSE FALSE FALSE FALSE FALSE FALSE FALSE"
      ]
     },
     "metadata": {},
     "output_type": "display_data"
    }
   ],
   "source": [
    "# check to see if there are Missing values is a column mpg\n",
    "is.na(df$mpg) # The output here appears as logical vector of FALSE AND TURE"
   ]
  },
  {
   "cell_type": "code",
   "execution_count": 44,
   "metadata": {},
   "outputs": [
    {
     "data": {
      "text/html": [
       "FALSE"
      ],
      "text/latex": [
       "FALSE"
      ],
      "text/markdown": [
       "FALSE"
      ],
      "text/plain": [
       "[1] FALSE"
      ]
     },
     "metadata": {},
     "output_type": "display_data"
    }
   ],
   "source": [
    "any(is.na(df$mpg)) # This shows if any thing True "
   ]
  },
  {
   "cell_type": "code",
   "execution_count": 47,
   "metadata": {},
   "outputs": [
    {
     "data": {
      "text/plain": [
       "\n",
       "FALSE \n",
       "   32 "
      ]
     },
     "metadata": {},
     "output_type": "display_data"
    }
   ],
   "source": [
    "table(is.na(df$mpg)) # All 32 rows are False, no True values "
   ]
  },
  {
   "cell_type": "markdown",
   "metadata": {},
   "source": [
    "#### check to see missing values in entire df"
   ]
  },
  {
   "cell_type": "code",
   "execution_count": 49,
   "metadata": {},
   "outputs": [
    {
     "data": {
      "text/html": [
       "FALSE"
      ],
      "text/latex": [
       "FALSE"
      ],
      "text/markdown": [
       "FALSE"
      ],
      "text/plain": [
       "[1] FALSE"
      ]
     },
     "metadata": {},
     "output_type": "display_data"
    }
   ],
   "source": [
    "any(is.na(df))"
   ]
  },
  {
   "cell_type": "markdown",
   "metadata": {},
   "source": [
    "#### check to see missing values in row(s)"
   ]
  },
  {
   "cell_type": "code",
   "execution_count": 50,
   "metadata": {},
   "outputs": [
    {
     "data": {
      "text/html": [
       "<table>\n",
       "<thead><tr><th></th><th scope=col>mpg</th><th scope=col>cyl</th><th scope=col>disp</th><th scope=col>hp</th><th scope=col>drat</th><th scope=col>wt</th><th scope=col>qsec</th><th scope=col>vs</th><th scope=col>am</th><th scope=col>gear</th><th scope=col>carb</th></tr></thead>\n",
       "<tbody>\n",
       "\t<tr><th scope=row>Valiant</th><td>FALSE</td><td>FALSE</td><td>FALSE</td><td>FALSE</td><td>FALSE</td><td>FALSE</td><td>FALSE</td><td>FALSE</td><td>FALSE</td><td>FALSE</td><td>FALSE</td></tr>\n",
       "</tbody>\n",
       "</table>\n"
      ],
      "text/latex": [
       "\\begin{tabular}{r|lllllllllll}\n",
       "  & mpg & cyl & disp & hp & drat & wt & qsec & vs & am & gear & carb\\\\\n",
       "\\hline\n",
       "\tValiant & FALSE & FALSE & FALSE & FALSE & FALSE & FALSE & FALSE & FALSE & FALSE & FALSE & FALSE\\\\\n",
       "\\end{tabular}\n"
      ],
      "text/markdown": [
       "\n",
       "| <!--/--> | mpg | cyl | disp | hp | drat | wt | qsec | vs | am | gear | carb |\n",
       "|---|---|---|---|---|---|---|---|---|---|---|---|\n",
       "| Valiant | FALSE | FALSE | FALSE | FALSE | FALSE | FALSE | FALSE | FALSE | FALSE | FALSE | FALSE |\n",
       "\n"
      ],
      "text/plain": [
       "        mpg   cyl   disp  hp    drat  wt    qsec  vs    am    gear  carb \n",
       "Valiant FALSE FALSE FALSE FALSE FALSE FALSE FALSE FALSE FALSE FALSE FALSE"
      ]
     },
     "metadata": {},
     "output_type": "display_data"
    }
   ],
   "source": [
    "is.na(df['Valiant',])"
   ]
  },
  {
   "cell_type": "code",
   "execution_count": 51,
   "metadata": {},
   "outputs": [
    {
     "data": {
      "text/html": [
       "<table>\n",
       "<thead><tr><th></th><th scope=col>mpg</th><th scope=col>cyl</th><th scope=col>disp</th><th scope=col>hp</th><th scope=col>drat</th><th scope=col>wt</th><th scope=col>qsec</th><th scope=col>vs</th><th scope=col>am</th><th scope=col>gear</th><th scope=col>carb</th></tr></thead>\n",
       "<tbody>\n",
       "\t<tr><th scope=row>Valiant</th><td>FALSE</td><td>FALSE</td><td>FALSE</td><td>FALSE</td><td>FALSE</td><td>FALSE</td><td>FALSE</td><td>FALSE</td><td>FALSE</td><td>FALSE</td><td>FALSE</td></tr>\n",
       "\t<tr><th scope=row>Fiat 128</th><td>FALSE</td><td>FALSE</td><td>FALSE</td><td>FALSE</td><td>FALSE</td><td>FALSE</td><td>FALSE</td><td>FALSE</td><td>FALSE</td><td>FALSE</td><td>FALSE</td></tr>\n",
       "</tbody>\n",
       "</table>\n"
      ],
      "text/latex": [
       "\\begin{tabular}{r|lllllllllll}\n",
       "  & mpg & cyl & disp & hp & drat & wt & qsec & vs & am & gear & carb\\\\\n",
       "\\hline\n",
       "\tValiant & FALSE & FALSE & FALSE & FALSE & FALSE & FALSE & FALSE & FALSE & FALSE & FALSE & FALSE\\\\\n",
       "\tFiat 128 & FALSE & FALSE & FALSE & FALSE & FALSE & FALSE & FALSE & FALSE & FALSE & FALSE & FALSE\\\\\n",
       "\\end{tabular}\n"
      ],
      "text/markdown": [
       "\n",
       "| <!--/--> | mpg | cyl | disp | hp | drat | wt | qsec | vs | am | gear | carb |\n",
       "|---|---|---|---|---|---|---|---|---|---|---|---|\n",
       "| Valiant | FALSE | FALSE | FALSE | FALSE | FALSE | FALSE | FALSE | FALSE | FALSE | FALSE | FALSE |\n",
       "| Fiat 128 | FALSE | FALSE | FALSE | FALSE | FALSE | FALSE | FALSE | FALSE | FALSE | FALSE | FALSE |\n",
       "\n"
      ],
      "text/plain": [
       "         mpg   cyl   disp  hp    drat  wt    qsec  vs    am    gear  carb \n",
       "Valiant  FALSE FALSE FALSE FALSE FALSE FALSE FALSE FALSE FALSE FALSE FALSE\n",
       "Fiat 128 FALSE FALSE FALSE FALSE FALSE FALSE FALSE FALSE FALSE FALSE FALSE"
      ]
     },
     "metadata": {},
     "output_type": "display_data"
    }
   ],
   "source": [
    "is.na(df[c('Valiant', 'Fiat 128'),])"
   ]
  },
  {
   "cell_type": "markdown",
   "metadata": {},
   "source": [
    "#### Deleting/ dropping  a column(s)"
   ]
  },
  {
   "cell_type": "code",
   "execution_count": 54,
   "metadata": {},
   "outputs": [
    {
     "data": {
      "text/html": [
       "<table>\n",
       "<thead><tr><th></th><th scope=col>cyl</th><th scope=col>disp</th><th scope=col>hp</th><th scope=col>drat</th><th scope=col>wt</th><th scope=col>qsec</th><th scope=col>am</th><th scope=col>gear</th><th scope=col>carb</th></tr></thead>\n",
       "<tbody>\n",
       "\t<tr><th scope=row>Mazda RX4</th><td>6    </td><td>160  </td><td>110  </td><td>3.90 </td><td>2.620</td><td>16.46</td><td>1    </td><td>4    </td><td>4    </td></tr>\n",
       "\t<tr><th scope=row>Mazda RX4 Wag</th><td>6    </td><td>160  </td><td>110  </td><td>3.90 </td><td>2.875</td><td>17.02</td><td>1    </td><td>4    </td><td>4    </td></tr>\n",
       "\t<tr><th scope=row>Datsun 710</th><td>4    </td><td>108  </td><td> 93  </td><td>3.85 </td><td>2.320</td><td>18.61</td><td>1    </td><td>4    </td><td>1    </td></tr>\n",
       "\t<tr><th scope=row>Hornet 4 Drive</th><td>6    </td><td>258  </td><td>110  </td><td>3.08 </td><td>3.215</td><td>19.44</td><td>0    </td><td>3    </td><td>1    </td></tr>\n",
       "\t<tr><th scope=row>Hornet Sportabout</th><td>8    </td><td>360  </td><td>175  </td><td>3.15 </td><td>3.440</td><td>17.02</td><td>0    </td><td>3    </td><td>2    </td></tr>\n",
       "\t<tr><th scope=row>Valiant</th><td>6    </td><td>225  </td><td>105  </td><td>2.76 </td><td>3.460</td><td>20.22</td><td>0    </td><td>3    </td><td>1    </td></tr>\n",
       "</tbody>\n",
       "</table>\n"
      ],
      "text/latex": [
       "\\begin{tabular}{r|lllllllll}\n",
       "  & cyl & disp & hp & drat & wt & qsec & am & gear & carb\\\\\n",
       "\\hline\n",
       "\tMazda RX4 & 6     & 160   & 110   & 3.90  & 2.620 & 16.46 & 1     & 4     & 4    \\\\\n",
       "\tMazda RX4 Wag & 6     & 160   & 110   & 3.90  & 2.875 & 17.02 & 1     & 4     & 4    \\\\\n",
       "\tDatsun 710 & 4     & 108   &  93   & 3.85  & 2.320 & 18.61 & 1     & 4     & 1    \\\\\n",
       "\tHornet 4 Drive & 6     & 258   & 110   & 3.08  & 3.215 & 19.44 & 0     & 3     & 1    \\\\\n",
       "\tHornet Sportabout & 8     & 360   & 175   & 3.15  & 3.440 & 17.02 & 0     & 3     & 2    \\\\\n",
       "\tValiant & 6     & 225   & 105   & 2.76  & 3.460 & 20.22 & 0     & 3     & 1    \\\\\n",
       "\\end{tabular}\n"
      ],
      "text/markdown": [
       "\n",
       "| <!--/--> | cyl | disp | hp | drat | wt | qsec | am | gear | carb |\n",
       "|---|---|---|---|---|---|---|---|---|---|\n",
       "| Mazda RX4 | 6     | 160   | 110   | 3.90  | 2.620 | 16.46 | 1     | 4     | 4     |\n",
       "| Mazda RX4 Wag | 6     | 160   | 110   | 3.90  | 2.875 | 17.02 | 1     | 4     | 4     |\n",
       "| Datsun 710 | 4     | 108   |  93   | 3.85  | 2.320 | 18.61 | 1     | 4     | 1     |\n",
       "| Hornet 4 Drive | 6     | 258   | 110   | 3.08  | 3.215 | 19.44 | 0     | 3     | 1     |\n",
       "| Hornet Sportabout | 8     | 360   | 175   | 3.15  | 3.440 | 17.02 | 0     | 3     | 2     |\n",
       "| Valiant | 6     | 225   | 105   | 2.76  | 3.460 | 20.22 | 0     | 3     | 1     |\n",
       "\n"
      ],
      "text/plain": [
       "                  cyl disp hp  drat wt    qsec  am gear carb\n",
       "Mazda RX4         6   160  110 3.90 2.620 16.46 1  4    4   \n",
       "Mazda RX4 Wag     6   160  110 3.90 2.875 17.02 1  4    4   \n",
       "Datsun 710        4   108   93 3.85 2.320 18.61 1  4    1   \n",
       "Hornet 4 Drive    6   258  110 3.08 3.215 19.44 0  3    1   \n",
       "Hornet Sportabout 8   360  175 3.15 3.440 17.02 0  3    2   \n",
       "Valiant           6   225  105 2.76 3.460 20.22 0  3    1   "
      ]
     },
     "metadata": {},
     "output_type": "display_data"
    }
   ],
   "source": [
    "# Using subset select colmns by names and \n",
    "df = subset(df, select = -c(mpg,vs) )\n",
    "head(df)"
   ]
  },
  {
   "cell_type": "code",
   "execution_count": 76,
   "metadata": {},
   "outputs": [
    {
     "data": {
      "text/html": [
       "<table>\n",
       "<thead><tr><th></th><th scope=col>mpg</th><th scope=col>cyl</th><th scope=col>disp</th><th scope=col>hp</th><th scope=col>drat</th><th scope=col>wt</th><th scope=col>qsec</th><th scope=col>am</th><th scope=col>carb</th></tr></thead>\n",
       "<tbody>\n",
       "\t<tr><th scope=row>Mazda RX4</th><td>21.0 </td><td>6    </td><td>160.0</td><td>110  </td><td>3.90 </td><td>2.620</td><td>16.46</td><td>1    </td><td>4    </td></tr>\n",
       "\t<tr><th scope=row>Mazda RX4 Wag</th><td>21.0 </td><td>6    </td><td>160.0</td><td>110  </td><td>3.90 </td><td>2.875</td><td>17.02</td><td>1    </td><td>4    </td></tr>\n",
       "\t<tr><th scope=row>Datsun 710</th><td>22.8 </td><td>4    </td><td>108.0</td><td> 93  </td><td>3.85 </td><td>2.320</td><td>18.61</td><td>1    </td><td>1    </td></tr>\n",
       "\t<tr><th scope=row>Hornet 4 Drive</th><td>21.4 </td><td>6    </td><td>258.0</td><td>110  </td><td>3.08 </td><td>3.215</td><td>19.44</td><td>0    </td><td>1    </td></tr>\n",
       "\t<tr><th scope=row>Hornet Sportabout</th><td>18.7 </td><td>8    </td><td>360.0</td><td>175  </td><td>3.15 </td><td>3.440</td><td>17.02</td><td>0    </td><td>2    </td></tr>\n",
       "\t<tr><th scope=row>Valiant</th><td>18.1 </td><td>6    </td><td>225.0</td><td>105  </td><td>2.76 </td><td>3.460</td><td>20.22</td><td>0    </td><td>1    </td></tr>\n",
       "\t<tr><th scope=row>Duster 360</th><td>14.3 </td><td>8    </td><td>360.0</td><td>245  </td><td>3.21 </td><td>3.570</td><td>15.84</td><td>0    </td><td>4    </td></tr>\n",
       "\t<tr><th scope=row>Merc 240D</th><td>24.4 </td><td>4    </td><td>146.7</td><td> 62  </td><td>3.69 </td><td>3.190</td><td>20.00</td><td>0    </td><td>2    </td></tr>\n",
       "\t<tr><th scope=row>Merc 230</th><td>22.8 </td><td>4    </td><td>140.8</td><td> 95  </td><td>3.92 </td><td>3.150</td><td>22.90</td><td>0    </td><td>2    </td></tr>\n",
       "\t<tr><th scope=row>Merc 280</th><td>19.2 </td><td>6    </td><td>167.6</td><td>123  </td><td>3.92 </td><td>3.440</td><td>18.30</td><td>0    </td><td>4    </td></tr>\n",
       "\t<tr><th scope=row>Merc 280C</th><td>17.8 </td><td>6    </td><td>167.6</td><td>123  </td><td>3.92 </td><td>3.440</td><td>18.90</td><td>0    </td><td>4    </td></tr>\n",
       "\t<tr><th scope=row>Merc 450SE</th><td>16.4 </td><td>8    </td><td>275.8</td><td>180  </td><td>3.07 </td><td>4.070</td><td>17.40</td><td>0    </td><td>3    </td></tr>\n",
       "\t<tr><th scope=row>Merc 450SL</th><td>17.3 </td><td>8    </td><td>275.8</td><td>180  </td><td>3.07 </td><td>3.730</td><td>17.60</td><td>0    </td><td>3    </td></tr>\n",
       "\t<tr><th scope=row>Merc 450SLC</th><td>15.2 </td><td>8    </td><td>275.8</td><td>180  </td><td>3.07 </td><td>3.780</td><td>18.00</td><td>0    </td><td>3    </td></tr>\n",
       "\t<tr><th scope=row>Cadillac Fleetwood</th><td>10.4 </td><td>8    </td><td>472.0</td><td>205  </td><td>2.93 </td><td>5.250</td><td>17.98</td><td>0    </td><td>4    </td></tr>\n",
       "\t<tr><th scope=row>Lincoln Continental</th><td>10.4 </td><td>8    </td><td>460.0</td><td>215  </td><td>3.00 </td><td>5.424</td><td>17.82</td><td>0    </td><td>4    </td></tr>\n",
       "\t<tr><th scope=row>Chrysler Imperial</th><td>14.7 </td><td>8    </td><td>440.0</td><td>230  </td><td>3.23 </td><td>5.345</td><td>17.42</td><td>0    </td><td>4    </td></tr>\n",
       "\t<tr><th scope=row>Fiat 128</th><td>32.4 </td><td>4    </td><td> 78.7</td><td> 66  </td><td>4.08 </td><td>2.200</td><td>19.47</td><td>1    </td><td>1    </td></tr>\n",
       "\t<tr><th scope=row>Honda Civic</th><td>30.4 </td><td>4    </td><td> 75.7</td><td> 52  </td><td>4.93 </td><td>1.615</td><td>18.52</td><td>1    </td><td>2    </td></tr>\n",
       "\t<tr><th scope=row>Toyota Corolla</th><td>33.9 </td><td>4    </td><td> 71.1</td><td> 65  </td><td>4.22 </td><td>1.835</td><td>19.90</td><td>1    </td><td>1    </td></tr>\n",
       "\t<tr><th scope=row>Toyota Corona</th><td>21.5 </td><td>4    </td><td>120.1</td><td> 97  </td><td>3.70 </td><td>2.465</td><td>20.01</td><td>0    </td><td>1    </td></tr>\n",
       "\t<tr><th scope=row>Dodge Challenger</th><td>15.5 </td><td>8    </td><td>318.0</td><td>150  </td><td>2.76 </td><td>3.520</td><td>16.87</td><td>0    </td><td>2    </td></tr>\n",
       "\t<tr><th scope=row>AMC Javelin</th><td>15.2 </td><td>8    </td><td>304.0</td><td>150  </td><td>3.15 </td><td>3.435</td><td>17.30</td><td>0    </td><td>2    </td></tr>\n",
       "\t<tr><th scope=row>Camaro Z28</th><td>13.3 </td><td>8    </td><td>350.0</td><td>245  </td><td>3.73 </td><td>3.840</td><td>15.41</td><td>0    </td><td>4    </td></tr>\n",
       "\t<tr><th scope=row>Pontiac Firebird</th><td>19.2 </td><td>8    </td><td>400.0</td><td>175  </td><td>3.08 </td><td>3.845</td><td>17.05</td><td>0    </td><td>2    </td></tr>\n",
       "\t<tr><th scope=row>Fiat X1-9</th><td>27.3 </td><td>4    </td><td> 79.0</td><td> 66  </td><td>4.08 </td><td>1.935</td><td>18.90</td><td>1    </td><td>1    </td></tr>\n",
       "\t<tr><th scope=row>Porsche 914-2</th><td>26.0 </td><td>4    </td><td>120.3</td><td> 91  </td><td>4.43 </td><td>2.140</td><td>16.70</td><td>1    </td><td>2    </td></tr>\n",
       "\t<tr><th scope=row>Lotus Europa</th><td>30.4 </td><td>4    </td><td> 95.1</td><td>113  </td><td>3.77 </td><td>1.513</td><td>16.90</td><td>1    </td><td>2    </td></tr>\n",
       "\t<tr><th scope=row>Ford Pantera L</th><td>15.8 </td><td>8    </td><td>351.0</td><td>264  </td><td>4.22 </td><td>3.170</td><td>14.50</td><td>1    </td><td>4    </td></tr>\n",
       "\t<tr><th scope=row>Ferrari Dino</th><td>19.7 </td><td>6    </td><td>145.0</td><td>175  </td><td>3.62 </td><td>2.770</td><td>15.50</td><td>1    </td><td>6    </td></tr>\n",
       "\t<tr><th scope=row>Maserati Bora</th><td>15.0 </td><td>8    </td><td>301.0</td><td>335  </td><td>3.54 </td><td>3.570</td><td>14.60</td><td>1    </td><td>8    </td></tr>\n",
       "\t<tr><th scope=row>Volvo 142E</th><td>21.4 </td><td>4    </td><td>121.0</td><td>109  </td><td>4.11 </td><td>2.780</td><td>18.60</td><td>1    </td><td>2    </td></tr>\n",
       "</tbody>\n",
       "</table>\n"
      ],
      "text/latex": [
       "\\begin{tabular}{r|lllllllll}\n",
       "  & mpg & cyl & disp & hp & drat & wt & qsec & am & carb\\\\\n",
       "\\hline\n",
       "\tMazda RX4 & 21.0  & 6     & 160.0 & 110   & 3.90  & 2.620 & 16.46 & 1     & 4    \\\\\n",
       "\tMazda RX4 Wag & 21.0  & 6     & 160.0 & 110   & 3.90  & 2.875 & 17.02 & 1     & 4    \\\\\n",
       "\tDatsun 710 & 22.8  & 4     & 108.0 &  93   & 3.85  & 2.320 & 18.61 & 1     & 1    \\\\\n",
       "\tHornet 4 Drive & 21.4  & 6     & 258.0 & 110   & 3.08  & 3.215 & 19.44 & 0     & 1    \\\\\n",
       "\tHornet Sportabout & 18.7  & 8     & 360.0 & 175   & 3.15  & 3.440 & 17.02 & 0     & 2    \\\\\n",
       "\tValiant & 18.1  & 6     & 225.0 & 105   & 2.76  & 3.460 & 20.22 & 0     & 1    \\\\\n",
       "\tDuster 360 & 14.3  & 8     & 360.0 & 245   & 3.21  & 3.570 & 15.84 & 0     & 4    \\\\\n",
       "\tMerc 240D & 24.4  & 4     & 146.7 &  62   & 3.69  & 3.190 & 20.00 & 0     & 2    \\\\\n",
       "\tMerc 230 & 22.8  & 4     & 140.8 &  95   & 3.92  & 3.150 & 22.90 & 0     & 2    \\\\\n",
       "\tMerc 280 & 19.2  & 6     & 167.6 & 123   & 3.92  & 3.440 & 18.30 & 0     & 4    \\\\\n",
       "\tMerc 280C & 17.8  & 6     & 167.6 & 123   & 3.92  & 3.440 & 18.90 & 0     & 4    \\\\\n",
       "\tMerc 450SE & 16.4  & 8     & 275.8 & 180   & 3.07  & 4.070 & 17.40 & 0     & 3    \\\\\n",
       "\tMerc 450SL & 17.3  & 8     & 275.8 & 180   & 3.07  & 3.730 & 17.60 & 0     & 3    \\\\\n",
       "\tMerc 450SLC & 15.2  & 8     & 275.8 & 180   & 3.07  & 3.780 & 18.00 & 0     & 3    \\\\\n",
       "\tCadillac Fleetwood & 10.4  & 8     & 472.0 & 205   & 2.93  & 5.250 & 17.98 & 0     & 4    \\\\\n",
       "\tLincoln Continental & 10.4  & 8     & 460.0 & 215   & 3.00  & 5.424 & 17.82 & 0     & 4    \\\\\n",
       "\tChrysler Imperial & 14.7  & 8     & 440.0 & 230   & 3.23  & 5.345 & 17.42 & 0     & 4    \\\\\n",
       "\tFiat 128 & 32.4  & 4     &  78.7 &  66   & 4.08  & 2.200 & 19.47 & 1     & 1    \\\\\n",
       "\tHonda Civic & 30.4  & 4     &  75.7 &  52   & 4.93  & 1.615 & 18.52 & 1     & 2    \\\\\n",
       "\tToyota Corolla & 33.9  & 4     &  71.1 &  65   & 4.22  & 1.835 & 19.90 & 1     & 1    \\\\\n",
       "\tToyota Corona & 21.5  & 4     & 120.1 &  97   & 3.70  & 2.465 & 20.01 & 0     & 1    \\\\\n",
       "\tDodge Challenger & 15.5  & 8     & 318.0 & 150   & 2.76  & 3.520 & 16.87 & 0     & 2    \\\\\n",
       "\tAMC Javelin & 15.2  & 8     & 304.0 & 150   & 3.15  & 3.435 & 17.30 & 0     & 2    \\\\\n",
       "\tCamaro Z28 & 13.3  & 8     & 350.0 & 245   & 3.73  & 3.840 & 15.41 & 0     & 4    \\\\\n",
       "\tPontiac Firebird & 19.2  & 8     & 400.0 & 175   & 3.08  & 3.845 & 17.05 & 0     & 2    \\\\\n",
       "\tFiat X1-9 & 27.3  & 4     &  79.0 &  66   & 4.08  & 1.935 & 18.90 & 1     & 1    \\\\\n",
       "\tPorsche 914-2 & 26.0  & 4     & 120.3 &  91   & 4.43  & 2.140 & 16.70 & 1     & 2    \\\\\n",
       "\tLotus Europa & 30.4  & 4     &  95.1 & 113   & 3.77  & 1.513 & 16.90 & 1     & 2    \\\\\n",
       "\tFord Pantera L & 15.8  & 8     & 351.0 & 264   & 4.22  & 3.170 & 14.50 & 1     & 4    \\\\\n",
       "\tFerrari Dino & 19.7  & 6     & 145.0 & 175   & 3.62  & 2.770 & 15.50 & 1     & 6    \\\\\n",
       "\tMaserati Bora & 15.0  & 8     & 301.0 & 335   & 3.54  & 3.570 & 14.60 & 1     & 8    \\\\\n",
       "\tVolvo 142E & 21.4  & 4     & 121.0 & 109   & 4.11  & 2.780 & 18.60 & 1     & 2    \\\\\n",
       "\\end{tabular}\n"
      ],
      "text/markdown": [
       "\n",
       "| <!--/--> | mpg | cyl | disp | hp | drat | wt | qsec | am | carb |\n",
       "|---|---|---|---|---|---|---|---|---|---|\n",
       "| Mazda RX4 | 21.0  | 6     | 160.0 | 110   | 3.90  | 2.620 | 16.46 | 1     | 4     |\n",
       "| Mazda RX4 Wag | 21.0  | 6     | 160.0 | 110   | 3.90  | 2.875 | 17.02 | 1     | 4     |\n",
       "| Datsun 710 | 22.8  | 4     | 108.0 |  93   | 3.85  | 2.320 | 18.61 | 1     | 1     |\n",
       "| Hornet 4 Drive | 21.4  | 6     | 258.0 | 110   | 3.08  | 3.215 | 19.44 | 0     | 1     |\n",
       "| Hornet Sportabout | 18.7  | 8     | 360.0 | 175   | 3.15  | 3.440 | 17.02 | 0     | 2     |\n",
       "| Valiant | 18.1  | 6     | 225.0 | 105   | 2.76  | 3.460 | 20.22 | 0     | 1     |\n",
       "| Duster 360 | 14.3  | 8     | 360.0 | 245   | 3.21  | 3.570 | 15.84 | 0     | 4     |\n",
       "| Merc 240D | 24.4  | 4     | 146.7 |  62   | 3.69  | 3.190 | 20.00 | 0     | 2     |\n",
       "| Merc 230 | 22.8  | 4     | 140.8 |  95   | 3.92  | 3.150 | 22.90 | 0     | 2     |\n",
       "| Merc 280 | 19.2  | 6     | 167.6 | 123   | 3.92  | 3.440 | 18.30 | 0     | 4     |\n",
       "| Merc 280C | 17.8  | 6     | 167.6 | 123   | 3.92  | 3.440 | 18.90 | 0     | 4     |\n",
       "| Merc 450SE | 16.4  | 8     | 275.8 | 180   | 3.07  | 4.070 | 17.40 | 0     | 3     |\n",
       "| Merc 450SL | 17.3  | 8     | 275.8 | 180   | 3.07  | 3.730 | 17.60 | 0     | 3     |\n",
       "| Merc 450SLC | 15.2  | 8     | 275.8 | 180   | 3.07  | 3.780 | 18.00 | 0     | 3     |\n",
       "| Cadillac Fleetwood | 10.4  | 8     | 472.0 | 205   | 2.93  | 5.250 | 17.98 | 0     | 4     |\n",
       "| Lincoln Continental | 10.4  | 8     | 460.0 | 215   | 3.00  | 5.424 | 17.82 | 0     | 4     |\n",
       "| Chrysler Imperial | 14.7  | 8     | 440.0 | 230   | 3.23  | 5.345 | 17.42 | 0     | 4     |\n",
       "| Fiat 128 | 32.4  | 4     |  78.7 |  66   | 4.08  | 2.200 | 19.47 | 1     | 1     |\n",
       "| Honda Civic | 30.4  | 4     |  75.7 |  52   | 4.93  | 1.615 | 18.52 | 1     | 2     |\n",
       "| Toyota Corolla | 33.9  | 4     |  71.1 |  65   | 4.22  | 1.835 | 19.90 | 1     | 1     |\n",
       "| Toyota Corona | 21.5  | 4     | 120.1 |  97   | 3.70  | 2.465 | 20.01 | 0     | 1     |\n",
       "| Dodge Challenger | 15.5  | 8     | 318.0 | 150   | 2.76  | 3.520 | 16.87 | 0     | 2     |\n",
       "| AMC Javelin | 15.2  | 8     | 304.0 | 150   | 3.15  | 3.435 | 17.30 | 0     | 2     |\n",
       "| Camaro Z28 | 13.3  | 8     | 350.0 | 245   | 3.73  | 3.840 | 15.41 | 0     | 4     |\n",
       "| Pontiac Firebird | 19.2  | 8     | 400.0 | 175   | 3.08  | 3.845 | 17.05 | 0     | 2     |\n",
       "| Fiat X1-9 | 27.3  | 4     |  79.0 |  66   | 4.08  | 1.935 | 18.90 | 1     | 1     |\n",
       "| Porsche 914-2 | 26.0  | 4     | 120.3 |  91   | 4.43  | 2.140 | 16.70 | 1     | 2     |\n",
       "| Lotus Europa | 30.4  | 4     |  95.1 | 113   | 3.77  | 1.513 | 16.90 | 1     | 2     |\n",
       "| Ford Pantera L | 15.8  | 8     | 351.0 | 264   | 4.22  | 3.170 | 14.50 | 1     | 4     |\n",
       "| Ferrari Dino | 19.7  | 6     | 145.0 | 175   | 3.62  | 2.770 | 15.50 | 1     | 6     |\n",
       "| Maserati Bora | 15.0  | 8     | 301.0 | 335   | 3.54  | 3.570 | 14.60 | 1     | 8     |\n",
       "| Volvo 142E | 21.4  | 4     | 121.0 | 109   | 4.11  | 2.780 | 18.60 | 1     | 2     |\n",
       "\n"
      ],
      "text/plain": [
       "                    mpg  cyl disp  hp  drat wt    qsec  am carb\n",
       "Mazda RX4           21.0 6   160.0 110 3.90 2.620 16.46 1  4   \n",
       "Mazda RX4 Wag       21.0 6   160.0 110 3.90 2.875 17.02 1  4   \n",
       "Datsun 710          22.8 4   108.0  93 3.85 2.320 18.61 1  1   \n",
       "Hornet 4 Drive      21.4 6   258.0 110 3.08 3.215 19.44 0  1   \n",
       "Hornet Sportabout   18.7 8   360.0 175 3.15 3.440 17.02 0  2   \n",
       "Valiant             18.1 6   225.0 105 2.76 3.460 20.22 0  1   \n",
       "Duster 360          14.3 8   360.0 245 3.21 3.570 15.84 0  4   \n",
       "Merc 240D           24.4 4   146.7  62 3.69 3.190 20.00 0  2   \n",
       "Merc 230            22.8 4   140.8  95 3.92 3.150 22.90 0  2   \n",
       "Merc 280            19.2 6   167.6 123 3.92 3.440 18.30 0  4   \n",
       "Merc 280C           17.8 6   167.6 123 3.92 3.440 18.90 0  4   \n",
       "Merc 450SE          16.4 8   275.8 180 3.07 4.070 17.40 0  3   \n",
       "Merc 450SL          17.3 8   275.8 180 3.07 3.730 17.60 0  3   \n",
       "Merc 450SLC         15.2 8   275.8 180 3.07 3.780 18.00 0  3   \n",
       "Cadillac Fleetwood  10.4 8   472.0 205 2.93 5.250 17.98 0  4   \n",
       "Lincoln Continental 10.4 8   460.0 215 3.00 5.424 17.82 0  4   \n",
       "Chrysler Imperial   14.7 8   440.0 230 3.23 5.345 17.42 0  4   \n",
       "Fiat 128            32.4 4    78.7  66 4.08 2.200 19.47 1  1   \n",
       "Honda Civic         30.4 4    75.7  52 4.93 1.615 18.52 1  2   \n",
       "Toyota Corolla      33.9 4    71.1  65 4.22 1.835 19.90 1  1   \n",
       "Toyota Corona       21.5 4   120.1  97 3.70 2.465 20.01 0  1   \n",
       "Dodge Challenger    15.5 8   318.0 150 2.76 3.520 16.87 0  2   \n",
       "AMC Javelin         15.2 8   304.0 150 3.15 3.435 17.30 0  2   \n",
       "Camaro Z28          13.3 8   350.0 245 3.73 3.840 15.41 0  4   \n",
       "Pontiac Firebird    19.2 8   400.0 175 3.08 3.845 17.05 0  2   \n",
       "Fiat X1-9           27.3 4    79.0  66 4.08 1.935 18.90 1  1   \n",
       "Porsche 914-2       26.0 4   120.3  91 4.43 2.140 16.70 1  2   \n",
       "Lotus Europa        30.4 4    95.1 113 3.77 1.513 16.90 1  2   \n",
       "Ford Pantera L      15.8 8   351.0 264 4.22 3.170 14.50 1  4   \n",
       "Ferrari Dino        19.7 6   145.0 175 3.62 2.770 15.50 1  6   \n",
       "Maserati Bora       15.0 8   301.0 335 3.54 3.570 14.60 1  8   \n",
       "Volvo 142E          21.4 4   121.0 109 4.11 2.780 18.60 1  2   "
      ]
     },
     "metadata": {},
     "output_type": "display_data"
    }
   ],
   "source": [
    "df <- mtcars\n",
    "# give all the column names to be dropped in the vector drop\n",
    "drops <- c('gear', 'vs')\n",
    "df[,!colnames(df) %in% drops]"
   ]
  },
  {
   "cell_type": "markdown",
   "metadata": {},
   "source": [
    "#### Deleting a Row(s)"
   ]
  },
  {
   "cell_type": "code",
   "execution_count": 92,
   "metadata": {},
   "outputs": [
    {
     "data": {
      "text/html": [
       "<table>\n",
       "<thead><tr><th></th><th scope=col>mpg</th><th scope=col>cyl</th><th scope=col>disp</th><th scope=col>hp</th><th scope=col>drat</th><th scope=col>wt</th><th scope=col>qsec</th><th scope=col>vs</th><th scope=col>am</th><th scope=col>gear</th><th scope=col>carb</th></tr></thead>\n",
       "<tbody>\n",
       "\t<tr><th scope=row>Mazda RX4</th><td>21.0 </td><td>6    </td><td>160  </td><td>110  </td><td>3.90 </td><td>2.620</td><td>16.46</td><td>0    </td><td>1    </td><td>4    </td><td>4    </td></tr>\n",
       "\t<tr><th scope=row>Datsun 710</th><td>22.8 </td><td>4    </td><td>108  </td><td> 93  </td><td>3.85 </td><td>2.320</td><td>18.61</td><td>1    </td><td>1    </td><td>4    </td><td>1    </td></tr>\n",
       "\t<tr><th scope=row>Hornet 4 Drive</th><td>21.4 </td><td>6    </td><td>258  </td><td>110  </td><td>3.08 </td><td>3.215</td><td>19.44</td><td>1    </td><td>0    </td><td>3    </td><td>1    </td></tr>\n",
       "\t<tr><th scope=row>Hornet Sportabout</th><td>18.7 </td><td>8    </td><td>360  </td><td>175  </td><td>3.15 </td><td>3.440</td><td>17.02</td><td>0    </td><td>0    </td><td>3    </td><td>2    </td></tr>\n",
       "\t<tr><th scope=row>Valiant</th><td>18.1 </td><td>6    </td><td>225  </td><td>105  </td><td>2.76 </td><td>3.460</td><td>20.22</td><td>1    </td><td>0    </td><td>3    </td><td>1    </td></tr>\n",
       "\t<tr><th scope=row>Duster 360</th><td>14.3 </td><td>8    </td><td>360  </td><td>245  </td><td>3.21 </td><td>3.570</td><td>15.84</td><td>0    </td><td>0    </td><td>3    </td><td>4    </td></tr>\n",
       "</tbody>\n",
       "</table>\n"
      ],
      "text/latex": [
       "\\begin{tabular}{r|lllllllllll}\n",
       "  & mpg & cyl & disp & hp & drat & wt & qsec & vs & am & gear & carb\\\\\n",
       "\\hline\n",
       "\tMazda RX4 & 21.0  & 6     & 160   & 110   & 3.90  & 2.620 & 16.46 & 0     & 1     & 4     & 4    \\\\\n",
       "\tDatsun 710 & 22.8  & 4     & 108   &  93   & 3.85  & 2.320 & 18.61 & 1     & 1     & 4     & 1    \\\\\n",
       "\tHornet 4 Drive & 21.4  & 6     & 258   & 110   & 3.08  & 3.215 & 19.44 & 1     & 0     & 3     & 1    \\\\\n",
       "\tHornet Sportabout & 18.7  & 8     & 360   & 175   & 3.15  & 3.440 & 17.02 & 0     & 0     & 3     & 2    \\\\\n",
       "\tValiant & 18.1  & 6     & 225   & 105   & 2.76  & 3.460 & 20.22 & 1     & 0     & 3     & 1    \\\\\n",
       "\tDuster 360 & 14.3  & 8     & 360   & 245   & 3.21  & 3.570 & 15.84 & 0     & 0     & 3     & 4    \\\\\n",
       "\\end{tabular}\n"
      ],
      "text/markdown": [
       "\n",
       "| <!--/--> | mpg | cyl | disp | hp | drat | wt | qsec | vs | am | gear | carb |\n",
       "|---|---|---|---|---|---|---|---|---|---|---|---|\n",
       "| Mazda RX4 | 21.0  | 6     | 160   | 110   | 3.90  | 2.620 | 16.46 | 0     | 1     | 4     | 4     |\n",
       "| Datsun 710 | 22.8  | 4     | 108   |  93   | 3.85  | 2.320 | 18.61 | 1     | 1     | 4     | 1     |\n",
       "| Hornet 4 Drive | 21.4  | 6     | 258   | 110   | 3.08  | 3.215 | 19.44 | 1     | 0     | 3     | 1     |\n",
       "| Hornet Sportabout | 18.7  | 8     | 360   | 175   | 3.15  | 3.440 | 17.02 | 0     | 0     | 3     | 2     |\n",
       "| Valiant | 18.1  | 6     | 225   | 105   | 2.76  | 3.460 | 20.22 | 1     | 0     | 3     | 1     |\n",
       "| Duster 360 | 14.3  | 8     | 360   | 245   | 3.21  | 3.570 | 15.84 | 0     | 0     | 3     | 4     |\n",
       "\n"
      ],
      "text/plain": [
       "                  mpg  cyl disp hp  drat wt    qsec  vs am gear carb\n",
       "Mazda RX4         21.0 6   160  110 3.90 2.620 16.46 0  1  4    4   \n",
       "Datsun 710        22.8 4   108   93 3.85 2.320 18.61 1  1  4    1   \n",
       "Hornet 4 Drive    21.4 6   258  110 3.08 3.215 19.44 1  0  3    1   \n",
       "Hornet Sportabout 18.7 8   360  175 3.15 3.440 17.02 0  0  3    2   \n",
       "Valiant           18.1 6   225  105 2.76 3.460 20.22 1  0  3    1   \n",
       "Duster 360        14.3 8   360  245 3.21 3.570 15.84 0  0  3    4   "
      ]
     },
     "metadata": {},
     "output_type": "display_data"
    }
   ],
   "source": [
    "# Deleting a row with index number 2\n",
    "head(df[-c(2),])"
   ]
  },
  {
   "cell_type": "code",
   "execution_count": 93,
   "metadata": {},
   "outputs": [
    {
     "data": {
      "text/html": [
       "<table>\n",
       "<thead><tr><th></th><th scope=col>mpg</th><th scope=col>cyl</th><th scope=col>disp</th><th scope=col>hp</th><th scope=col>drat</th><th scope=col>wt</th><th scope=col>qsec</th><th scope=col>vs</th><th scope=col>am</th><th scope=col>gear</th><th scope=col>carb</th></tr></thead>\n",
       "<tbody>\n",
       "\t<tr><th scope=row>Mazda RX4 Wag</th><td>21.0 </td><td>6    </td><td>160.0</td><td>110  </td><td>3.90 </td><td>2.875</td><td>17.02</td><td>0    </td><td>1    </td><td>4    </td><td>4    </td></tr>\n",
       "\t<tr><th scope=row>Hornet 4 Drive</th><td>21.4 </td><td>6    </td><td>258.0</td><td>110  </td><td>3.08 </td><td>3.215</td><td>19.44</td><td>1    </td><td>0    </td><td>3    </td><td>1    </td></tr>\n",
       "\t<tr><th scope=row>Hornet Sportabout</th><td>18.7 </td><td>8    </td><td>360.0</td><td>175  </td><td>3.15 </td><td>3.440</td><td>17.02</td><td>0    </td><td>0    </td><td>3    </td><td>2    </td></tr>\n",
       "\t<tr><th scope=row>Valiant</th><td>18.1 </td><td>6    </td><td>225.0</td><td>105  </td><td>2.76 </td><td>3.460</td><td>20.22</td><td>1    </td><td>0    </td><td>3    </td><td>1    </td></tr>\n",
       "\t<tr><th scope=row>Duster 360</th><td>14.3 </td><td>8    </td><td>360.0</td><td>245  </td><td>3.21 </td><td>3.570</td><td>15.84</td><td>0    </td><td>0    </td><td>3    </td><td>4    </td></tr>\n",
       "\t<tr><th scope=row>Merc 240D</th><td>24.4 </td><td>4    </td><td>146.7</td><td> 62  </td><td>3.69 </td><td>3.190</td><td>20.00</td><td>1    </td><td>0    </td><td>4    </td><td>2    </td></tr>\n",
       "</tbody>\n",
       "</table>\n"
      ],
      "text/latex": [
       "\\begin{tabular}{r|lllllllllll}\n",
       "  & mpg & cyl & disp & hp & drat & wt & qsec & vs & am & gear & carb\\\\\n",
       "\\hline\n",
       "\tMazda RX4 Wag & 21.0  & 6     & 160.0 & 110   & 3.90  & 2.875 & 17.02 & 0     & 1     & 4     & 4    \\\\\n",
       "\tHornet 4 Drive & 21.4  & 6     & 258.0 & 110   & 3.08  & 3.215 & 19.44 & 1     & 0     & 3     & 1    \\\\\n",
       "\tHornet Sportabout & 18.7  & 8     & 360.0 & 175   & 3.15  & 3.440 & 17.02 & 0     & 0     & 3     & 2    \\\\\n",
       "\tValiant & 18.1  & 6     & 225.0 & 105   & 2.76  & 3.460 & 20.22 & 1     & 0     & 3     & 1    \\\\\n",
       "\tDuster 360 & 14.3  & 8     & 360.0 & 245   & 3.21  & 3.570 & 15.84 & 0     & 0     & 3     & 4    \\\\\n",
       "\tMerc 240D & 24.4  & 4     & 146.7 &  62   & 3.69  & 3.190 & 20.00 & 1     & 0     & 4     & 2    \\\\\n",
       "\\end{tabular}\n"
      ],
      "text/markdown": [
       "\n",
       "| <!--/--> | mpg | cyl | disp | hp | drat | wt | qsec | vs | am | gear | carb |\n",
       "|---|---|---|---|---|---|---|---|---|---|---|---|\n",
       "| Mazda RX4 Wag | 21.0  | 6     | 160.0 | 110   | 3.90  | 2.875 | 17.02 | 0     | 1     | 4     | 4     |\n",
       "| Hornet 4 Drive | 21.4  | 6     | 258.0 | 110   | 3.08  | 3.215 | 19.44 | 1     | 0     | 3     | 1     |\n",
       "| Hornet Sportabout | 18.7  | 8     | 360.0 | 175   | 3.15  | 3.440 | 17.02 | 0     | 0     | 3     | 2     |\n",
       "| Valiant | 18.1  | 6     | 225.0 | 105   | 2.76  | 3.460 | 20.22 | 1     | 0     | 3     | 1     |\n",
       "| Duster 360 | 14.3  | 8     | 360.0 | 245   | 3.21  | 3.570 | 15.84 | 0     | 0     | 3     | 4     |\n",
       "| Merc 240D | 24.4  | 4     | 146.7 |  62   | 3.69  | 3.190 | 20.00 | 1     | 0     | 4     | 2     |\n",
       "\n"
      ],
      "text/plain": [
       "                  mpg  cyl disp  hp  drat wt    qsec  vs am gear carb\n",
       "Mazda RX4 Wag     21.0 6   160.0 110 3.90 2.875 17.02 0  1  4    4   \n",
       "Hornet 4 Drive    21.4 6   258.0 110 3.08 3.215 19.44 1  0  3    1   \n",
       "Hornet Sportabout 18.7 8   360.0 175 3.15 3.440 17.02 0  0  3    2   \n",
       "Valiant           18.1 6   225.0 105 2.76 3.460 20.22 1  0  3    1   \n",
       "Duster 360        14.3 8   360.0 245 3.21 3.570 15.84 0  0  3    4   \n",
       "Merc 240D         24.4 4   146.7  62 3.69 3.190 20.00 1  0  4    2   "
      ]
     },
     "metadata": {},
     "output_type": "display_data"
    }
   ],
   "source": [
    "# Delete a row named Datsun 710\n",
    "remove_rows <- c(\"Datsun 710\", \"Mazda RX4\")\n",
    "head(df[ !(rownames(df) %in% remove_rows), ])"
   ]
  },
  {
   "cell_type": "code",
   "execution_count": null,
   "metadata": {},
   "outputs": [],
   "source": []
  },
  {
   "cell_type": "code",
   "execution_count": null,
   "metadata": {},
   "outputs": [],
   "source": []
  }
 ],
 "metadata": {
  "kernelspec": {
   "display_name": "R",
   "language": "R",
   "name": "ir"
  },
  "language_info": {
   "codemirror_mode": "r",
   "file_extension": ".r",
   "mimetype": "text/x-r-source",
   "name": "R",
   "pygments_lexer": "r",
   "version": "3.6.0"
  }
 },
 "nbformat": 4,
 "nbformat_minor": 2
}
