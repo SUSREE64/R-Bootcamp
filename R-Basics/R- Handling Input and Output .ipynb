{
 "cells": [
  {
   "cell_type": "markdown",
   "metadata": {},
   "source": [
    "#### Reading from Keyboard input at a prompt\n",
    "> - readline() readline reads a line from the terminal (in interactive use).\n"
   ]
  },
  {
   "cell_type": "code",
   "execution_count": 7,
   "metadata": {},
   "outputs": [
    {
     "name": "stdout",
     "output_type": "stream",
     "text": [
      "Please enter your name: sreeni\n"
     ]
    }
   ],
   "source": [
    "my.name <- readline('Please enter your name: ')\n"
   ]
  },
  {
   "cell_type": "code",
   "execution_count": 8,
   "metadata": {},
   "outputs": [
    {
     "name": "stdout",
     "output_type": "stream",
     "text": [
      "[1] \"sreeni\"\n"
     ]
    }
   ],
   "source": [
    "print(my.name)\n"
   ]
  },
  {
   "cell_type": "code",
   "execution_count": 9,
   "metadata": {},
   "outputs": [
    {
     "name": "stdout",
     "output_type": "stream",
     "text": [
      "Please enter your age :43\n"
     ]
    }
   ],
   "source": [
    "my.age <- readline('Please enter your age :')\n",
    "my.age <- as.integer(my.age)\n"
   ]
  },
  {
   "cell_type": "code",
   "execution_count": 10,
   "metadata": {},
   "outputs": [
    {
     "name": "stdout",
     "output_type": "stream",
     "text": [
      "[1] 43\n"
     ]
    }
   ],
   "source": [
    "print(my.age)"
   ]
  },
  {
   "cell_type": "markdown",
   "metadata": {},
   "source": [
    "#### Reading form files\n",
    "> - Reading from .csv files\n",
    "> - Reading from .txt files\n",
    "> - Reading from xls files"
   ]
  },
  {
   "cell_type": "code",
   "execution_count": 1,
   "metadata": {},
   "outputs": [],
   "source": [
    "# first create a csv file from mtcars in the working directory\n",
    "write.csv(mtcars, file = 'myexample.csv')"
   ]
  },
  {
   "cell_type": "code",
   "execution_count": 5,
   "metadata": {},
   "outputs": [
    {
     "data": {
      "text/html": [
       "'G:/R-Boot Camp/R-Bootcamp/R-Basics'"
      ],
      "text/latex": [
       "'G:/R-Boot Camp/R-Bootcamp/R-Basics'"
      ],
      "text/markdown": [
       "'G:/R-Boot Camp/R-Bootcamp/R-Basics'"
      ],
      "text/plain": [
       "[1] \"G:/R-Boot Camp/R-Bootcamp/R-Basics\""
      ]
     },
     "metadata": {},
     "output_type": "display_data"
    }
   ],
   "source": [
    "# to know the working directory\n",
    "getwd()\n"
   ]
  },
  {
   "cell_type": "code",
   "execution_count": 7,
   "metadata": {},
   "outputs": [
    {
     "data": {
      "text/html": [
       "<ol class=list-inline>\n",
       "\t<li>'myexample.csv'</li>\n",
       "\t<li>'R- Basic Data types.ipynb'</li>\n",
       "\t<li>'R- Data Frames Common Operations.ipynb'</li>\n",
       "\t<li>'R- Handling Input and Output .ipynb'</li>\n",
       "\t<li>'R-Basic arithmetic.R'</li>\n",
       "\t<li>'R-Basic Datatypes.R'</li>\n",
       "\t<li>'R-Built in Functions.ipynb'</li>\n",
       "\t<li>'R-DataFrames.ipynb'</li>\n",
       "\t<li>'R-Matrices Basics.R'</li>\n",
       "\t<li>'R-Resources.ipynb'</li>\n",
       "\t<li>'R-Standard Functions.ipynb'</li>\n",
       "\t<li>'R-Variables.R'</li>\n",
       "\t<li>'R-Vector Basics.R'</li>\n",
       "\t<li>'R-Vector operations.R'</li>\n",
       "\t<li>'R - Factors and Categorical Elements.ipynb'</li>\n",
       "\t<li>'R - Matrices .ipynb'</li>\n",
       "</ol>\n"
      ],
      "text/latex": [
       "\\begin{enumerate*}\n",
       "\\item 'myexample.csv'\n",
       "\\item 'R- Basic Data types.ipynb'\n",
       "\\item 'R- Data Frames Common Operations.ipynb'\n",
       "\\item 'R- Handling Input and Output .ipynb'\n",
       "\\item 'R-Basic arithmetic.R'\n",
       "\\item 'R-Basic Datatypes.R'\n",
       "\\item 'R-Built in Functions.ipynb'\n",
       "\\item 'R-DataFrames.ipynb'\n",
       "\\item 'R-Matrices Basics.R'\n",
       "\\item 'R-Resources.ipynb'\n",
       "\\item 'R-Standard Functions.ipynb'\n",
       "\\item 'R-Variables.R'\n",
       "\\item 'R-Vector Basics.R'\n",
       "\\item 'R-Vector operations.R'\n",
       "\\item 'R - Factors and Categorical Elements.ipynb'\n",
       "\\item 'R - Matrices .ipynb'\n",
       "\\end{enumerate*}\n"
      ],
      "text/markdown": [
       "1. 'myexample.csv'\n",
       "2. 'R- Basic Data types.ipynb'\n",
       "3. 'R- Data Frames Common Operations.ipynb'\n",
       "4. 'R- Handling Input and Output .ipynb'\n",
       "5. 'R-Basic arithmetic.R'\n",
       "6. 'R-Basic Datatypes.R'\n",
       "7. 'R-Built in Functions.ipynb'\n",
       "8. 'R-DataFrames.ipynb'\n",
       "9. 'R-Matrices Basics.R'\n",
       "10. 'R-Resources.ipynb'\n",
       "11. 'R-Standard Functions.ipynb'\n",
       "12. 'R-Variables.R'\n",
       "13. 'R-Vector Basics.R'\n",
       "14. 'R-Vector operations.R'\n",
       "15. 'R - Factors and Categorical Elements.ipynb'\n",
       "16. 'R - Matrices .ipynb'\n",
       "\n",
       "\n"
      ],
      "text/plain": [
       " [1] \"myexample.csv\"                             \n",
       " [2] \"R- Basic Data types.ipynb\"                 \n",
       " [3] \"R- Data Frames Common Operations.ipynb\"    \n",
       " [4] \"R- Handling Input and Output .ipynb\"       \n",
       " [5] \"R-Basic arithmetic.R\"                      \n",
       " [6] \"R-Basic Datatypes.R\"                       \n",
       " [7] \"R-Built in Functions.ipynb\"                \n",
       " [8] \"R-DataFrames.ipynb\"                        \n",
       " [9] \"R-Matrices Basics.R\"                       \n",
       "[10] \"R-Resources.ipynb\"                         \n",
       "[11] \"R-Standard Functions.ipynb\"                \n",
       "[12] \"R-Variables.R\"                             \n",
       "[13] \"R-Vector Basics.R\"                         \n",
       "[14] \"R-Vector operations.R\"                     \n",
       "[15] \"R - Factors and Categorical Elements.ipynb\"\n",
       "[16] \"R - Matrices .ipynb\"                       "
      ]
     },
     "metadata": {},
     "output_type": "display_data"
    }
   ],
   "source": [
    "list.files(path='G:/R-Boot Camp/R-Bootcamp/R-Basics')"
   ]
  },
  {
   "cell_type": "code",
   "execution_count": 8,
   "metadata": {},
   "outputs": [],
   "source": [
    "# We could see the myexample.csv is created successfully"
   ]
  },
  {
   "cell_type": "markdown",
   "metadata": {},
   "source": [
    "> - Reading from .csv files\n"
   ]
  },
  {
   "cell_type": "code",
   "execution_count": 9,
   "metadata": {},
   "outputs": [],
   "source": [
    "newdf <- read.csv(file = 'myexample.csv')"
   ]
  },
  {
   "cell_type": "code",
   "execution_count": 10,
   "metadata": {},
   "outputs": [
    {
     "data": {
      "text/html": [
       "<table>\n",
       "<thead><tr><th scope=col>X</th><th scope=col>mpg</th><th scope=col>cyl</th><th scope=col>disp</th><th scope=col>hp</th><th scope=col>drat</th><th scope=col>wt</th><th scope=col>qsec</th><th scope=col>vs</th><th scope=col>am</th><th scope=col>gear</th><th scope=col>carb</th></tr></thead>\n",
       "<tbody>\n",
       "\t<tr><td>Mazda RX4        </td><td>21.0             </td><td>6                </td><td>160              </td><td>110              </td><td>3.90             </td><td>2.620            </td><td>16.46            </td><td>0                </td><td>1                </td><td>4                </td><td>4                </td></tr>\n",
       "\t<tr><td>Mazda RX4 Wag    </td><td>21.0             </td><td>6                </td><td>160              </td><td>110              </td><td>3.90             </td><td>2.875            </td><td>17.02            </td><td>0                </td><td>1                </td><td>4                </td><td>4                </td></tr>\n",
       "\t<tr><td>Datsun 710       </td><td>22.8             </td><td>4                </td><td>108              </td><td> 93              </td><td>3.85             </td><td>2.320            </td><td>18.61            </td><td>1                </td><td>1                </td><td>4                </td><td>1                </td></tr>\n",
       "\t<tr><td>Hornet 4 Drive   </td><td>21.4             </td><td>6                </td><td>258              </td><td>110              </td><td>3.08             </td><td>3.215            </td><td>19.44            </td><td>1                </td><td>0                </td><td>3                </td><td>1                </td></tr>\n",
       "\t<tr><td>Hornet Sportabout</td><td>18.7             </td><td>8                </td><td>360              </td><td>175              </td><td>3.15             </td><td>3.440            </td><td>17.02            </td><td>0                </td><td>0                </td><td>3                </td><td>2                </td></tr>\n",
       "\t<tr><td>Valiant          </td><td>18.1             </td><td>6                </td><td>225              </td><td>105              </td><td>2.76             </td><td>3.460            </td><td>20.22            </td><td>1                </td><td>0                </td><td>3                </td><td>1                </td></tr>\n",
       "</tbody>\n",
       "</table>\n"
      ],
      "text/latex": [
       "\\begin{tabular}{r|llllllllllll}\n",
       " X & mpg & cyl & disp & hp & drat & wt & qsec & vs & am & gear & carb\\\\\n",
       "\\hline\n",
       "\t Mazda RX4         & 21.0              & 6                 & 160               & 110               & 3.90              & 2.620             & 16.46             & 0                 & 1                 & 4                 & 4                \\\\\n",
       "\t Mazda RX4 Wag     & 21.0              & 6                 & 160               & 110               & 3.90              & 2.875             & 17.02             & 0                 & 1                 & 4                 & 4                \\\\\n",
       "\t Datsun 710        & 22.8              & 4                 & 108               &  93               & 3.85              & 2.320             & 18.61             & 1                 & 1                 & 4                 & 1                \\\\\n",
       "\t Hornet 4 Drive    & 21.4              & 6                 & 258               & 110               & 3.08              & 3.215             & 19.44             & 1                 & 0                 & 3                 & 1                \\\\\n",
       "\t Hornet Sportabout & 18.7              & 8                 & 360               & 175               & 3.15              & 3.440             & 17.02             & 0                 & 0                 & 3                 & 2                \\\\\n",
       "\t Valiant           & 18.1              & 6                 & 225               & 105               & 2.76              & 3.460             & 20.22             & 1                 & 0                 & 3                 & 1                \\\\\n",
       "\\end{tabular}\n"
      ],
      "text/markdown": [
       "\n",
       "| X | mpg | cyl | disp | hp | drat | wt | qsec | vs | am | gear | carb |\n",
       "|---|---|---|---|---|---|---|---|---|---|---|---|\n",
       "| Mazda RX4         | 21.0              | 6                 | 160               | 110               | 3.90              | 2.620             | 16.46             | 0                 | 1                 | 4                 | 4                 |\n",
       "| Mazda RX4 Wag     | 21.0              | 6                 | 160               | 110               | 3.90              | 2.875             | 17.02             | 0                 | 1                 | 4                 | 4                 |\n",
       "| Datsun 710        | 22.8              | 4                 | 108               |  93               | 3.85              | 2.320             | 18.61             | 1                 | 1                 | 4                 | 1                 |\n",
       "| Hornet 4 Drive    | 21.4              | 6                 | 258               | 110               | 3.08              | 3.215             | 19.44             | 1                 | 0                 | 3                 | 1                 |\n",
       "| Hornet Sportabout | 18.7              | 8                 | 360               | 175               | 3.15              | 3.440             | 17.02             | 0                 | 0                 | 3                 | 2                 |\n",
       "| Valiant           | 18.1              | 6                 | 225               | 105               | 2.76              | 3.460             | 20.22             | 1                 | 0                 | 3                 | 1                 |\n",
       "\n"
      ],
      "text/plain": [
       "  X                 mpg  cyl disp hp  drat wt    qsec  vs am gear carb\n",
       "1 Mazda RX4         21.0 6   160  110 3.90 2.620 16.46 0  1  4    4   \n",
       "2 Mazda RX4 Wag     21.0 6   160  110 3.90 2.875 17.02 0  1  4    4   \n",
       "3 Datsun 710        22.8 4   108   93 3.85 2.320 18.61 1  1  4    1   \n",
       "4 Hornet 4 Drive    21.4 6   258  110 3.08 3.215 19.44 1  0  3    1   \n",
       "5 Hornet Sportabout 18.7 8   360  175 3.15 3.440 17.02 0  0  3    2   \n",
       "6 Valiant           18.1 6   225  105 2.76 3.460 20.22 1  0  3    1   "
      ]
     },
     "metadata": {},
     "output_type": "display_data"
    }
   ],
   "source": [
    "head(newdf)"
   ]
  },
  {
   "cell_type": "markdown",
   "metadata": {},
   "source": [
    "> - Reading and writing to excel file"
   ]
  },
  {
   "cell_type": "code",
   "execution_count": 13,
   "metadata": {},
   "outputs": [],
   "source": [
    "# call the readxl file \n",
    "library(readxl)"
   ]
  },
  {
   "cell_type": "code",
   "execution_count": 16,
   "metadata": {},
   "outputs": [
    {
     "data": {
      "text/html": [
       "'Sheet1'"
      ],
      "text/latex": [
       "'Sheet1'"
      ],
      "text/markdown": [
       "'Sheet1'"
      ],
      "text/plain": [
       "[1] \"Sheet1\""
      ]
     },
     "metadata": {},
     "output_type": "display_data"
    }
   ],
   "source": [
    "# get the sheet names of excel file\n",
    "excel_sheets('Sample-Sales-Data.xlsx')"
   ]
  },
  {
   "cell_type": "code",
   "execution_count": 18,
   "metadata": {},
   "outputs": [],
   "source": [
    "# read the excel sheet to a dataframe\n",
    "df <- read_excel('Sample-Sales-Data.xlsx', sheet = 'Sheet1')"
   ]
  },
  {
   "cell_type": "code",
   "execution_count": 19,
   "metadata": {},
   "outputs": [
    {
     "data": {
      "text/html": [
       "<table>\n",
       "<thead><tr><th scope=col>Postcode</th><th scope=col>Sales_Rep_ID</th><th scope=col>Sales_Rep_Name</th><th scope=col>Year</th><th scope=col>Value</th></tr></thead>\n",
       "<tbody>\n",
       "\t<tr><td>2121    </td><td>456     </td><td>Jane    </td><td>2011    </td><td>84219.50</td></tr>\n",
       "\t<tr><td>2092    </td><td>789     </td><td>Ashish  </td><td>2012    </td><td>28322.19</td></tr>\n",
       "\t<tr><td>2128    </td><td>456     </td><td>Jane    </td><td>2013    </td><td>81879.00</td></tr>\n",
       "\t<tr><td>2073    </td><td>123     </td><td>John    </td><td>2011    </td><td>44491.14</td></tr>\n",
       "\t<tr><td>2134    </td><td>789     </td><td>Ashish  </td><td>2012    </td><td>71837.72</td></tr>\n",
       "\t<tr><td>2162    </td><td>123     </td><td>John    </td><td>2013    </td><td>64531.55</td></tr>\n",
       "</tbody>\n",
       "</table>\n"
      ],
      "text/latex": [
       "\\begin{tabular}{r|lllll}\n",
       " Postcode & Sales\\_Rep\\_ID & Sales\\_Rep\\_Name & Year & Value\\\\\n",
       "\\hline\n",
       "\t 2121     & 456      & Jane     & 2011     & 84219.50\\\\\n",
       "\t 2092     & 789      & Ashish   & 2012     & 28322.19\\\\\n",
       "\t 2128     & 456      & Jane     & 2013     & 81879.00\\\\\n",
       "\t 2073     & 123      & John     & 2011     & 44491.14\\\\\n",
       "\t 2134     & 789      & Ashish   & 2012     & 71837.72\\\\\n",
       "\t 2162     & 123      & John     & 2013     & 64531.55\\\\\n",
       "\\end{tabular}\n"
      ],
      "text/markdown": [
       "\n",
       "| Postcode | Sales_Rep_ID | Sales_Rep_Name | Year | Value |\n",
       "|---|---|---|---|---|\n",
       "| 2121     | 456      | Jane     | 2011     | 84219.50 |\n",
       "| 2092     | 789      | Ashish   | 2012     | 28322.19 |\n",
       "| 2128     | 456      | Jane     | 2013     | 81879.00 |\n",
       "| 2073     | 123      | John     | 2011     | 44491.14 |\n",
       "| 2134     | 789      | Ashish   | 2012     | 71837.72 |\n",
       "| 2162     | 123      | John     | 2013     | 64531.55 |\n",
       "\n"
      ],
      "text/plain": [
       "  Postcode Sales_Rep_ID Sales_Rep_Name Year Value   \n",
       "1 2121     456          Jane           2011 84219.50\n",
       "2 2092     789          Ashish         2012 28322.19\n",
       "3 2128     456          Jane           2013 81879.00\n",
       "4 2073     123          John           2011 44491.14\n",
       "5 2134     789          Ashish         2012 71837.72\n",
       "6 2162     123          John           2013 64531.55"
      ]
     },
     "metadata": {},
     "output_type": "display_data"
    }
   ],
   "source": [
    "head(df)"
   ]
  },
  {
   "cell_type": "code",
   "execution_count": 23,
   "metadata": {},
   "outputs": [
    {
     "name": "stderr",
     "output_type": "stream",
     "text": [
      "Installing package into 'C:/Users/sree/Documents/R/win-library/3.6'\n",
      "(as 'lib' is unspecified)\n",
      "also installing the dependencies 'rJava', 'xlsxjars'\n",
      "\n"
     ]
    },
    {
     "name": "stdout",
     "output_type": "stream",
     "text": [
      "package 'rJava' successfully unpacked and MD5 sums checked\n",
      "package 'xlsxjars' successfully unpacked and MD5 sums checked\n",
      "package 'xlsx' successfully unpacked and MD5 sums checked\n",
      "\n",
      "The downloaded binary packages are in\n",
      "\tC:\\Users\\sree\\AppData\\Local\\Temp\\RtmpgNQNza\\downloaded_packages\n"
     ]
    }
   ],
   "source": [
    "#writing xls files to system\n",
    "install.packages('xlsx')"
   ]
  },
  {
   "cell_type": "code",
   "execution_count": 24,
   "metadata": {},
   "outputs": [],
   "source": [
    "library(xlsx)"
   ]
  },
  {
   "cell_type": "code",
   "execution_count": null,
   "metadata": {},
   "outputs": [],
   "source": []
  }
 ],
 "metadata": {
  "kernelspec": {
   "display_name": "R",
   "language": "R",
   "name": "ir"
  },
  "language_info": {
   "codemirror_mode": "r",
   "file_extension": ".r",
   "mimetype": "text/x-r-source",
   "name": "R",
   "pygments_lexer": "r",
   "version": "3.6.0"
  }
 },
 "nbformat": 4,
 "nbformat_minor": 2
}
